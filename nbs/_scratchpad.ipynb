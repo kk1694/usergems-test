{
 "cells": [
  {
   "cell_type": "code",
   "execution_count": 50,
   "id": "b8764f54",
   "metadata": {},
   "outputs": [
    {
     "name": "stdout",
     "output_type": "stream",
     "text": [
      "The autoreload extension is already loaded. To reload it, use:\n",
      "  %reload_ext autoreload\n"
     ]
    }
   ],
   "source": [
    "%load_ext autoreload\n",
    "%autoreload 2"
   ]
  },
  {
   "cell_type": "code",
   "execution_count": 74,
   "id": "9af5d173",
   "metadata": {},
   "outputs": [],
   "source": [
    "import pandas as pd\n",
    "import json\n",
    "\n",
    "import re\n",
    "\n",
    "import asyncio\n",
    "from playwright.async_api import async_playwright\n",
    "import tqdm.asyncio"
   ]
  },
  {
   "cell_type": "markdown",
   "id": "3c1a9c40",
   "metadata": {},
   "source": [
    "# Subset to software"
   ]
  },
  {
   "cell_type": "code",
   "execution_count": 103,
   "id": "a2bde781",
   "metadata": {},
   "outputs": [],
   "source": [
    "df = pd.read_csv(\"./websites.csv\")"
   ]
  },
  {
   "cell_type": "code",
   "execution_count": 105,
   "id": "bc932831",
   "metadata": {},
   "outputs": [
    {
     "data": {
      "text/plain": [
       "66342"
      ]
     },
     "execution_count": 105,
     "metadata": {},
     "output_type": "execute_result"
    }
   ],
   "source": [
    "len(df)"
   ]
  },
  {
   "cell_type": "code",
   "execution_count": 104,
   "id": "72a10df4",
   "metadata": {},
   "outputs": [
    {
     "data": {
      "text/html": [
       "<div>\n",
       "<style scoped>\n",
       "    .dataframe tbody tr th:only-of-type {\n",
       "        vertical-align: middle;\n",
       "    }\n",
       "\n",
       "    .dataframe tbody tr th {\n",
       "        vertical-align: top;\n",
       "    }\n",
       "\n",
       "    .dataframe thead th {\n",
       "        text-align: right;\n",
       "    }\n",
       "</style>\n",
       "<table border=\"1\" class=\"dataframe\">\n",
       "  <thead>\n",
       "    <tr style=\"text-align: right;\">\n",
       "      <th></th>\n",
       "      <th>Unnamed: 0</th>\n",
       "      <th>CompanyName</th>\n",
       "      <th>Website</th>\n",
       "      <th>Specialties</th>\n",
       "      <th>Address</th>\n",
       "      <th>Industry</th>\n",
       "      <th>Unnamed: 6</th>\n",
       "    </tr>\n",
       "  </thead>\n",
       "  <tbody>\n",
       "    <tr>\n",
       "      <th>0</th>\n",
       "      <td>1543</td>\n",
       "      <td>Add*Ed</td>\n",
       "      <td>http://www.addedrg.ca</td>\n",
       "      <td>['autism' 'intellectual disability' 'teacher t...</td>\n",
       "      <td>{'city': 'Kingston', 'country': 'canada', 'cou...</td>\n",
       "      <td>Education Management</td>\n",
       "      <td>NaN</td>\n",
       "    </tr>\n",
       "    <tr>\n",
       "      <th>1</th>\n",
       "      <td>1952</td>\n",
       "      <td>Addison AG Tech, LP</td>\n",
       "      <td>http://www.AddisonFund.com</td>\n",
       "      <td>[]</td>\n",
       "      <td>{'city': 'Addison', 'country': 'united states'...</td>\n",
       "      <td>Financial Services</td>\n",
       "      <td>NaN</td>\n",
       "    </tr>\n",
       "  </tbody>\n",
       "</table>\n",
       "</div>"
      ],
      "text/plain": [
       "  Unnamed: 0          CompanyName                     Website  \\\n",
       "0       1543               Add*Ed       http://www.addedrg.ca   \n",
       "1       1952  Addison AG Tech, LP  http://www.AddisonFund.com   \n",
       "\n",
       "                                         Specialties  \\\n",
       "0  ['autism' 'intellectual disability' 'teacher t...   \n",
       "1                                                 []   \n",
       "\n",
       "                                             Address              Industry  \\\n",
       "0  {'city': 'Kingston', 'country': 'canada', 'cou...  Education Management   \n",
       "1  {'city': 'Addison', 'country': 'united states'...    Financial Services   \n",
       "\n",
       "  Unnamed: 6  \n",
       "0        NaN  \n",
       "1        NaN  "
      ]
     },
     "execution_count": 104,
     "metadata": {},
     "output_type": "execute_result"
    }
   ],
   "source": [
    "df.head(2)"
   ]
  },
  {
   "cell_type": "code",
   "execution_count": 4,
   "id": "398eee34",
   "metadata": {},
   "outputs": [
    {
     "data": {
      "text/html": [
       "<div>\n",
       "<style scoped>\n",
       "    .dataframe tbody tr th:only-of-type {\n",
       "        vertical-align: middle;\n",
       "    }\n",
       "\n",
       "    .dataframe tbody tr th {\n",
       "        vertical-align: top;\n",
       "    }\n",
       "\n",
       "    .dataframe thead th {\n",
       "        text-align: right;\n",
       "    }\n",
       "</style>\n",
       "<table border=\"1\" class=\"dataframe\">\n",
       "  <thead>\n",
       "    <tr style=\"text-align: right;\">\n",
       "      <th></th>\n",
       "      <th>Unnamed: 0</th>\n",
       "      <th>CompanyName</th>\n",
       "      <th>Website</th>\n",
       "      <th>Specialties</th>\n",
       "      <th>Address</th>\n",
       "      <th>Industry</th>\n",
       "      <th>Unnamed: 6</th>\n",
       "    </tr>\n",
       "  </thead>\n",
       "  <tbody>\n",
       "    <tr>\n",
       "      <th>66340</th>\n",
       "      <td>7404336</td>\n",
       "      <td>Wireframe Marketing</td>\n",
       "      <td>https://wireframemarketing.com</td>\n",
       "      <td>['SEO Services' 'Logo Design' 'Branding' 'Soci...</td>\n",
       "      <td>{'city': 'REXBURG', 'country': 'united states'...</td>\n",
       "      <td>Marketing &amp; Advertising</td>\n",
       "      <td>NaN</td>\n",
       "    </tr>\n",
       "    <tr>\n",
       "      <th>66341</th>\n",
       "      <td>7404394</td>\n",
       "      <td>Wirehound Networks</td>\n",
       "      <td>http://www.wirehoundnetworks.com</td>\n",
       "      <td>[]</td>\n",
       "      <td>{'city': 'Richfield', 'country': 'united state...</td>\n",
       "      <td>Computer &amp; Network Security</td>\n",
       "      <td>NaN</td>\n",
       "    </tr>\n",
       "  </tbody>\n",
       "</table>\n",
       "</div>"
      ],
      "text/plain": [
       "      Unnamed: 0          CompanyName                           Website  \\\n",
       "66340    7404336  Wireframe Marketing    https://wireframemarketing.com   \n",
       "66341    7404394   Wirehound Networks  http://www.wirehoundnetworks.com   \n",
       "\n",
       "                                             Specialties  \\\n",
       "66340  ['SEO Services' 'Logo Design' 'Branding' 'Soci...   \n",
       "66341                                                 []   \n",
       "\n",
       "                                                 Address  \\\n",
       "66340  {'city': 'REXBURG', 'country': 'united states'...   \n",
       "66341  {'city': 'Richfield', 'country': 'united state...   \n",
       "\n",
       "                          Industry Unnamed: 6  \n",
       "66340      Marketing & Advertising        NaN  \n",
       "66341  Computer & Network Security        NaN  "
      ]
     },
     "execution_count": 4,
     "metadata": {},
     "output_type": "execute_result"
    }
   ],
   "source": [
    "df.tail(2)"
   ]
  },
  {
   "cell_type": "code",
   "execution_count": 8,
   "id": "fd7ccae9",
   "metadata": {},
   "outputs": [
    {
     "data": {
      "text/plain": [
       "6548"
      ]
     },
     "execution_count": 8,
     "metadata": {},
     "output_type": "execute_result"
    }
   ],
   "source": [
    "df = df[df['Industry'] == 'Computer Software'].reset_index()\n",
    "len(df)"
   ]
  },
  {
   "cell_type": "code",
   "execution_count": 9,
   "id": "ec5a4906",
   "metadata": {},
   "outputs": [
    {
     "data": {
      "text/html": [
       "<div>\n",
       "<style scoped>\n",
       "    .dataframe tbody tr th:only-of-type {\n",
       "        vertical-align: middle;\n",
       "    }\n",
       "\n",
       "    .dataframe tbody tr th {\n",
       "        vertical-align: top;\n",
       "    }\n",
       "\n",
       "    .dataframe thead th {\n",
       "        text-align: right;\n",
       "    }\n",
       "</style>\n",
       "<table border=\"1\" class=\"dataframe\">\n",
       "  <thead>\n",
       "    <tr style=\"text-align: right;\">\n",
       "      <th></th>\n",
       "      <th>index</th>\n",
       "      <th>Unnamed: 0</th>\n",
       "      <th>CompanyName</th>\n",
       "      <th>Website</th>\n",
       "      <th>Specialties</th>\n",
       "      <th>Address</th>\n",
       "      <th>Industry</th>\n",
       "      <th>Unnamed: 6</th>\n",
       "    </tr>\n",
       "  </thead>\n",
       "  <tbody>\n",
       "    <tr>\n",
       "      <th>0</th>\n",
       "      <td>11</td>\n",
       "      <td>5314</td>\n",
       "      <td>Sawa Impact Labs</td>\n",
       "      <td>https://sawa.gallery/</td>\n",
       "      <td>[]</td>\n",
       "      <td>{'city': 'Stanford', 'country': 'united states...</td>\n",
       "      <td>Computer Software</td>\n",
       "      <td>NaN</td>\n",
       "    </tr>\n",
       "    <tr>\n",
       "      <th>1</th>\n",
       "      <td>19</td>\n",
       "      <td>5505</td>\n",
       "      <td>OpenMI at the University of Michigan</td>\n",
       "      <td>https://maizepages.umich.edu/organization/openmi</td>\n",
       "      <td>[]</td>\n",
       "      <td>{'city': 'Ann Arbor', 'country': 'united state...</td>\n",
       "      <td>Computer Software</td>\n",
       "      <td>NaN</td>\n",
       "    </tr>\n",
       "  </tbody>\n",
       "</table>\n",
       "</div>"
      ],
      "text/plain": [
       "   index Unnamed: 0                           CompanyName  \\\n",
       "0     11       5314                      Sawa Impact Labs   \n",
       "1     19       5505  OpenMI at the University of Michigan   \n",
       "\n",
       "                                            Website Specialties  \\\n",
       "0                             https://sawa.gallery/          []   \n",
       "1  https://maizepages.umich.edu/organization/openmi          []   \n",
       "\n",
       "                                             Address           Industry  \\\n",
       "0  {'city': 'Stanford', 'country': 'united states...  Computer Software   \n",
       "1  {'city': 'Ann Arbor', 'country': 'united state...  Computer Software   \n",
       "\n",
       "  Unnamed: 6  \n",
       "0        NaN  \n",
       "1        NaN  "
      ]
     },
     "execution_count": 9,
     "metadata": {},
     "output_type": "execute_result"
    }
   ],
   "source": [
    "df.head(2)"
   ]
  },
  {
   "cell_type": "code",
   "execution_count": 42,
   "id": "a04e6162",
   "metadata": {},
   "outputs": [],
   "source": [
    "def parse_single_quote_json(json_str):\n",
    "    json_str_fixed = json_str.replace(\"'\", '\"').replace(\"None\", \"null\")\n",
    "    try:\n",
    "        return json.loads(json_str_fixed)\n",
    "    except json.JSONDecodeError as e:\n",
    "        print(f\"Error parsing JSON: {e}\")\n",
    "        return None\n",
    "    \n",
    "def _get_country(_str):\n",
    "    x = parse_single_quote_json(_str)\n",
    "    if x is None:\n",
    "        return None\n",
    "    if 'country' not in x.keys():\n",
    "        return None\n",
    "    return x['country']\n",
    "    "
   ]
  },
  {
   "cell_type": "code",
   "execution_count": 43,
   "id": "e0cb49bd",
   "metadata": {},
   "outputs": [
    {
     "name": "stdout",
     "output_type": "stream",
     "text": [
      "Error parsing JSON: Expecting ',' delimiter: line 1 column 19 (char 18)\n",
      "Error parsing JSON: Expecting ',' delimiter: line 1 column 19 (char 18)\n",
      "Error parsing JSON: Invalid control character at: line 1 column 18 (char 17)\n",
      "Error parsing JSON: Expecting ',' delimiter: line 1 column 18 (char 17)\n",
      "Error parsing JSON: Expecting ',' delimiter: line 1 column 13 (char 12)\n",
      "Error parsing JSON: Invalid control character at: line 1 column 12 (char 11)\n",
      "Error parsing JSON: Invalid control character at: line 1 column 81 (char 80)\n"
     ]
    }
   ],
   "source": [
    "df['country'] = df.Address.apply(lambda x: _get_country(x))"
   ]
  },
  {
   "cell_type": "markdown",
   "id": "ff602a0b",
   "metadata": {},
   "source": [
    "country is good (was checking if it's full of Chinese/Indian companies)"
   ]
  },
  {
   "cell_type": "code",
   "execution_count": 44,
   "id": "462eacf4",
   "metadata": {},
   "outputs": [
    {
     "data": {
      "text/plain": [
       "country\n",
       "united states     4734\n",
       "united kingdom     884\n",
       "canada             392\n",
       "australia          254\n",
       "singapore          172\n",
       "ireland             79\n",
       "new zealand         26\n",
       "Name: count, dtype: int64"
      ]
     },
     "execution_count": 44,
     "metadata": {},
     "output_type": "execute_result"
    }
   ],
   "source": [
    "df.country.value_counts()"
   ]
  },
  {
   "cell_type": "code",
   "execution_count": 47,
   "id": "12eeb91f",
   "metadata": {},
   "outputs": [
    {
     "data": {
      "text/plain": [
       "0                                https://sawa.gallery/\n",
       "1     https://maizepages.umich.edu/organization/openmi\n",
       "2                                   https://siftmo.com\n",
       "3                              https://www.aleios.com/\n",
       "4                                    http://niftys.com\n",
       "5                                 https://basewell.com\n",
       "6                                    http://journey.io\n",
       "7                             https://apple.co/3HcKeLx\n",
       "8                               https://sqdc.avoyer.ca\n",
       "9                             http://www.appcoderz.com\n",
       "10                                  https://appdive.io\n",
       "11                              https://greenpixie.com\n",
       "12                                http://tryparade.com\n",
       "13                       http://www.extendingfamily.us\n",
       "14                                 https://nixmade.com\n",
       "15                             https://www.jumproom.io\n",
       "16                                    https://maple.so\n",
       "17                         http://www.blueprintgtm.com\n",
       "18                          https://www.remofirst.com/\n",
       "19                                https://blockjoy.com\n",
       "Name: Website, dtype: object"
      ]
     },
     "execution_count": 47,
     "metadata": {},
     "output_type": "execute_result"
    }
   ],
   "source": [
    "df.Website.head(20)"
   ]
  },
  {
   "cell_type": "code",
   "execution_count": 102,
   "id": "1b3c4cf1",
   "metadata": {},
   "outputs": [
    {
     "data": {
      "text/plain": [
       "4734"
      ]
     },
     "execution_count": 102,
     "metadata": {},
     "output_type": "execute_result"
    }
   ],
   "source": [
    "df = df[df['country'] == 'united states']\n",
    "len(df)"
   ]
  },
  {
   "cell_type": "markdown",
   "id": "25275c9f",
   "metadata": {},
   "source": [
    "# Scrape website"
   ]
  },
  {
   "cell_type": "code",
   "execution_count": 81,
   "id": "a40bd719",
   "metadata": {},
   "outputs": [],
   "source": [
    "async def scrape_url(url):\n",
    "    try:\n",
    "        async with async_playwright() as p:\n",
    "            browser = await p.chromium.launch()\n",
    "            page = await browser.new_page()\n",
    "            await page.wait_for_load_state()\n",
    "            await page.goto(url)\n",
    "            content = await page.content()\n",
    "            await browser.close()\n",
    "            return content\n",
    "    except Exception as e:\n",
    "        print(e)\n",
    "        return None"
   ]
  },
  {
   "cell_type": "code",
   "execution_count": 82,
   "id": "0f94a8ae",
   "metadata": {},
   "outputs": [],
   "source": [
    "content = await scrape_url(url)"
   ]
  },
  {
   "cell_type": "code",
   "execution_count": 84,
   "id": "159cbdb1",
   "metadata": {},
   "outputs": [],
   "source": [
    "async def limit_parallel(tasks, n=5):\n",
    "    \"\"\"\n",
    "    Run up to n async tasks in parallel.\n",
    "\n",
    "    :param n: Maximum number of concurrent tasks.\n",
    "    :param tasks: List of coroutine functions to execute.\n",
    "    :return: List of results from the tasks.\n",
    "    \"\"\"\n",
    "    semaphore = asyncio.Semaphore(n)\n",
    "\n",
    "    async def sem_task(task):\n",
    "        async with semaphore:\n",
    "            return await task\n",
    "\n",
    "    # Wrap tasks with semaphore logic\n",
    "    wrapped_tasks = [sem_task(task) for task in tasks]\n",
    "\n",
    "    # Run all tasks concurrently\n",
    "    return await tqdm.asyncio.tqdm.gather(*wrapped_tasks)"
   ]
  },
  {
   "cell_type": "code",
   "execution_count": 85,
   "id": "2bc5d56d",
   "metadata": {},
   "outputs": [],
   "source": [
    "urls = df.Website.head(20)"
   ]
  },
  {
   "cell_type": "code",
   "execution_count": 95,
   "id": "2c05e69e",
   "metadata": {},
   "outputs": [],
   "source": [
    "tasks = [scrape_url(u) for u in urls]"
   ]
  },
  {
   "cell_type": "code",
   "execution_count": 96,
   "id": "f0dfff5b",
   "metadata": {},
   "outputs": [
    {
     "name": "stderr",
     "output_type": "stream",
     "text": [
      "  5%|███████████▌                                                                                                                                                                                                                           | 1/20 [00:02<00:45,  2.40s/it]"
     ]
    },
    {
     "name": "stdout",
     "output_type": "stream",
     "text": [
      "Page.goto: net::ERR_NAME_NOT_RESOLVED at https://nixmade.com/\n",
      "Call log:\n",
      "navigating to \"https://nixmade.com/\", waiting until \"load\"\n",
      "\n"
     ]
    },
    {
     "name": "stderr",
     "output_type": "stream",
     "text": [
      "\r",
      " 10%|███████████████████████                                                                                                                                                                                                                | 2/20 [00:02<00:21,  1.20s/it]"
     ]
    },
    {
     "name": "stdout",
     "output_type": "stream",
     "text": [
      "Page.goto: net::ERR_CERT_COMMON_NAME_INVALID at http://www.appcoderz.com/\n",
      "Call log:\n",
      "navigating to \"http://www.appcoderz.com/\", waiting until \"load\"\n",
      "\n"
     ]
    },
    {
     "name": "stderr",
     "output_type": "stream",
     "text": [
      " 45%|███████████████████████████████████████████████████████████████████████████████████████████████████████▉                                                                                                                               | 9/20 [00:07<00:09,  1.17it/s]"
     ]
    },
    {
     "name": "stdout",
     "output_type": "stream",
     "text": [
      "Page.goto: net::ERR_NAME_NOT_RESOLVED at http://www.extendingfamily.us/\n",
      "Call log:\n",
      "navigating to \"http://www.extendingfamily.us/\", waiting until \"load\"\n",
      "\n"
     ]
    },
    {
     "name": "stderr",
     "output_type": "stream",
     "text": [
      "100%|██████████████████████████████████████████████████████████████████████████████████████████████████████████████████████████████████████████████████████████████████████████████████████████████████████████████████████████████████████| 20/20 [00:13<00:00,  1.44it/s]\n"
     ]
    }
   ],
   "source": [
    "results = await limit_parallel(tasks, 10)"
   ]
  },
  {
   "cell_type": "code",
   "execution_count": 97,
   "id": "4ffbc551",
   "metadata": {},
   "outputs": [
    {
     "data": {
      "text/plain": [
       "'<!DOCTYPE html><html class=\"yui3-js-enabled js-focus-visible js flexbox canvas canvastext webgl no-touch hashchange history draganddrop rgba hsla multiplebgs backgroundsize borderimage borderradius boxshadow textshadow opacity cssanimations csscolumns cssgradients cssreflections csstransforms no-csstransforms3d csstransitions video audio svg inlinesvg svgclippaths\" data-js-focus-visible=\"\" style=\"\"><div id=\"yui3-css-stamp\" style=\"position: absolute !important; visibility: hidden !important\"></div><head>\\n\\n  <title>Squarespace - Website Expired</title>\\n  <meta http-equiv=\"X-UA-Compatible\" content=\"chrome=1\">\\n\\n  <script src=\"//assets.squarespace.com/@sqs/polyfiller/1.6/legacy.js\" nomodule=\"\" type=\"text/javascript\" crossorigin=\"anonymous\"></script>\\n  <script src=\"//assets.squarespace.com/@sqs/polyfiller/1.6/modern.js\" type=\"text/javascript\" crossorigin=\"anonymous\"></script>\\n  <script crossorigin=\"anonymous\" src=\"//assets.squarespace.com/universal/scripts-compressed/extract-css-runtime-3843519cb467953ebe15-min.en-US.js\"></script><script crossorigin=\"anonymous\" src=\"//assets.squarespace.com/universal/scripts-compressed/extract-css-moment-js-vendor-6c569122bfa66a51a056-min.en-US.js\"></script><script crossorigin=\"anonymous\" src=\"//assets.squarespace.com/universal/scripts-compressed/cldr-resource-pack-e85130cf44bc2d365b8b-min.en-US.js\"></script><script crossorigin=\"anonymous\" src=\"//assets.squarespace.com/universal/scripts-compressed/common-vendors-stable-b03dd66b7c78e5e40bc7-min.en-US.js\"></script><script crossorigin=\"anonymous\" src=\"//assets.squarespace.com/universal/scripts-compressed/common-vendors-7598f4eb50a2ef12b555-min.en-US.js\"></script><script crossorigin=\"anonymous\" src=\"//assets.squarespace.com/universal/scripts-compressed/common-789074fe5b520016beb5-min.en-US.js\"></script><link rel=\"stylesheet\" type=\"text/css\" href=\"//assets.squarespace.com/universal/styles-compressed/common-dc637f2dc3768064f861-min.en-US.css\">\\n  <script crossorigin=\"anonymous\" src=\"//assets.squarespace.com/universal/scripts-compressed/dialog-a1e334b539e332714cba-min.en-US.js\"></script><style type=\"text/css\">.CSSTG-group {position:relative;display:block;}\\n.CSSTG-child {backface-visibility:hidden;filter:blur(1);}\\n.CSSTG-wrappedChild {padding:0.1px;margin:-0.1px;}\\n</style><style type=\"text/css\">.CSSTG-ExpandCollapse-expand {overflow:hidden;transition:max-height .2s ease-in-out, opacity .24s ease .08s;}\\n.CSSTG-ExpandCollapse-collapse {overflow:hidden;transition:max-height .2s ease-in-out, opacity .16s ease;}\\n</style><style type=\"text/css\">.CSSTG-Dissolve-dissolve {overflow:hidden;transition:opacity .33s ease, min-height .33s ease, max-height .33s ease;}\\n.CSSTG-Dissolve-leave {overflow:hidden;position:absolute;top:0;left:0;right:0;bottom:0;}\\n.CSSTG-Dissolve-dissolve.CSSTG-Dissolve-async {transition:opacity .33s ease .66s, min-height .33s ease .33s, max-height .33s ease .33s;}\\n.CSSTG-Dissolve-leave.CSSTG-Dissolve-async {transition:opacity .33s ease;}\\n</style><style type=\"text/css\">.CSSTG-Slide-group {overflow:hidden;}\\n.CSSTG-Slide-slide {overflow:hidden;transition:transform .26s ease, min-height .26s ease, max-height .26s ease;}\\n.CSSTG-Slide-leave {overflow:hidden;position:absolute;top:0;left:0;right:0;bottom:0;}\\n</style><style type=\"text/css\">.CSSTG-Reorderable-enter {transition:opacity .3s ease .2s;}\\n.CSSTG-Reorderable-leave {position:absolute !important;top:0;left:0;transition:opacity .3s ease;}\\n.CSSTG-Reorderable-move {transition:transform .36s ease;z-index:1;}\\n.CSSTG-Reorderable-leave ~ .CSSTG-Reorderable-move {transition-delay:.2s;}\\n</style><style>[touch-action=\"none\"]{ -ms-touch-action: none; touch-action: none; }\\n[touch-action=\"auto\"]{ -ms-touch-action: auto; touch-action: auto; }\\n[touch-action=\"pan-x\"]{ -ms-touch-action: pan-x; touch-action: pan-x; }\\n[touch-action=\"pan-y\"]{ -ms-touch-action: pan-y; touch-action: pan-y; }\\n[touch-action=\"pan-x pan-y\"],[touch-action=\"pan-y pan-x\"]{ -ms-touch-action: pan-x pan-y; touch-action: pan-x pan-y; }\\n</style><link type=\"text/css\" rel=\"stylesheet\" href=\"blob:https://www.sawa.gallery/8c4483eb-7dd5-459e-af2f-2ee33c01ef6c\"><link type=\"text/css\" rel=\"stylesheet\" href=\"blob:https://www.sawa.gallery/f52baba8-b007-4fe3-8c7b-4ade8b20521b\"><script src=\"https://js.stripe.com/v3\"></script><link rel=\"stylesheet\" type=\"text/css\" href=\"//assets.squarespace.com/universal/styles-compressed/dialog-6a1bec66bd82f1d3f383-min.en-US.css\">\\n  <script crossorigin=\"anonymous\" src=\"//assets.squarespace.com/universal/scripts-compressed/system-page-51391105d5ef4b07e3f1-min.en-US.js\"></script><link rel=\"stylesheet\" type=\"text/css\" href=\"//assets.squarespace.com/universal/styles-compressed/system-page-906ccbacabc55be2a493-min.en-US.css\">\\n\\n  <script>\\n\\n    YUI(YUI_CONFIG).use(\\'squarespace-common\\', \\'squarespace-system-page\\', function(Y) {\\n\\n      Y.on(\"domready\", function() {\\n\\n        var lb = new Y.Squarespace.Lightbox({\\n          disableNormalClose: true,\\n          clickAnywhereToExit: false,\\n          content: \\'<div class=\"bigtext\"><div class=\"title\">Website Expired</div><div class=\"description\">This account has expired.  If you are the site owner, click below to login.</div><div class=\"buttons\"><input type=\"button\" class=\"login-button\" name=\"login\" value=\"Owner Login\"/></div></div>\\',\\n          margin: 100,\\n          noHeightConstrain: true\\n        });\\n\\n        lb.show();\\n\\n        lb.getContentEl().on(\"click\", function(e) {\\n          if (e.target.ancestor(\".login-button\", true)) {\\n            document.location.href = \\'/config/\\';\\n          }\\n        });\\n\\n      });\\n\\n    });\\n\\n  </script>\\n\\n\\n</head>\\n<body class=\"squarespace-config squarespace-system-page\">\\n\\n  <div class=\"minimal-logo\">&nbsp;</div>\\n\\n\\n\\n<div class=\"sqs-lightbox\" style=\"position: fixed; opacity: 0; z-index: 30010;\"><div class=\"bigtext\"><div class=\"title\">Website Expired</div><div class=\"description\">This account has expired.  If you are the site owner, click below to login.</div><div class=\"buttons\"><input type=\"button\" class=\"login-button\" name=\"login\" value=\"Owner Login\"></div></div></div><div class=\"sqs-lightbox-overlay black sqs-lightbox-overlay-style-orb\" style=\"z-index: 30009; opacity: 0.998603;\"></div><iframe name=\"__privateStripeMetricsController7210\" frameborder=\"0\" allowtransparency=\"true\" scrolling=\"no\" role=\"presentation\" allow=\"payment *\" src=\"https://js.stripe.com/v3/m-outer-3437aaddcdf6922d623e172c2d6f9278.html#url=https%3A%2F%2Fwww.sawa.gallery%2F&amp;title=Squarespace%20-%20Website%20Expired&amp;referrer=&amp;muid=NA&amp;sid=NA&amp;version=6&amp;preview=false\" aria-hidden=\"true\" tabindex=\"-1\" style=\"border: none !important; margin: 0px !important; padding: 0px !important; width: 1px !important; min-width: 100% !important; overflow: hidden !important; display: block !important; visibility: hidden !important; position: fixed !important; height: 1px !important; pointer-events: none !important; user-select: none !important;\"></iframe></body></html>'"
      ]
     },
     "execution_count": 97,
     "metadata": {},
     "output_type": "execute_result"
    }
   ],
   "source": [
    "results[0]"
   ]
  },
  {
   "cell_type": "code",
   "execution_count": 98,
   "id": "4a20d599",
   "metadata": {},
   "outputs": [],
   "source": [
    "def _estime_whole_df(secs):\n",
    "    return secs / 20 * len(df) / 3600"
   ]
  },
  {
   "cell_type": "code",
   "execution_count": 100,
   "id": "054342b6",
   "metadata": {},
   "outputs": [
    {
     "data": {
      "text/plain": [
       "1.1822777777777778"
      ]
     },
     "execution_count": 100,
     "metadata": {},
     "output_type": "execute_result"
    }
   ],
   "source": [
    "_estime_whole_df(13)"
   ]
  },
  {
   "cell_type": "markdown",
   "id": "1163f3a1",
   "metadata": {},
   "source": [
    "Going to\n",
    "1. Set of async job for whole list\n",
    "2. do md conversion\n",
    "3. do prompt + evals for extracting jobs links / classifying pages / etc"
   ]
  },
  {
   "cell_type": "markdown",
   "id": "adfed088",
   "metadata": {},
   "source": [
    "page classifications:\n",
    "- is it a valid htmls\n",
    "- does it contains jobs?\n",
    "    - Yes / list\n",
    "    - Yes / open apply\n",
    "    - No / with links\n",
    "    - No / no links\n",
    "- extract links"
   ]
  },
  {
   "cell_type": "code",
   "execution_count": null,
   "id": "c3a827a4",
   "metadata": {},
   "outputs": [],
   "source": []
  },
  {
   "cell_type": "code",
   "execution_count": null,
   "id": "0c9de171",
   "metadata": {},
   "outputs": [],
   "source": []
  },
  {
   "cell_type": "code",
   "execution_count": null,
   "id": "73876e7b",
   "metadata": {},
   "outputs": [],
   "source": []
  },
  {
   "cell_type": "code",
   "execution_count": null,
   "id": "d325b6da",
   "metadata": {},
   "outputs": [],
   "source": []
  },
  {
   "cell_type": "code",
   "execution_count": null,
   "id": "ae5595a7",
   "metadata": {},
   "outputs": [],
   "source": []
  },
  {
   "cell_type": "code",
   "execution_count": null,
   "id": "6045fe13",
   "metadata": {},
   "outputs": [],
   "source": []
  },
  {
   "cell_type": "code",
   "execution_count": null,
   "id": "ce014a2a",
   "metadata": {},
   "outputs": [],
   "source": []
  }
 ],
 "metadata": {
  "kernelspec": {
   "display_name": "Python 3 (ipykernel)",
   "language": "python",
   "name": "python3"
  },
  "language_info": {
   "codemirror_mode": {
    "name": "ipython",
    "version": 3
   },
   "file_extension": ".py",
   "mimetype": "text/x-python",
   "name": "python",
   "nbconvert_exporter": "python",
   "pygments_lexer": "ipython3",
   "version": "3.12.4"
  }
 },
 "nbformat": 4,
 "nbformat_minor": 5
}
