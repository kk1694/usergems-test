{
 "cells": [
  {
   "cell_type": "code",
   "execution_count": 1,
   "id": "b8764f54",
   "metadata": {},
   "outputs": [],
   "source": [
    "%load_ext autoreload\n",
    "%autoreload 2"
   ]
  },
  {
   "cell_type": "code",
   "execution_count": 2,
   "id": "9af5d173",
   "metadata": {},
   "outputs": [],
   "source": [
    "import pandas as pd\n",
    "import json\n",
    "\n",
    "import re\n",
    "\n",
    "import asyncio\n",
    "from playwright.async_api import async_playwright\n",
    "import tqdm.asyncio"
   ]
  },
  {
   "cell_type": "markdown",
   "id": "3c1a9c40",
   "metadata": {
    "heading_collapsed": true
   },
   "source": [
    "# Subset to software"
   ]
  },
  {
   "cell_type": "code",
   "execution_count": 103,
   "id": "a2bde781",
   "metadata": {
    "hidden": true
   },
   "outputs": [],
   "source": [
    "df = pd.read_csv(\"./websites.csv\")"
   ]
  },
  {
   "cell_type": "code",
   "execution_count": 105,
   "id": "bc932831",
   "metadata": {
    "hidden": true
   },
   "outputs": [
    {
     "data": {
      "text/plain": [
       "66342"
      ]
     },
     "execution_count": 105,
     "metadata": {},
     "output_type": "execute_result"
    }
   ],
   "source": [
    "len(df)"
   ]
  },
  {
   "cell_type": "code",
   "execution_count": 104,
   "id": "72a10df4",
   "metadata": {
    "hidden": true
   },
   "outputs": [
    {
     "data": {
      "text/html": [
       "<div>\n",
       "<style scoped>\n",
       "    .dataframe tbody tr th:only-of-type {\n",
       "        vertical-align: middle;\n",
       "    }\n",
       "\n",
       "    .dataframe tbody tr th {\n",
       "        vertical-align: top;\n",
       "    }\n",
       "\n",
       "    .dataframe thead th {\n",
       "        text-align: right;\n",
       "    }\n",
       "</style>\n",
       "<table border=\"1\" class=\"dataframe\">\n",
       "  <thead>\n",
       "    <tr style=\"text-align: right;\">\n",
       "      <th></th>\n",
       "      <th>Unnamed: 0</th>\n",
       "      <th>CompanyName</th>\n",
       "      <th>Website</th>\n",
       "      <th>Specialties</th>\n",
       "      <th>Address</th>\n",
       "      <th>Industry</th>\n",
       "      <th>Unnamed: 6</th>\n",
       "    </tr>\n",
       "  </thead>\n",
       "  <tbody>\n",
       "    <tr>\n",
       "      <th>0</th>\n",
       "      <td>1543</td>\n",
       "      <td>Add*Ed</td>\n",
       "      <td>http://www.addedrg.ca</td>\n",
       "      <td>['autism' 'intellectual disability' 'teacher t...</td>\n",
       "      <td>{'city': 'Kingston', 'country': 'canada', 'cou...</td>\n",
       "      <td>Education Management</td>\n",
       "      <td>NaN</td>\n",
       "    </tr>\n",
       "    <tr>\n",
       "      <th>1</th>\n",
       "      <td>1952</td>\n",
       "      <td>Addison AG Tech, LP</td>\n",
       "      <td>http://www.AddisonFund.com</td>\n",
       "      <td>[]</td>\n",
       "      <td>{'city': 'Addison', 'country': 'united states'...</td>\n",
       "      <td>Financial Services</td>\n",
       "      <td>NaN</td>\n",
       "    </tr>\n",
       "  </tbody>\n",
       "</table>\n",
       "</div>"
      ],
      "text/plain": [
       "  Unnamed: 0          CompanyName                     Website  \\\n",
       "0       1543               Add*Ed       http://www.addedrg.ca   \n",
       "1       1952  Addison AG Tech, LP  http://www.AddisonFund.com   \n",
       "\n",
       "                                         Specialties  \\\n",
       "0  ['autism' 'intellectual disability' 'teacher t...   \n",
       "1                                                 []   \n",
       "\n",
       "                                             Address              Industry  \\\n",
       "0  {'city': 'Kingston', 'country': 'canada', 'cou...  Education Management   \n",
       "1  {'city': 'Addison', 'country': 'united states'...    Financial Services   \n",
       "\n",
       "  Unnamed: 6  \n",
       "0        NaN  \n",
       "1        NaN  "
      ]
     },
     "execution_count": 104,
     "metadata": {},
     "output_type": "execute_result"
    }
   ],
   "source": [
    "df.head(2)"
   ]
  },
  {
   "cell_type": "code",
   "execution_count": 4,
   "id": "398eee34",
   "metadata": {
    "hidden": true
   },
   "outputs": [
    {
     "data": {
      "text/html": [
       "<div>\n",
       "<style scoped>\n",
       "    .dataframe tbody tr th:only-of-type {\n",
       "        vertical-align: middle;\n",
       "    }\n",
       "\n",
       "    .dataframe tbody tr th {\n",
       "        vertical-align: top;\n",
       "    }\n",
       "\n",
       "    .dataframe thead th {\n",
       "        text-align: right;\n",
       "    }\n",
       "</style>\n",
       "<table border=\"1\" class=\"dataframe\">\n",
       "  <thead>\n",
       "    <tr style=\"text-align: right;\">\n",
       "      <th></th>\n",
       "      <th>Unnamed: 0</th>\n",
       "      <th>CompanyName</th>\n",
       "      <th>Website</th>\n",
       "      <th>Specialties</th>\n",
       "      <th>Address</th>\n",
       "      <th>Industry</th>\n",
       "      <th>Unnamed: 6</th>\n",
       "    </tr>\n",
       "  </thead>\n",
       "  <tbody>\n",
       "    <tr>\n",
       "      <th>66340</th>\n",
       "      <td>7404336</td>\n",
       "      <td>Wireframe Marketing</td>\n",
       "      <td>https://wireframemarketing.com</td>\n",
       "      <td>['SEO Services' 'Logo Design' 'Branding' 'Soci...</td>\n",
       "      <td>{'city': 'REXBURG', 'country': 'united states'...</td>\n",
       "      <td>Marketing &amp; Advertising</td>\n",
       "      <td>NaN</td>\n",
       "    </tr>\n",
       "    <tr>\n",
       "      <th>66341</th>\n",
       "      <td>7404394</td>\n",
       "      <td>Wirehound Networks</td>\n",
       "      <td>http://www.wirehoundnetworks.com</td>\n",
       "      <td>[]</td>\n",
       "      <td>{'city': 'Richfield', 'country': 'united state...</td>\n",
       "      <td>Computer &amp; Network Security</td>\n",
       "      <td>NaN</td>\n",
       "    </tr>\n",
       "  </tbody>\n",
       "</table>\n",
       "</div>"
      ],
      "text/plain": [
       "      Unnamed: 0          CompanyName                           Website  \\\n",
       "66340    7404336  Wireframe Marketing    https://wireframemarketing.com   \n",
       "66341    7404394   Wirehound Networks  http://www.wirehoundnetworks.com   \n",
       "\n",
       "                                             Specialties  \\\n",
       "66340  ['SEO Services' 'Logo Design' 'Branding' 'Soci...   \n",
       "66341                                                 []   \n",
       "\n",
       "                                                 Address  \\\n",
       "66340  {'city': 'REXBURG', 'country': 'united states'...   \n",
       "66341  {'city': 'Richfield', 'country': 'united state...   \n",
       "\n",
       "                          Industry Unnamed: 6  \n",
       "66340      Marketing & Advertising        NaN  \n",
       "66341  Computer & Network Security        NaN  "
      ]
     },
     "execution_count": 4,
     "metadata": {},
     "output_type": "execute_result"
    }
   ],
   "source": [
    "df.tail(2)"
   ]
  },
  {
   "cell_type": "code",
   "execution_count": 8,
   "id": "fd7ccae9",
   "metadata": {
    "hidden": true
   },
   "outputs": [
    {
     "data": {
      "text/plain": [
       "6548"
      ]
     },
     "execution_count": 8,
     "metadata": {},
     "output_type": "execute_result"
    }
   ],
   "source": [
    "df = df[df['Industry'] == 'Computer Software'].reset_index()\n",
    "len(df)"
   ]
  },
  {
   "cell_type": "code",
   "execution_count": 9,
   "id": "ec5a4906",
   "metadata": {
    "hidden": true
   },
   "outputs": [
    {
     "data": {
      "text/html": [
       "<div>\n",
       "<style scoped>\n",
       "    .dataframe tbody tr th:only-of-type {\n",
       "        vertical-align: middle;\n",
       "    }\n",
       "\n",
       "    .dataframe tbody tr th {\n",
       "        vertical-align: top;\n",
       "    }\n",
       "\n",
       "    .dataframe thead th {\n",
       "        text-align: right;\n",
       "    }\n",
       "</style>\n",
       "<table border=\"1\" class=\"dataframe\">\n",
       "  <thead>\n",
       "    <tr style=\"text-align: right;\">\n",
       "      <th></th>\n",
       "      <th>index</th>\n",
       "      <th>Unnamed: 0</th>\n",
       "      <th>CompanyName</th>\n",
       "      <th>Website</th>\n",
       "      <th>Specialties</th>\n",
       "      <th>Address</th>\n",
       "      <th>Industry</th>\n",
       "      <th>Unnamed: 6</th>\n",
       "    </tr>\n",
       "  </thead>\n",
       "  <tbody>\n",
       "    <tr>\n",
       "      <th>0</th>\n",
       "      <td>11</td>\n",
       "      <td>5314</td>\n",
       "      <td>Sawa Impact Labs</td>\n",
       "      <td>https://sawa.gallery/</td>\n",
       "      <td>[]</td>\n",
       "      <td>{'city': 'Stanford', 'country': 'united states...</td>\n",
       "      <td>Computer Software</td>\n",
       "      <td>NaN</td>\n",
       "    </tr>\n",
       "    <tr>\n",
       "      <th>1</th>\n",
       "      <td>19</td>\n",
       "      <td>5505</td>\n",
       "      <td>OpenMI at the University of Michigan</td>\n",
       "      <td>https://maizepages.umich.edu/organization/openmi</td>\n",
       "      <td>[]</td>\n",
       "      <td>{'city': 'Ann Arbor', 'country': 'united state...</td>\n",
       "      <td>Computer Software</td>\n",
       "      <td>NaN</td>\n",
       "    </tr>\n",
       "  </tbody>\n",
       "</table>\n",
       "</div>"
      ],
      "text/plain": [
       "   index Unnamed: 0                           CompanyName  \\\n",
       "0     11       5314                      Sawa Impact Labs   \n",
       "1     19       5505  OpenMI at the University of Michigan   \n",
       "\n",
       "                                            Website Specialties  \\\n",
       "0                             https://sawa.gallery/          []   \n",
       "1  https://maizepages.umich.edu/organization/openmi          []   \n",
       "\n",
       "                                             Address           Industry  \\\n",
       "0  {'city': 'Stanford', 'country': 'united states...  Computer Software   \n",
       "1  {'city': 'Ann Arbor', 'country': 'united state...  Computer Software   \n",
       "\n",
       "  Unnamed: 6  \n",
       "0        NaN  \n",
       "1        NaN  "
      ]
     },
     "execution_count": 9,
     "metadata": {},
     "output_type": "execute_result"
    }
   ],
   "source": [
    "df.head(2)"
   ]
  },
  {
   "cell_type": "code",
   "execution_count": 42,
   "id": "a04e6162",
   "metadata": {
    "hidden": true
   },
   "outputs": [],
   "source": [
    "def parse_single_quote_json(json_str):\n",
    "    json_str_fixed = json_str.replace(\"'\", '\"').replace(\"None\", \"null\")\n",
    "    try:\n",
    "        return json.loads(json_str_fixed)\n",
    "    except json.JSONDecodeError as e:\n",
    "        print(f\"Error parsing JSON: {e}\")\n",
    "        return None\n",
    "    \n",
    "def _get_country(_str):\n",
    "    x = parse_single_quote_json(_str)\n",
    "    if x is None:\n",
    "        return None\n",
    "    if 'country' not in x.keys():\n",
    "        return None\n",
    "    return x['country']\n",
    "    "
   ]
  },
  {
   "cell_type": "code",
   "execution_count": 43,
   "id": "e0cb49bd",
   "metadata": {
    "hidden": true
   },
   "outputs": [
    {
     "name": "stdout",
     "output_type": "stream",
     "text": [
      "Error parsing JSON: Expecting ',' delimiter: line 1 column 19 (char 18)\n",
      "Error parsing JSON: Expecting ',' delimiter: line 1 column 19 (char 18)\n",
      "Error parsing JSON: Invalid control character at: line 1 column 18 (char 17)\n",
      "Error parsing JSON: Expecting ',' delimiter: line 1 column 18 (char 17)\n",
      "Error parsing JSON: Expecting ',' delimiter: line 1 column 13 (char 12)\n",
      "Error parsing JSON: Invalid control character at: line 1 column 12 (char 11)\n",
      "Error parsing JSON: Invalid control character at: line 1 column 81 (char 80)\n"
     ]
    }
   ],
   "source": [
    "df['country'] = df.Address.apply(lambda x: _get_country(x))"
   ]
  },
  {
   "cell_type": "markdown",
   "id": "ff602a0b",
   "metadata": {
    "hidden": true
   },
   "source": [
    "country is good (was checking if it's full of Chinese/Indian companies)"
   ]
  },
  {
   "cell_type": "code",
   "execution_count": 44,
   "id": "462eacf4",
   "metadata": {
    "hidden": true
   },
   "outputs": [
    {
     "data": {
      "text/plain": [
       "country\n",
       "united states     4734\n",
       "united kingdom     884\n",
       "canada             392\n",
       "australia          254\n",
       "singapore          172\n",
       "ireland             79\n",
       "new zealand         26\n",
       "Name: count, dtype: int64"
      ]
     },
     "execution_count": 44,
     "metadata": {},
     "output_type": "execute_result"
    }
   ],
   "source": [
    "df.country.value_counts()"
   ]
  },
  {
   "cell_type": "code",
   "execution_count": 47,
   "id": "12eeb91f",
   "metadata": {
    "hidden": true
   },
   "outputs": [
    {
     "data": {
      "text/plain": [
       "0                                https://sawa.gallery/\n",
       "1     https://maizepages.umich.edu/organization/openmi\n",
       "2                                   https://siftmo.com\n",
       "3                              https://www.aleios.com/\n",
       "4                                    http://niftys.com\n",
       "5                                 https://basewell.com\n",
       "6                                    http://journey.io\n",
       "7                             https://apple.co/3HcKeLx\n",
       "8                               https://sqdc.avoyer.ca\n",
       "9                             http://www.appcoderz.com\n",
       "10                                  https://appdive.io\n",
       "11                              https://greenpixie.com\n",
       "12                                http://tryparade.com\n",
       "13                       http://www.extendingfamily.us\n",
       "14                                 https://nixmade.com\n",
       "15                             https://www.jumproom.io\n",
       "16                                    https://maple.so\n",
       "17                         http://www.blueprintgtm.com\n",
       "18                          https://www.remofirst.com/\n",
       "19                                https://blockjoy.com\n",
       "Name: Website, dtype: object"
      ]
     },
     "execution_count": 47,
     "metadata": {},
     "output_type": "execute_result"
    }
   ],
   "source": [
    "df.Website.head(20)"
   ]
  },
  {
   "cell_type": "code",
   "execution_count": 102,
   "id": "1b3c4cf1",
   "metadata": {
    "hidden": true
   },
   "outputs": [
    {
     "data": {
      "text/plain": [
       "4734"
      ]
     },
     "execution_count": 102,
     "metadata": {},
     "output_type": "execute_result"
    }
   ],
   "source": [
    "df = df[df['country'] == 'united states']\n",
    "len(df)"
   ]
  },
  {
   "cell_type": "markdown",
   "id": "25275c9f",
   "metadata": {
    "heading_collapsed": true
   },
   "source": [
    "# Scrape website"
   ]
  },
  {
   "cell_type": "code",
   "execution_count": 59,
   "id": "a40bd719",
   "metadata": {
    "hidden": true
   },
   "outputs": [],
   "source": [
    "async def scrape_url(url):\n",
    "    try:\n",
    "        async with async_playwright() as p:\n",
    "            browser = await p.chromium.launch()\n",
    "            context = browser.new_context()\n",
    "            page = await browser.new_page()\n",
    "            \n",
    "            await page.goto(url)\n",
    "            \n",
    "            await page.wait_for_load_state(timeout=20000)\n",
    "            await page.keyboard.press('PageDown')\n",
    "            await page.wait_for_load_state(timeout=20000)\n",
    "            \n",
    "            href = await page.evaluate('() => document.location.href')\n",
    "            await page.wait_for_load_state(timeout=20000)\n",
    "            await page.screenshot(path=\"screenshot.png\", full_page=True)\n",
    "            \n",
    "            content = await page.content()\n",
    "            await browser.close()\n",
    "            return content\n",
    "    except Exception as e:\n",
    "        print(e)\n",
    "        return None"
   ]
  },
  {
   "cell_type": "code",
   "execution_count": 60,
   "id": "a3c65c93",
   "metadata": {
    "hidden": true
   },
   "outputs": [],
   "source": [
    "url = 'https://maizepages.umich.edu/organization/openmi'"
   ]
  },
  {
   "cell_type": "code",
   "execution_count": 61,
   "id": "0f94a8ae",
   "metadata": {
    "hidden": true
   },
   "outputs": [
    {
     "name": "stderr",
     "output_type": "stream",
     "text": [
      "/home/krisztian/miniconda3/envs/all/lib/python3.12/inspect.py:479: RuntimeWarning: coroutine 'Browser.new_context' was never awaited\n",
      "  def isframe(object):\n",
      "RuntimeWarning: Enable tracemalloc to get the object allocation traceback\n"
     ]
    }
   ],
   "source": [
    "content = await scrape_url(url)"
   ]
  },
  {
   "cell_type": "code",
   "execution_count": 84,
   "id": "159cbdb1",
   "metadata": {
    "hidden": true
   },
   "outputs": [],
   "source": [
    "async def limit_parallel(tasks, n=5):\n",
    "    \"\"\"\n",
    "    Run up to n async tasks in parallel.\n",
    "\n",
    "    :param n: Maximum number of concurrent tasks.\n",
    "    :param tasks: List of coroutine functions to execute.\n",
    "    :return: List of results from the tasks.\n",
    "    \"\"\"\n",
    "    semaphore = asyncio.Semaphore(n)\n",
    "\n",
    "    async def sem_task(task):\n",
    "        async with semaphore:\n",
    "            return await task\n",
    "\n",
    "    # Wrap tasks with semaphore logic\n",
    "    wrapped_tasks = [sem_task(task) for task in tasks]\n",
    "\n",
    "    # Run all tasks concurrently\n",
    "    return await tqdm.asyncio.tqdm.gather(*wrapped_tasks)"
   ]
  },
  {
   "cell_type": "code",
   "execution_count": 85,
   "id": "2bc5d56d",
   "metadata": {
    "hidden": true
   },
   "outputs": [],
   "source": [
    "urls = df.Website.head(20)"
   ]
  },
  {
   "cell_type": "code",
   "execution_count": 95,
   "id": "2c05e69e",
   "metadata": {
    "hidden": true
   },
   "outputs": [],
   "source": [
    "tasks = [scrape_url(u) for u in urls]"
   ]
  },
  {
   "cell_type": "code",
   "execution_count": 96,
   "id": "f0dfff5b",
   "metadata": {
    "hidden": true
   },
   "outputs": [
    {
     "name": "stderr",
     "output_type": "stream",
     "text": [
      "  5%|███████████▌                                                                                                                                                                                                                           | 1/20 [00:02<00:45,  2.40s/it]"
     ]
    },
    {
     "name": "stdout",
     "output_type": "stream",
     "text": [
      "Page.goto: net::ERR_NAME_NOT_RESOLVED at https://nixmade.com/\n",
      "Call log:\n",
      "navigating to \"https://nixmade.com/\", waiting until \"load\"\n",
      "\n"
     ]
    },
    {
     "name": "stderr",
     "output_type": "stream",
     "text": [
      "\r",
      " 10%|███████████████████████                                                                                                                                                                                                                | 2/20 [00:02<00:21,  1.20s/it]"
     ]
    },
    {
     "name": "stdout",
     "output_type": "stream",
     "text": [
      "Page.goto: net::ERR_CERT_COMMON_NAME_INVALID at http://www.appcoderz.com/\n",
      "Call log:\n",
      "navigating to \"http://www.appcoderz.com/\", waiting until \"load\"\n",
      "\n"
     ]
    },
    {
     "name": "stderr",
     "output_type": "stream",
     "text": [
      " 45%|███████████████████████████████████████████████████████████████████████████████████████████████████████▉                                                                                                                               | 9/20 [00:07<00:09,  1.17it/s]"
     ]
    },
    {
     "name": "stdout",
     "output_type": "stream",
     "text": [
      "Page.goto: net::ERR_NAME_NOT_RESOLVED at http://www.extendingfamily.us/\n",
      "Call log:\n",
      "navigating to \"http://www.extendingfamily.us/\", waiting until \"load\"\n",
      "\n"
     ]
    },
    {
     "name": "stderr",
     "output_type": "stream",
     "text": [
      "100%|██████████████████████████████████████████████████████████████████████████████████████████████████████████████████████████████████████████████████████████████████████████████████████████████████████████████████████████████████████| 20/20 [00:13<00:00,  1.44it/s]\n"
     ]
    }
   ],
   "source": [
    "results = await limit_parallel(tasks, 10)"
   ]
  },
  {
   "cell_type": "code",
   "execution_count": 97,
   "id": "4ffbc551",
   "metadata": {
    "hidden": true
   },
   "outputs": [
    {
     "data": {
      "text/plain": [
       "'<!DOCTYPE html><html class=\"yui3-js-enabled js-focus-visible js flexbox canvas canvastext webgl no-touch hashchange history draganddrop rgba hsla multiplebgs backgroundsize borderimage borderradius boxshadow textshadow opacity cssanimations csscolumns cssgradients cssreflections csstransforms no-csstransforms3d csstransitions video audio svg inlinesvg svgclippaths\" data-js-focus-visible=\"\" style=\"\"><div id=\"yui3-css-stamp\" style=\"position: absolute !important; visibility: hidden !important\"></div><head>\\n\\n  <title>Squarespace - Website Expired</title>\\n  <meta http-equiv=\"X-UA-Compatible\" content=\"chrome=1\">\\n\\n  <script src=\"//assets.squarespace.com/@sqs/polyfiller/1.6/legacy.js\" nomodule=\"\" type=\"text/javascript\" crossorigin=\"anonymous\"></script>\\n  <script src=\"//assets.squarespace.com/@sqs/polyfiller/1.6/modern.js\" type=\"text/javascript\" crossorigin=\"anonymous\"></script>\\n  <script crossorigin=\"anonymous\" src=\"//assets.squarespace.com/universal/scripts-compressed/extract-css-runtime-3843519cb467953ebe15-min.en-US.js\"></script><script crossorigin=\"anonymous\" src=\"//assets.squarespace.com/universal/scripts-compressed/extract-css-moment-js-vendor-6c569122bfa66a51a056-min.en-US.js\"></script><script crossorigin=\"anonymous\" src=\"//assets.squarespace.com/universal/scripts-compressed/cldr-resource-pack-e85130cf44bc2d365b8b-min.en-US.js\"></script><script crossorigin=\"anonymous\" src=\"//assets.squarespace.com/universal/scripts-compressed/common-vendors-stable-b03dd66b7c78e5e40bc7-min.en-US.js\"></script><script crossorigin=\"anonymous\" src=\"//assets.squarespace.com/universal/scripts-compressed/common-vendors-7598f4eb50a2ef12b555-min.en-US.js\"></script><script crossorigin=\"anonymous\" src=\"//assets.squarespace.com/universal/scripts-compressed/common-789074fe5b520016beb5-min.en-US.js\"></script><link rel=\"stylesheet\" type=\"text/css\" href=\"//assets.squarespace.com/universal/styles-compressed/common-dc637f2dc3768064f861-min.en-US.css\">\\n  <script crossorigin=\"anonymous\" src=\"//assets.squarespace.com/universal/scripts-compressed/dialog-a1e334b539e332714cba-min.en-US.js\"></script><style type=\"text/css\">.CSSTG-group {position:relative;display:block;}\\n.CSSTG-child {backface-visibility:hidden;filter:blur(1);}\\n.CSSTG-wrappedChild {padding:0.1px;margin:-0.1px;}\\n</style><style type=\"text/css\">.CSSTG-ExpandCollapse-expand {overflow:hidden;transition:max-height .2s ease-in-out, opacity .24s ease .08s;}\\n.CSSTG-ExpandCollapse-collapse {overflow:hidden;transition:max-height .2s ease-in-out, opacity .16s ease;}\\n</style><style type=\"text/css\">.CSSTG-Dissolve-dissolve {overflow:hidden;transition:opacity .33s ease, min-height .33s ease, max-height .33s ease;}\\n.CSSTG-Dissolve-leave {overflow:hidden;position:absolute;top:0;left:0;right:0;bottom:0;}\\n.CSSTG-Dissolve-dissolve.CSSTG-Dissolve-async {transition:opacity .33s ease .66s, min-height .33s ease .33s, max-height .33s ease .33s;}\\n.CSSTG-Dissolve-leave.CSSTG-Dissolve-async {transition:opacity .33s ease;}\\n</style><style type=\"text/css\">.CSSTG-Slide-group {overflow:hidden;}\\n.CSSTG-Slide-slide {overflow:hidden;transition:transform .26s ease, min-height .26s ease, max-height .26s ease;}\\n.CSSTG-Slide-leave {overflow:hidden;position:absolute;top:0;left:0;right:0;bottom:0;}\\n</style><style type=\"text/css\">.CSSTG-Reorderable-enter {transition:opacity .3s ease .2s;}\\n.CSSTG-Reorderable-leave {position:absolute !important;top:0;left:0;transition:opacity .3s ease;}\\n.CSSTG-Reorderable-move {transition:transform .36s ease;z-index:1;}\\n.CSSTG-Reorderable-leave ~ .CSSTG-Reorderable-move {transition-delay:.2s;}\\n</style><style>[touch-action=\"none\"]{ -ms-touch-action: none; touch-action: none; }\\n[touch-action=\"auto\"]{ -ms-touch-action: auto; touch-action: auto; }\\n[touch-action=\"pan-x\"]{ -ms-touch-action: pan-x; touch-action: pan-x; }\\n[touch-action=\"pan-y\"]{ -ms-touch-action: pan-y; touch-action: pan-y; }\\n[touch-action=\"pan-x pan-y\"],[touch-action=\"pan-y pan-x\"]{ -ms-touch-action: pan-x pan-y; touch-action: pan-x pan-y; }\\n</style><link type=\"text/css\" rel=\"stylesheet\" href=\"blob:https://www.sawa.gallery/8c4483eb-7dd5-459e-af2f-2ee33c01ef6c\"><link type=\"text/css\" rel=\"stylesheet\" href=\"blob:https://www.sawa.gallery/f52baba8-b007-4fe3-8c7b-4ade8b20521b\"><script src=\"https://js.stripe.com/v3\"></script><link rel=\"stylesheet\" type=\"text/css\" href=\"//assets.squarespace.com/universal/styles-compressed/dialog-6a1bec66bd82f1d3f383-min.en-US.css\">\\n  <script crossorigin=\"anonymous\" src=\"//assets.squarespace.com/universal/scripts-compressed/system-page-51391105d5ef4b07e3f1-min.en-US.js\"></script><link rel=\"stylesheet\" type=\"text/css\" href=\"//assets.squarespace.com/universal/styles-compressed/system-page-906ccbacabc55be2a493-min.en-US.css\">\\n\\n  <script>\\n\\n    YUI(YUI_CONFIG).use(\\'squarespace-common\\', \\'squarespace-system-page\\', function(Y) {\\n\\n      Y.on(\"domready\", function() {\\n\\n        var lb = new Y.Squarespace.Lightbox({\\n          disableNormalClose: true,\\n          clickAnywhereToExit: false,\\n          content: \\'<div class=\"bigtext\"><div class=\"title\">Website Expired</div><div class=\"description\">This account has expired.  If you are the site owner, click below to login.</div><div class=\"buttons\"><input type=\"button\" class=\"login-button\" name=\"login\" value=\"Owner Login\"/></div></div>\\',\\n          margin: 100,\\n          noHeightConstrain: true\\n        });\\n\\n        lb.show();\\n\\n        lb.getContentEl().on(\"click\", function(e) {\\n          if (e.target.ancestor(\".login-button\", true)) {\\n            document.location.href = \\'/config/\\';\\n          }\\n        });\\n\\n      });\\n\\n    });\\n\\n  </script>\\n\\n\\n</head>\\n<body class=\"squarespace-config squarespace-system-page\">\\n\\n  <div class=\"minimal-logo\">&nbsp;</div>\\n\\n\\n\\n<div class=\"sqs-lightbox\" style=\"position: fixed; opacity: 0; z-index: 30010;\"><div class=\"bigtext\"><div class=\"title\">Website Expired</div><div class=\"description\">This account has expired.  If you are the site owner, click below to login.</div><div class=\"buttons\"><input type=\"button\" class=\"login-button\" name=\"login\" value=\"Owner Login\"></div></div></div><div class=\"sqs-lightbox-overlay black sqs-lightbox-overlay-style-orb\" style=\"z-index: 30009; opacity: 0.998603;\"></div><iframe name=\"__privateStripeMetricsController7210\" frameborder=\"0\" allowtransparency=\"true\" scrolling=\"no\" role=\"presentation\" allow=\"payment *\" src=\"https://js.stripe.com/v3/m-outer-3437aaddcdf6922d623e172c2d6f9278.html#url=https%3A%2F%2Fwww.sawa.gallery%2F&amp;title=Squarespace%20-%20Website%20Expired&amp;referrer=&amp;muid=NA&amp;sid=NA&amp;version=6&amp;preview=false\" aria-hidden=\"true\" tabindex=\"-1\" style=\"border: none !important; margin: 0px !important; padding: 0px !important; width: 1px !important; min-width: 100% !important; overflow: hidden !important; display: block !important; visibility: hidden !important; position: fixed !important; height: 1px !important; pointer-events: none !important; user-select: none !important;\"></iframe></body></html>'"
      ]
     },
     "execution_count": 97,
     "metadata": {},
     "output_type": "execute_result"
    }
   ],
   "source": [
    "results[0]"
   ]
  },
  {
   "cell_type": "code",
   "execution_count": 98,
   "id": "4a20d599",
   "metadata": {
    "hidden": true
   },
   "outputs": [],
   "source": [
    "def _estime_whole_df(secs):\n",
    "    return secs / 20 * len(df) / 3600"
   ]
  },
  {
   "cell_type": "code",
   "execution_count": 100,
   "id": "054342b6",
   "metadata": {
    "hidden": true
   },
   "outputs": [
    {
     "data": {
      "text/plain": [
       "1.1822777777777778"
      ]
     },
     "execution_count": 100,
     "metadata": {},
     "output_type": "execute_result"
    }
   ],
   "source": [
    "_estime_whole_df(13)"
   ]
  },
  {
   "cell_type": "markdown",
   "id": "1163f3a1",
   "metadata": {
    "hidden": true
   },
   "source": [
    "Going to\n",
    "1. Set of async job for whole list\n",
    "2. do md conversion\n",
    "3. do prompt + evals for extracting jobs links / classifying pages / etc"
   ]
  },
  {
   "cell_type": "markdown",
   "id": "adfed088",
   "metadata": {
    "hidden": true
   },
   "source": [
    "page classifications:\n",
    "- is it a valid htmls\n",
    "- does it contains jobs?\n",
    "    - Yes / list\n",
    "    - Yes / open apply\n",
    "    - No / with links\n",
    "    - No / no links\n",
    "- extract links"
   ]
  },
  {
   "cell_type": "markdown",
   "id": "95cda3d2",
   "metadata": {
    "heading_collapsed": true
   },
   "source": [
    "# Do markdown conversion"
   ]
  },
  {
   "cell_type": "code",
   "execution_count": 154,
   "id": "1c3c7fa7",
   "metadata": {
    "hidden": true
   },
   "outputs": [],
   "source": [
    "df2 = pd.read_csv(\"../data/01_subset_enriched.csv\")"
   ]
  },
  {
   "cell_type": "code",
   "execution_count": 155,
   "id": "0c9de171",
   "metadata": {
    "hidden": true
   },
   "outputs": [],
   "source": [
    "df.to_csv(\"../data/01_subset_enriched.csv\", index=False)"
   ]
  },
  {
   "cell_type": "code",
   "execution_count": 156,
   "id": "73876e7b",
   "metadata": {
    "hidden": true
   },
   "outputs": [
    {
     "data": {
      "text/html": [
       "<div>\n",
       "<style scoped>\n",
       "    .dataframe tbody tr th:only-of-type {\n",
       "        vertical-align: middle;\n",
       "    }\n",
       "\n",
       "    .dataframe tbody tr th {\n",
       "        vertical-align: top;\n",
       "    }\n",
       "\n",
       "    .dataframe thead th {\n",
       "        text-align: right;\n",
       "    }\n",
       "</style>\n",
       "<table border=\"1\" class=\"dataframe\">\n",
       "  <thead>\n",
       "    <tr style=\"text-align: right;\">\n",
       "      <th></th>\n",
       "      <th>CompanyName</th>\n",
       "      <th>Website</th>\n",
       "      <th>scrape_status</th>\n",
       "      <th>homepage_content</th>\n",
       "    </tr>\n",
       "  </thead>\n",
       "  <tbody>\n",
       "    <tr>\n",
       "      <th>0</th>\n",
       "      <td>Sawa Impact Labs</td>\n",
       "      <td>https://sawa.gallery/</td>\n",
       "      <td>Success</td>\n",
       "      <td>&lt;!DOCTYPE html&gt;&lt;html class=\"yui3-js-enabled js...</td>\n",
       "    </tr>\n",
       "    <tr>\n",
       "      <th>1</th>\n",
       "      <td>OpenMI at the University of Michigan</td>\n",
       "      <td>https://maizepages.umich.edu/organization/openmi</td>\n",
       "      <td>Success</td>\n",
       "      <td>&lt;!DOCTYPE html&gt;&lt;html lang=\"en\"&gt;&lt;head&gt;\\n    &lt;me...</td>\n",
       "    </tr>\n",
       "  </tbody>\n",
       "</table>\n",
       "</div>"
      ],
      "text/plain": [
       "                            CompanyName  \\\n",
       "0                      Sawa Impact Labs   \n",
       "1  OpenMI at the University of Michigan   \n",
       "\n",
       "                                            Website scrape_status  \\\n",
       "0                             https://sawa.gallery/       Success   \n",
       "1  https://maizepages.umich.edu/organization/openmi       Success   \n",
       "\n",
       "                                    homepage_content  \n",
       "0  <!DOCTYPE html><html class=\"yui3-js-enabled js...  \n",
       "1  <!DOCTYPE html><html lang=\"en\"><head>\\n    <me...  "
      ]
     },
     "execution_count": 156,
     "metadata": {},
     "output_type": "execute_result"
    }
   ],
   "source": [
    "df.head(2)"
   ]
  },
  {
   "cell_type": "code",
   "execution_count": 157,
   "id": "d325b6da",
   "metadata": {
    "hidden": true
   },
   "outputs": [
    {
     "data": {
      "text/plain": [
       "scrape_status\n",
       "Success        3655\n",
       "Failed         1071\n",
       "Not Started       8\n",
       "Name: count, dtype: int64"
      ]
     },
     "execution_count": 157,
     "metadata": {},
     "output_type": "execute_result"
    }
   ],
   "source": [
    "df.scrape_status.value_counts()"
   ]
  },
  {
   "cell_type": "code",
   "execution_count": 125,
   "id": "66601340",
   "metadata": {
    "hidden": true
   },
   "outputs": [],
   "source": [
    "failed = df[df.scrape_status == 'Failed']"
   ]
  },
  {
   "cell_type": "code",
   "execution_count": 126,
   "id": "be1c8c46",
   "metadata": {
    "hidden": true
   },
   "outputs": [
    {
     "data": {
      "text/plain": [
       "505"
      ]
     },
     "execution_count": 126,
     "metadata": {},
     "output_type": "execute_result"
    }
   ],
   "source": [
    "len(failed)"
   ]
  },
  {
   "cell_type": "code",
   "execution_count": 127,
   "id": "cf960ec8",
   "metadata": {
    "hidden": true
   },
   "outputs": [],
   "source": [
    "success = df[df.scrape_status== 'Success'].reset_index(drop=True)"
   ]
  },
  {
   "cell_type": "code",
   "execution_count": 128,
   "id": "fed99422",
   "metadata": {
    "hidden": true
   },
   "outputs": [
    {
     "data": {
      "text/plain": [
       "1722"
      ]
     },
     "execution_count": 128,
     "metadata": {},
     "output_type": "execute_result"
    }
   ],
   "source": [
    "len(success)"
   ]
  },
  {
   "cell_type": "code",
   "execution_count": 129,
   "id": "f9abc851",
   "metadata": {
    "hidden": true
   },
   "outputs": [
    {
     "data": {
      "text/html": [
       "<div>\n",
       "<style scoped>\n",
       "    .dataframe tbody tr th:only-of-type {\n",
       "        vertical-align: middle;\n",
       "    }\n",
       "\n",
       "    .dataframe tbody tr th {\n",
       "        vertical-align: top;\n",
       "    }\n",
       "\n",
       "    .dataframe thead th {\n",
       "        text-align: right;\n",
       "    }\n",
       "</style>\n",
       "<table border=\"1\" class=\"dataframe\">\n",
       "  <thead>\n",
       "    <tr style=\"text-align: right;\">\n",
       "      <th></th>\n",
       "      <th>CompanyName</th>\n",
       "      <th>Website</th>\n",
       "      <th>scrape_status</th>\n",
       "      <th>homepage_content</th>\n",
       "    </tr>\n",
       "  </thead>\n",
       "  <tbody>\n",
       "    <tr>\n",
       "      <th>0</th>\n",
       "      <td>Sawa Impact Labs</td>\n",
       "      <td>https://sawa.gallery/</td>\n",
       "      <td>Success</td>\n",
       "      <td>&lt;!DOCTYPE html&gt;&lt;html class=\"yui3-js-enabled js...</td>\n",
       "    </tr>\n",
       "    <tr>\n",
       "      <th>1</th>\n",
       "      <td>OpenMI at the University of Michigan</td>\n",
       "      <td>https://maizepages.umich.edu/organization/openmi</td>\n",
       "      <td>Success</td>\n",
       "      <td>&lt;!DOCTYPE html&gt;&lt;html lang=\"en\"&gt;&lt;head&gt;\\n    &lt;me...</td>\n",
       "    </tr>\n",
       "    <tr>\n",
       "      <th>2</th>\n",
       "      <td>Nifty's</td>\n",
       "      <td>http://niftys.com</td>\n",
       "      <td>Success</td>\n",
       "      <td>&lt;!DOCTYPE html&gt;&lt;html class=\"no-js\" lang=\"en-US...</td>\n",
       "    </tr>\n",
       "    <tr>\n",
       "      <th>3</th>\n",
       "      <td>Basewell</td>\n",
       "      <td>https://basewell.com</td>\n",
       "      <td>Success</td>\n",
       "      <td>&lt;!DOCTYPE html&gt;&lt;html lang=\"en\"&gt;&lt;head&gt;&lt;meta cha...</td>\n",
       "    </tr>\n",
       "    <tr>\n",
       "      <th>4</th>\n",
       "      <td>Journey</td>\n",
       "      <td>http://journey.io</td>\n",
       "      <td>Success</td>\n",
       "      <td>&lt;!DOCTYPE html&gt;&lt;html lang=\"en\"&gt;&lt;head&gt;\\n    &lt;me...</td>\n",
       "    </tr>\n",
       "  </tbody>\n",
       "</table>\n",
       "</div>"
      ],
      "text/plain": [
       "                            CompanyName  \\\n",
       "0                      Sawa Impact Labs   \n",
       "1  OpenMI at the University of Michigan   \n",
       "2                               Nifty's   \n",
       "3                              Basewell   \n",
       "4                               Journey   \n",
       "\n",
       "                                            Website scrape_status  \\\n",
       "0                             https://sawa.gallery/       Success   \n",
       "1  https://maizepages.umich.edu/organization/openmi       Success   \n",
       "2                                 http://niftys.com       Success   \n",
       "3                              https://basewell.com       Success   \n",
       "4                                 http://journey.io       Success   \n",
       "\n",
       "                                    homepage_content  \n",
       "0  <!DOCTYPE html><html class=\"yui3-js-enabled js...  \n",
       "1  <!DOCTYPE html><html lang=\"en\"><head>\\n    <me...  \n",
       "2  <!DOCTYPE html><html class=\"no-js\" lang=\"en-US...  \n",
       "3  <!DOCTYPE html><html lang=\"en\"><head><meta cha...  \n",
       "4  <!DOCTYPE html><html lang=\"en\"><head>\\n    <me...  "
      ]
     },
     "execution_count": 129,
     "metadata": {},
     "output_type": "execute_result"
    }
   ],
   "source": [
    "success.head()"
   ]
  },
  {
   "cell_type": "code",
   "execution_count": 130,
   "id": "10fb99e6",
   "metadata": {
    "hidden": true
   },
   "outputs": [],
   "source": [
    "from jobsfinder.core import html2md"
   ]
  },
  {
   "cell_type": "code",
   "execution_count": 131,
   "id": "3d144f0f",
   "metadata": {
    "hidden": true
   },
   "outputs": [
    {
     "name": "stdout",
     "output_type": "stream",
     "text": [
      "\n",
      "\n",
      "Squarespace \\- Website Expired\n",
      "\n",
      "\n",
      " \n",
      "Website ExpiredThis account has expired. If you are the site owner, click below to login.\n"
     ]
    }
   ],
   "source": [
    "print(html2md(success.homepage_content.iloc[0]))"
   ]
  },
  {
   "cell_type": "code",
   "execution_count": 132,
   "id": "754b4f91",
   "metadata": {
    "hidden": true
   },
   "outputs": [],
   "source": [
    "df = success.copy()"
   ]
  },
  {
   "cell_type": "code",
   "execution_count": 135,
   "id": "9c39cf9c",
   "metadata": {
    "hidden": true
   },
   "outputs": [
    {
     "data": {
      "text/plain": [
       "1722"
      ]
     },
     "execution_count": 135,
     "metadata": {},
     "output_type": "execute_result"
    }
   ],
   "source": [
    "len(df)"
   ]
  },
  {
   "cell_type": "code",
   "execution_count": 136,
   "id": "e53318fc",
   "metadata": {
    "hidden": true
   },
   "outputs": [],
   "source": [
    "from tqdm import tqdm"
   ]
  },
  {
   "cell_type": "code",
   "execution_count": 137,
   "id": "6d1a4600",
   "metadata": {
    "hidden": true
   },
   "outputs": [
    {
     "name": "stderr",
     "output_type": "stream",
     "text": [
      "100%|██████████████████████████████████████████████████████████████████████████████████████████████████████████████████████████████████████████████████████████████████████████████████████████████████████████████████████████████████| 1722/1722 [06:27<00:00,  4.44it/s]\n"
     ]
    }
   ],
   "source": [
    "df['md'] = [html2md(x) for x in tqdm(df.homepage_content)]"
   ]
  },
  {
   "cell_type": "code",
   "execution_count": 138,
   "id": "e7f69de3",
   "metadata": {
    "hidden": true
   },
   "outputs": [],
   "source": [
    "df['html_length'] = df.homepage_content.apply(lambda x: None if x is None else len(x))\n",
    "df['md_length'] = df.md.apply(lambda x: None if x is None else len(x))"
   ]
  },
  {
   "cell_type": "code",
   "execution_count": 139,
   "id": "9324d29e",
   "metadata": {
    "hidden": true
   },
   "outputs": [
    {
     "data": {
      "text/plain": [
       "count    1.722000e+03\n",
       "mean     2.566247e+05\n",
       "std      8.206222e+05\n",
       "min      3.900000e+01\n",
       "25%      2.496650e+04\n",
       "50%      8.439500e+04\n",
       "75%      2.130652e+05\n",
       "max      1.529246e+07\n",
       "Name: html_length, dtype: float64"
      ]
     },
     "execution_count": 139,
     "metadata": {},
     "output_type": "execute_result"
    }
   ],
   "source": [
    "df.html_length.describe()"
   ]
  },
  {
   "cell_type": "code",
   "execution_count": 140,
   "id": "8eb483e4",
   "metadata": {
    "hidden": true
   },
   "outputs": [
    {
     "data": {
      "text/plain": [
       "count      1722.000000\n",
       "mean       6392.870499\n",
       "std       11975.955074\n",
       "min           0.000000\n",
       "25%        1345.250000\n",
       "50%        4034.000000\n",
       "75%        7348.000000\n",
       "max      261102.000000\n",
       "Name: md_length, dtype: float64"
      ]
     },
     "execution_count": 140,
     "metadata": {},
     "output_type": "execute_result"
    }
   ],
   "source": [
    "df.md_length.describe()"
   ]
  },
  {
   "cell_type": "code",
   "execution_count": 141,
   "id": "75579831",
   "metadata": {
    "hidden": true
   },
   "outputs": [
    {
     "data": {
      "text/plain": [
       "count      1722.000000\n",
       "mean       6392.870499\n",
       "std       11975.955074\n",
       "min           0.000000\n",
       "25%        1345.250000\n",
       "50%        4034.000000\n",
       "75%        7348.000000\n",
       "max      261102.000000\n",
       "Name: md_length, dtype: float64"
      ]
     },
     "execution_count": 141,
     "metadata": {},
     "output_type": "execute_result"
    }
   ],
   "source": [
    "df.md_length.describe()"
   ]
  },
  {
   "cell_type": "code",
   "execution_count": 142,
   "id": "67d53334",
   "metadata": {
    "hidden": true
   },
   "outputs": [],
   "source": [
    "df['md2html_ratio'] = df.html_length / df.md_length"
   ]
  },
  {
   "cell_type": "code",
   "execution_count": 143,
   "id": "88feb7aa",
   "metadata": {
    "hidden": true
   },
   "outputs": [
    {
     "name": "stderr",
     "output_type": "stream",
     "text": [
      "/home/krisztian/projects/usergems-test/venv/lib/python3.12/site-packages/pandas/core/nanops.py:1016: RuntimeWarning: invalid value encountered in subtract\n",
      "  sqr = _ensure_numeric((avg - values) ** 2)\n"
     ]
    },
    {
     "data": {
      "text/plain": [
       "count    1722.000000\n",
       "mean             inf\n",
       "std              NaN\n",
       "min         1.385650\n",
       "25%         8.929793\n",
       "50%        20.265694\n",
       "75%        54.344181\n",
       "max              inf\n",
       "Name: md2html_ratio, dtype: float64"
      ]
     },
     "execution_count": 143,
     "metadata": {},
     "output_type": "execute_result"
    }
   ],
   "source": [
    "df.md2html_ratio.describe()"
   ]
  },
  {
   "cell_type": "code",
   "execution_count": 144,
   "id": "326d9945",
   "metadata": {
    "hidden": true
   },
   "outputs": [],
   "source": [
    "sub1 = df[df.md_length > 20000]"
   ]
  },
  {
   "cell_type": "code",
   "execution_count": 145,
   "id": "3c252225",
   "metadata": {
    "hidden": true
   },
   "outputs": [
    {
     "data": {
      "text/plain": [
       "81"
      ]
     },
     "execution_count": 145,
     "metadata": {},
     "output_type": "execute_result"
    }
   ],
   "source": [
    "len(sub1)"
   ]
  },
  {
   "cell_type": "markdown",
   "id": "f86d3858",
   "metadata": {},
   "source": [
    "# Website Classifications"
   ]
  },
  {
   "cell_type": "markdown",
   "id": "7d253910",
   "metadata": {},
   "source": [
    "GPT pipelines\n",
    "\n",
    "- Check if it's right website (i.e. not just cookie banner, or can't load page, etc.)\n",
    "- Contains job classification\n",
    "- Extract links\n",
    "- Format job description"
   ]
  },
  {
   "cell_type": "code",
   "execution_count": 7,
   "id": "db3dfbea",
   "metadata": {},
   "outputs": [],
   "source": [
    "import pandas as pd\n",
    "from jobsfinder.gpts import *"
   ]
  },
  {
   "cell_type": "code",
   "execution_count": 67,
   "id": "39865dad",
   "metadata": {},
   "outputs": [
    {
     "data": {
      "text/plain": [
       "3475"
      ]
     },
     "execution_count": 67,
     "metadata": {},
     "output_type": "execute_result"
    }
   ],
   "source": [
    "df = pd.read_csv(\"../data/02_adding_markdown.csv\")\n",
    "len(df)"
   ]
  },
  {
   "cell_type": "code",
   "execution_count": 92,
   "id": "124c0c92",
   "metadata": {},
   "outputs": [
    {
     "data": {
      "text/plain": [
       "2775"
      ]
     },
     "execution_count": 92,
     "metadata": {},
     "output_type": "execute_result"
    }
   ],
   "source": [
    "len(df)"
   ]
  },
  {
   "cell_type": "code",
   "execution_count": null,
   "id": "bf2a9701",
   "metadata": {},
   "outputs": [],
   "source": []
  },
  {
   "cell_type": "code",
   "execution_count": null,
   "id": "3a0ec356",
   "metadata": {},
   "outputs": [],
   "source": []
  },
  {
   "cell_type": "code",
   "execution_count": null,
   "id": "b06f7a96",
   "metadata": {},
   "outputs": [],
   "source": []
  },
  {
   "cell_type": "code",
   "execution_count": 69,
   "id": "ffd3c148",
   "metadata": {},
   "outputs": [],
   "source": [
    "df = df[~df.Website.duplicated()]"
   ]
  },
  {
   "cell_type": "code",
   "execution_count": 70,
   "id": "ac5ce28d",
   "metadata": {},
   "outputs": [],
   "source": [
    "df = df[df.Website == 'https://alongside.xyz']"
   ]
  },
  {
   "cell_type": "code",
   "execution_count": 48,
   "id": "7d32ed9c",
   "metadata": {},
   "outputs": [
    {
     "data": {
      "text/html": [
       "<div>\n",
       "<style scoped>\n",
       "    .dataframe tbody tr th:only-of-type {\n",
       "        vertical-align: middle;\n",
       "    }\n",
       "\n",
       "    .dataframe tbody tr th {\n",
       "        vertical-align: top;\n",
       "    }\n",
       "\n",
       "    .dataframe thead th {\n",
       "        text-align: right;\n",
       "    }\n",
       "</style>\n",
       "<table border=\"1\" class=\"dataframe\">\n",
       "  <thead>\n",
       "    <tr style=\"text-align: right;\">\n",
       "      <th></th>\n",
       "      <th>CompanyName</th>\n",
       "      <th>Website</th>\n",
       "      <th>scrape_status</th>\n",
       "      <th>md_status</th>\n",
       "      <th>md</th>\n",
       "      <th>html_length</th>\n",
       "      <th>md_length</th>\n",
       "    </tr>\n",
       "  </thead>\n",
       "  <tbody>\n",
       "    <tr>\n",
       "      <th>2411</th>\n",
       "      <td>Zelf.</td>\n",
       "      <td>http://hellozelf.com</td>\n",
       "      <td>Success</td>\n",
       "      <td>Success</td>\n",
       "      <td>Turn TikTok Into Revenue[![]()](/compete/)[Med...</td>\n",
       "      <td>28304</td>\n",
       "      <td>2906</td>\n",
       "    </tr>\n",
       "    <tr>\n",
       "      <th>1469</th>\n",
       "      <td>Bizzity</td>\n",
       "      <td>http://bizzity.com</td>\n",
       "      <td>Success</td>\n",
       "      <td>Success</td>\n",
       "      <td>Bizzity \\| Let's get Bizzity!\\n\\n\\n![]()\\n\\n\\n...</td>\n",
       "      <td>210478</td>\n",
       "      <td>7354</td>\n",
       "    </tr>\n",
       "  </tbody>\n",
       "</table>\n",
       "</div>"
      ],
      "text/plain": [
       "     CompanyName               Website scrape_status md_status  \\\n",
       "2411       Zelf.  http://hellozelf.com       Success   Success   \n",
       "1469     Bizzity    http://bizzity.com       Success   Success   \n",
       "\n",
       "                                                     md  html_length  \\\n",
       "2411  Turn TikTok Into Revenue[![]()](/compete/)[Med...        28304   \n",
       "1469  Bizzity \\| Let's get Bizzity!\\n\\n\\n![]()\\n\\n\\n...       210478   \n",
       "\n",
       "      md_length  \n",
       "2411       2906  \n",
       "1469       7354  "
      ]
     },
     "execution_count": 48,
     "metadata": {},
     "output_type": "execute_result"
    }
   ],
   "source": [
    "df.sample(20).head(2)"
   ]
  },
  {
   "cell_type": "code",
   "execution_count": 49,
   "id": "e09c1a22",
   "metadata": {},
   "outputs": [],
   "source": [
    "sample = df.sample(5).copy()"
   ]
  },
  {
   "cell_type": "code",
   "execution_count": 50,
   "id": "5d5ffa0c",
   "metadata": {},
   "outputs": [
    {
     "name": "stderr",
     "output_type": "stream",
     "text": [
      "100%|████████████████████████████████████████████████████████████████████████████████████████████████████████████████████████████████████████████████████████████████████████████████████████████████████████████████████████████████████████| 5/5 [00:03<00:00,  1.59it/s]\n"
     ]
    }
   ],
   "source": [
    "results = await quickcases(valid_website, sample.md.tolist())"
   ]
  },
  {
   "cell_type": "code",
   "execution_count": 51,
   "id": "17660f71",
   "metadata": {},
   "outputs": [],
   "source": [
    "sample['judgment'] = results"
   ]
  },
  {
   "cell_type": "code",
   "execution_count": 52,
   "id": "65b5d62b",
   "metadata": {},
   "outputs": [],
   "source": [
    "invalid = sample[sample.judgment == \"invalid\"]"
   ]
  },
  {
   "cell_type": "code",
   "execution_count": 53,
   "id": "ef8999ce",
   "metadata": {},
   "outputs": [
    {
     "data": {
      "text/plain": [
       "Series([], Name: Website, dtype: object)"
      ]
     },
     "execution_count": 53,
     "metadata": {},
     "output_type": "execute_result"
    }
   ],
   "source": [
    "invalid.Website"
   ]
  },
  {
   "cell_type": "code",
   "execution_count": 54,
   "id": "d751270b",
   "metadata": {},
   "outputs": [],
   "source": [
    "valid = sample[sample.judgment=='valid']"
   ]
  },
  {
   "cell_type": "code",
   "execution_count": 60,
   "id": "d86afed8",
   "metadata": {},
   "outputs": [
    {
     "data": {
      "text/plain": [
       "1467"
      ]
     },
     "execution_count": 60,
     "metadata": {},
     "output_type": "execute_result"
    }
   ],
   "source": [
    "sum(df.Website.duplicated())"
   ]
  },
  {
   "cell_type": "code",
   "execution_count": 63,
   "id": "cef0add6",
   "metadata": {},
   "outputs": [
    {
     "data": {
      "text/html": [
       "<div>\n",
       "<style scoped>\n",
       "    .dataframe tbody tr th:only-of-type {\n",
       "        vertical-align: middle;\n",
       "    }\n",
       "\n",
       "    .dataframe tbody tr th {\n",
       "        vertical-align: top;\n",
       "    }\n",
       "\n",
       "    .dataframe thead th {\n",
       "        text-align: right;\n",
       "    }\n",
       "</style>\n",
       "<table border=\"1\" class=\"dataframe\">\n",
       "  <thead>\n",
       "    <tr style=\"text-align: right;\">\n",
       "      <th></th>\n",
       "      <th>CompanyName</th>\n",
       "      <th>Website</th>\n",
       "      <th>scrape_status</th>\n",
       "      <th>md_status</th>\n",
       "      <th>md</th>\n",
       "      <th>html_length</th>\n",
       "      <th>md_length</th>\n",
       "    </tr>\n",
       "  </thead>\n",
       "  <tbody>\n",
       "    <tr>\n",
       "      <th>44</th>\n",
       "      <td>Alongside</td>\n",
       "      <td>https://alongside.xyz</td>\n",
       "      <td>Success</td>\n",
       "      <td>Success</td>\n",
       "      <td>Attention Required! \\| Cloudflare\\n\\n\\nPlease ...</td>\n",
       "      <td>5813</td>\n",
       "      <td>957</td>\n",
       "    </tr>\n",
       "    <tr>\n",
       "      <th>96</th>\n",
       "      <td>24 and Up</td>\n",
       "      <td>http://www.24andup.com</td>\n",
       "      <td>Success</td>\n",
       "      <td>Success</td>\n",
       "      <td>24 and Up\\n\\n\\nThis website stores cookies on ...</td>\n",
       "      <td>28972</td>\n",
       "      <td>3196</td>\n",
       "    </tr>\n",
       "    <tr>\n",
       "      <th>164</th>\n",
       "      <td>3Vi</td>\n",
       "      <td>http://www.3vi.us</td>\n",
       "      <td>Success</td>\n",
       "      <td>Success</td>\n",
       "      <td>3Vi\\n\\n\\n * [Home](/)\\n* [About Us](/about-us)...</td>\n",
       "      <td>84395</td>\n",
       "      <td>518</td>\n",
       "    </tr>\n",
       "    <tr>\n",
       "      <th>188</th>\n",
       "      <td>Replo (YC S21)</td>\n",
       "      <td>https://replo.app/</td>\n",
       "      <td>Success</td>\n",
       "      <td>Success</td>\n",
       "      <td>Replo \\- Shopify pages without the dev time* P...</td>\n",
       "      <td>3792353</td>\n",
       "      <td>9930</td>\n",
       "    </tr>\n",
       "    <tr>\n",
       "      <th>191</th>\n",
       "      <td>Angler AI</td>\n",
       "      <td>https://getangler.ai/</td>\n",
       "      <td>Success</td>\n",
       "      <td>Success</td>\n",
       "      <td>Angler AI[Angler AI![]()![]()](/)Open menuPlat...</td>\n",
       "      <td>81681</td>\n",
       "      <td>7294</td>\n",
       "    </tr>\n",
       "    <tr>\n",
       "      <th>...</th>\n",
       "      <td>...</td>\n",
       "      <td>...</td>\n",
       "      <td>...</td>\n",
       "      <td>...</td>\n",
       "      <td>...</td>\n",
       "      <td>...</td>\n",
       "      <td>...</td>\n",
       "    </tr>\n",
       "    <tr>\n",
       "      <th>3434</th>\n",
       "      <td>SheBelieves Co.</td>\n",
       "      <td>https://shebelievesmagazine.com/</td>\n",
       "      <td>Success</td>\n",
       "      <td>Success</td>\n",
       "      <td>Home \\- SheBelieves Co. A Christian Ministry \\...</td>\n",
       "      <td>245472</td>\n",
       "      <td>5315</td>\n",
       "    </tr>\n",
       "    <tr>\n",
       "      <th>3444</th>\n",
       "      <td>Twig</td>\n",
       "      <td>https://www.twig.so</td>\n",
       "      <td>Success</td>\n",
       "      <td>Success</td>\n",
       "      <td>AI Brain for CX\\n\\n\\n![]()#### Watch the video...</td>\n",
       "      <td>73141</td>\n",
       "      <td>6836</td>\n",
       "    </tr>\n",
       "    <tr>\n",
       "      <th>3451</th>\n",
       "      <td>Worklyfe.io</td>\n",
       "      <td>https://worklyfe.io</td>\n",
       "      <td>Success</td>\n",
       "      <td>Success</td>\n",
       "      <td>Worklyfe \\| Motivate and Reward People \\- Work...</td>\n",
       "      <td>102970</td>\n",
       "      <td>5321</td>\n",
       "    </tr>\n",
       "    <tr>\n",
       "      <th>3454</th>\n",
       "      <td>Espresso</td>\n",
       "      <td>https://www.espresso.xyz/</td>\n",
       "      <td>Success</td>\n",
       "      <td>Success</td>\n",
       "      <td>404 \\- Page not found\\n\\n\\n404\\n\\nPage not fou...</td>\n",
       "      <td>895</td>\n",
       "      <td>122</td>\n",
       "    </tr>\n",
       "    <tr>\n",
       "      <th>3474</th>\n",
       "      <td>Smart Tribe</td>\n",
       "      <td>http://www.smarttribe.org</td>\n",
       "      <td>Success</td>\n",
       "      <td>Success</td>\n",
       "      <td>\"Data Equity Bank \\| Data Wages For Everyone.\\...</td>\n",
       "      <td>541279</td>\n",
       "      <td>2879</td>\n",
       "    </tr>\n",
       "  </tbody>\n",
       "</table>\n",
       "<p>1467 rows × 7 columns</p>\n",
       "</div>"
      ],
      "text/plain": [
       "          CompanyName                           Website scrape_status  \\\n",
       "44          Alongside             https://alongside.xyz       Success   \n",
       "96          24 and Up            http://www.24andup.com       Success   \n",
       "164               3Vi                 http://www.3vi.us       Success   \n",
       "188    Replo (YC S21)                https://replo.app/       Success   \n",
       "191         Angler AI             https://getangler.ai/       Success   \n",
       "...               ...                               ...           ...   \n",
       "3434  SheBelieves Co.  https://shebelievesmagazine.com/       Success   \n",
       "3444             Twig               https://www.twig.so       Success   \n",
       "3451      Worklyfe.io               https://worklyfe.io       Success   \n",
       "3454         Espresso         https://www.espresso.xyz/       Success   \n",
       "3474      Smart Tribe         http://www.smarttribe.org       Success   \n",
       "\n",
       "     md_status                                                 md  \\\n",
       "44     Success  Attention Required! \\| Cloudflare\\n\\n\\nPlease ...   \n",
       "96     Success  24 and Up\\n\\n\\nThis website stores cookies on ...   \n",
       "164    Success  3Vi\\n\\n\\n * [Home](/)\\n* [About Us](/about-us)...   \n",
       "188    Success  Replo \\- Shopify pages without the dev time* P...   \n",
       "191    Success  Angler AI[Angler AI![]()![]()](/)Open menuPlat...   \n",
       "...        ...                                                ...   \n",
       "3434   Success  Home \\- SheBelieves Co. A Christian Ministry \\...   \n",
       "3444   Success  AI Brain for CX\\n\\n\\n![]()#### Watch the video...   \n",
       "3451   Success  Worklyfe \\| Motivate and Reward People \\- Work...   \n",
       "3454   Success  404 \\- Page not found\\n\\n\\n404\\n\\nPage not fou...   \n",
       "3474   Success  \"Data Equity Bank \\| Data Wages For Everyone.\\...   \n",
       "\n",
       "      html_length  md_length  \n",
       "44           5813        957  \n",
       "96          28972       3196  \n",
       "164         84395        518  \n",
       "188       3792353       9930  \n",
       "191         81681       7294  \n",
       "...           ...        ...  \n",
       "3434       245472       5315  \n",
       "3444        73141       6836  \n",
       "3451       102970       5321  \n",
       "3454          895        122  \n",
       "3474       541279       2879  \n",
       "\n",
       "[1467 rows x 7 columns]"
      ]
     },
     "execution_count": 63,
     "metadata": {},
     "output_type": "execute_result"
    }
   ],
   "source": [
    "df[df.Website.duplicated()]"
   ]
  },
  {
   "cell_type": "code",
   "execution_count": 65,
   "id": "36511f0b",
   "metadata": {},
   "outputs": [],
   "source": [
    "df = df[df.Website == 'https://alongside.xyz']"
   ]
  },
  {
   "cell_type": "code",
   "execution_count": 66,
   "id": "c974b2fb",
   "metadata": {},
   "outputs": [
    {
     "data": {
      "text/html": [
       "<div>\n",
       "<style scoped>\n",
       "    .dataframe tbody tr th:only-of-type {\n",
       "        vertical-align: middle;\n",
       "    }\n",
       "\n",
       "    .dataframe tbody tr th {\n",
       "        vertical-align: top;\n",
       "    }\n",
       "\n",
       "    .dataframe thead th {\n",
       "        text-align: right;\n",
       "    }\n",
       "</style>\n",
       "<table border=\"1\" class=\"dataframe\">\n",
       "  <thead>\n",
       "    <tr style=\"text-align: right;\">\n",
       "      <th></th>\n",
       "      <th>CompanyName</th>\n",
       "      <th>Website</th>\n",
       "      <th>scrape_status</th>\n",
       "      <th>md_status</th>\n",
       "      <th>md</th>\n",
       "      <th>html_length</th>\n",
       "      <th>md_length</th>\n",
       "    </tr>\n",
       "  </thead>\n",
       "  <tbody>\n",
       "    <tr>\n",
       "      <th>43</th>\n",
       "      <td>Alongside</td>\n",
       "      <td>https://alongside.xyz</td>\n",
       "      <td>Success</td>\n",
       "      <td>Success</td>\n",
       "      <td>Attention Required! \\| Cloudflare\\n\\n\\nPlease ...</td>\n",
       "      <td>5813</td>\n",
       "      <td>957</td>\n",
       "    </tr>\n",
       "    <tr>\n",
       "      <th>44</th>\n",
       "      <td>Alongside</td>\n",
       "      <td>https://alongside.xyz</td>\n",
       "      <td>Success</td>\n",
       "      <td>Success</td>\n",
       "      <td>Attention Required! \\| Cloudflare\\n\\n\\nPlease ...</td>\n",
       "      <td>5813</td>\n",
       "      <td>957</td>\n",
       "    </tr>\n",
       "    <tr>\n",
       "      <th>207</th>\n",
       "      <td>Alongside</td>\n",
       "      <td>https://alongside.xyz</td>\n",
       "      <td>Success</td>\n",
       "      <td>Success</td>\n",
       "      <td>Attention Required! \\| Cloudflare\\n\\n\\nPlease ...</td>\n",
       "      <td>5813</td>\n",
       "      <td>957</td>\n",
       "    </tr>\n",
       "    <tr>\n",
       "      <th>1590</th>\n",
       "      <td>Alongside</td>\n",
       "      <td>https://alongside.xyz</td>\n",
       "      <td>Success</td>\n",
       "      <td>Success</td>\n",
       "      <td>Attention Required! \\| Cloudflare\\n\\n\\nPlease ...</td>\n",
       "      <td>5813</td>\n",
       "      <td>957</td>\n",
       "    </tr>\n",
       "    <tr>\n",
       "      <th>1591</th>\n",
       "      <td>Alongside</td>\n",
       "      <td>https://alongside.xyz</td>\n",
       "      <td>Success</td>\n",
       "      <td>Success</td>\n",
       "      <td>Attention Required! \\| Cloudflare\\n\\n\\nPlease ...</td>\n",
       "      <td>5813</td>\n",
       "      <td>957</td>\n",
       "    </tr>\n",
       "    <tr>\n",
       "      <th>1697</th>\n",
       "      <td>Alongside</td>\n",
       "      <td>https://alongside.xyz</td>\n",
       "      <td>Success</td>\n",
       "      <td>Success</td>\n",
       "      <td>Attention Required! \\| Cloudflare\\n\\n\\nPlease ...</td>\n",
       "      <td>5813</td>\n",
       "      <td>957</td>\n",
       "    </tr>\n",
       "  </tbody>\n",
       "</table>\n",
       "</div>"
      ],
      "text/plain": [
       "     CompanyName                Website scrape_status md_status  \\\n",
       "43     Alongside  https://alongside.xyz       Success   Success   \n",
       "44     Alongside  https://alongside.xyz       Success   Success   \n",
       "207    Alongside  https://alongside.xyz       Success   Success   \n",
       "1590   Alongside  https://alongside.xyz       Success   Success   \n",
       "1591   Alongside  https://alongside.xyz       Success   Success   \n",
       "1697   Alongside  https://alongside.xyz       Success   Success   \n",
       "\n",
       "                                                     md  html_length  \\\n",
       "43    Attention Required! \\| Cloudflare\\n\\n\\nPlease ...         5813   \n",
       "44    Attention Required! \\| Cloudflare\\n\\n\\nPlease ...         5813   \n",
       "207   Attention Required! \\| Cloudflare\\n\\n\\nPlease ...         5813   \n",
       "1590  Attention Required! \\| Cloudflare\\n\\n\\nPlease ...         5813   \n",
       "1591  Attention Required! \\| Cloudflare\\n\\n\\nPlease ...         5813   \n",
       "1697  Attention Required! \\| Cloudflare\\n\\n\\nPlease ...         5813   \n",
       "\n",
       "      md_length  \n",
       "43          957  \n",
       "44          957  \n",
       "207         957  \n",
       "1590        957  \n",
       "1591        957  \n",
       "1697        957  "
      ]
     },
     "execution_count": 66,
     "metadata": {},
     "output_type": "execute_result"
    }
   ],
   "source": [
    "df"
   ]
  },
  {
   "cell_type": "code",
   "execution_count": null,
   "id": "5b656d56",
   "metadata": {},
   "outputs": [],
   "source": []
  },
  {
   "cell_type": "code",
   "execution_count": 57,
   "id": "5da5dd97",
   "metadata": {},
   "outputs": [
    {
     "data": {
      "text/plain": [
       "26     RamperProducts [Ramper Wallet](/wallet)[Ramper...\n",
       "855    Strake \\| LinkedIn\\n\\n\\n \\n\\n\\n \\n\\nLinkedIn a...\n",
       "39     Greenplaces: The All\\-In\\-One Sustainability P...\n",
       "879    GCTS – Creating Accessible Technical Solutions...\n",
       "296    Adaptive \\| All\\-In\\-One Construction Finance ...\n",
       "Name: md, dtype: object"
      ]
     },
     "execution_count": 57,
     "metadata": {},
     "output_type": "execute_result"
    }
   ],
   "source": [
    "valid.md"
   ]
  },
  {
   "cell_type": "code",
   "execution_count": 23,
   "id": "130e58c5",
   "metadata": {},
   "outputs": [
    {
     "data": {
      "text/plain": [
       "3475"
      ]
     },
     "execution_count": 23,
     "metadata": {},
     "output_type": "execute_result"
    }
   ],
   "source": [
    "len(df)"
   ]
  },
  {
   "cell_type": "code",
   "execution_count": 27,
   "id": "ba9ba768",
   "metadata": {},
   "outputs": [],
   "source": [
    "results = pd.read_csv(\"../data/03_valid_website.csv\")"
   ]
  },
  {
   "cell_type": "code",
   "execution_count": 29,
   "id": "5e585e70",
   "metadata": {},
   "outputs": [
    {
     "data": {
      "text/plain": [
       "3475"
      ]
     },
     "execution_count": 29,
     "metadata": {},
     "output_type": "execute_result"
    }
   ],
   "source": [
    "len(results)"
   ]
  },
  {
   "cell_type": "code",
   "execution_count": 30,
   "id": "90afb686",
   "metadata": {},
   "outputs": [
    {
     "data": {
      "text/html": [
       "<div>\n",
       "<style scoped>\n",
       "    .dataframe tbody tr th:only-of-type {\n",
       "        vertical-align: middle;\n",
       "    }\n",
       "\n",
       "    .dataframe tbody tr th {\n",
       "        vertical-align: top;\n",
       "    }\n",
       "\n",
       "    .dataframe thead th {\n",
       "        text-align: right;\n",
       "    }\n",
       "</style>\n",
       "<table border=\"1\" class=\"dataframe\">\n",
       "  <thead>\n",
       "    <tr style=\"text-align: right;\">\n",
       "      <th></th>\n",
       "      <th>CompanyName</th>\n",
       "      <th>Website</th>\n",
       "      <th>scrape_status</th>\n",
       "      <th>md_status</th>\n",
       "      <th>md</th>\n",
       "      <th>html_length</th>\n",
       "      <th>md_length</th>\n",
       "      <th>valid_website</th>\n",
       "    </tr>\n",
       "  </thead>\n",
       "  <tbody>\n",
       "    <tr>\n",
       "      <th>0</th>\n",
       "      <td>Sawa Impact Labs</td>\n",
       "      <td>https://sawa.gallery/</td>\n",
       "      <td>Success</td>\n",
       "      <td>Success</td>\n",
       "      <td>Squarespace \\- Website Expired\\n\\n\\n \\nWebsite...</td>\n",
       "      <td>6998</td>\n",
       "      <td>124</td>\n",
       "      <td>NaN</td>\n",
       "    </tr>\n",
       "    <tr>\n",
       "      <th>1</th>\n",
       "      <td>OpenMI at the University of Michigan</td>\n",
       "      <td>https://maizepages.umich.edu/organization/openmi</td>\n",
       "      <td>Success</td>\n",
       "      <td>Success</td>\n",
       "      <td>OpenMI \\- University of Michigan Maize Pages\\n...</td>\n",
       "      <td>39237</td>\n",
       "      <td>784</td>\n",
       "      <td>NaN</td>\n",
       "    </tr>\n",
       "  </tbody>\n",
       "</table>\n",
       "</div>"
      ],
      "text/plain": [
       "                            CompanyName  \\\n",
       "0                      Sawa Impact Labs   \n",
       "1  OpenMI at the University of Michigan   \n",
       "\n",
       "                                            Website scrape_status md_status  \\\n",
       "0                             https://sawa.gallery/       Success   Success   \n",
       "1  https://maizepages.umich.edu/organization/openmi       Success   Success   \n",
       "\n",
       "                                                  md  html_length  md_length  \\\n",
       "0  Squarespace \\- Website Expired\\n\\n\\n \\nWebsite...         6998        124   \n",
       "1  OpenMI \\- University of Michigan Maize Pages\\n...        39237        784   \n",
       "\n",
       "  valid_website  \n",
       "0           NaN  \n",
       "1           NaN  "
      ]
     },
     "execution_count": 30,
     "metadata": {},
     "output_type": "execute_result"
    }
   ],
   "source": [
    "results.head(2)"
   ]
  },
  {
   "cell_type": "code",
   "execution_count": 31,
   "id": "01946931",
   "metadata": {},
   "outputs": [
    {
     "data": {
      "text/plain": [
       "valid_website\n",
       "valid      374\n",
       "invalid     40\n",
       "Name: count, dtype: int64"
      ]
     },
     "execution_count": 31,
     "metadata": {},
     "output_type": "execute_result"
    }
   ],
   "source": [
    "results.valid_website.value_counts()"
   ]
  },
  {
   "cell_type": "code",
   "execution_count": 35,
   "id": "2be087e4",
   "metadata": {},
   "outputs": [],
   "source": [
    "sample = results[results.valid_website == 'invalid'].sample()"
   ]
  },
  {
   "cell_type": "code",
   "execution_count": 36,
   "id": "d4928f58",
   "metadata": {},
   "outputs": [
    {
     "data": {
      "text/plain": [
       "40"
      ]
     },
     "execution_count": 36,
     "metadata": {},
     "output_type": "execute_result"
    }
   ],
   "source": [
    "len(valid)"
   ]
  },
  {
   "cell_type": "code",
   "execution_count": null,
   "id": "8032bd02",
   "metadata": {},
   "outputs": [],
   "source": []
  },
  {
   "cell_type": "code",
   "execution_count": 46,
   "id": "f0aa6afb",
   "metadata": {},
   "outputs": [
    {
     "name": "stdout",
     "output_type": "stream",
     "text": [
      "Before ![Before Logo]()the talent platform for the modern workforce\n",
      "============================================\n",
      "\n",
      "**You are more than your resume, and jobs are more than to\\-do lists.**\n",
      "-----------------------------------------------------------------------\n",
      "\n",
      "Join our wait list.Replace our email address with your own.Who are you?I am a potential candidate.I am a potential employer.I am a potential strategic partner.I am potentially something else. Choose four icons from below to represent your perfect job, and drag them under the folder. Join the list\n"
     ]
    }
   ],
   "source": [
    "print(valid.md.loc[1347])"
   ]
  },
  {
   "cell_type": "code",
   "execution_count": null,
   "id": "94230789",
   "metadata": {},
   "outputs": [],
   "source": []
  },
  {
   "cell_type": "code",
   "execution_count": null,
   "id": "f24e137f",
   "metadata": {},
   "outputs": [],
   "source": []
  },
  {
   "cell_type": "code",
   "execution_count": 37,
   "id": "a9ccfe3c",
   "metadata": {},
   "outputs": [
    {
     "data": {
      "text/plain": [
       "1918                http://chow420.com\n",
       "814      https://discord.gg/cw3sKBeEcW\n",
       "155     https://www.amafoogleflix.com/\n",
       "2452           http://www.TheTease.com\n",
       "1347                 http://before.dev\n",
       "Name: Website, dtype: object"
      ]
     },
     "execution_count": 37,
     "metadata": {},
     "output_type": "execute_result"
    }
   ],
   "source": [
    "valid.Website.sample(5)"
   ]
  },
  {
   "cell_type": "code",
   "execution_count": null,
   "id": "11d461d6",
   "metadata": {},
   "outputs": [],
   "source": []
  },
  {
   "cell_type": "code",
   "execution_count": null,
   "id": "6f09fa9b",
   "metadata": {},
   "outputs": [],
   "source": []
  },
  {
   "cell_type": "code",
   "execution_count": null,
   "id": "723f6849",
   "metadata": {},
   "outputs": [],
   "source": []
  },
  {
   "cell_type": "code",
   "execution_count": null,
   "id": "de1cee8b",
   "metadata": {},
   "outputs": [],
   "source": []
  },
  {
   "cell_type": "code",
   "execution_count": null,
   "id": "fb7b8c51",
   "metadata": {},
   "outputs": [],
   "source": []
  }
 ],
 "metadata": {
  "kernelspec": {
   "display_name": "Python 3 (ipykernel)",
   "language": "python",
   "name": "python3"
  },
  "language_info": {
   "codemirror_mode": {
    "name": "ipython",
    "version": 3
   },
   "file_extension": ".py",
   "mimetype": "text/x-python",
   "name": "python",
   "nbconvert_exporter": "python",
   "pygments_lexer": "ipython3",
   "version": "3.12.4"
  }
 },
 "nbformat": 4,
 "nbformat_minor": 5
}
