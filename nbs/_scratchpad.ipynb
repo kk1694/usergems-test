{
 "cells": [
  {
   "cell_type": "code",
   "execution_count": 1,
   "id": "b8764f54",
   "metadata": {},
   "outputs": [],
   "source": [
    "%load_ext autoreload\n",
    "%autoreload 2"
   ]
  },
  {
   "cell_type": "code",
   "execution_count": 2,
   "id": "9af5d173",
   "metadata": {},
   "outputs": [],
   "source": [
    "import pandas as pd\n",
    "import json\n",
    "\n",
    "import re\n",
    "\n",
    "import asyncio\n",
    "from playwright.async_api import async_playwright\n",
    "import tqdm.asyncio"
   ]
  },
  {
   "cell_type": "markdown",
   "id": "3c1a9c40",
   "metadata": {
    "heading_collapsed": true
   },
   "source": [
    "# Subset to software"
   ]
  },
  {
   "cell_type": "code",
   "execution_count": 103,
   "id": "a2bde781",
   "metadata": {
    "hidden": true
   },
   "outputs": [],
   "source": [
    "df = pd.read_csv(\"./websites.csv\")"
   ]
  },
  {
   "cell_type": "code",
   "execution_count": 105,
   "id": "bc932831",
   "metadata": {
    "hidden": true
   },
   "outputs": [
    {
     "data": {
      "text/plain": [
       "66342"
      ]
     },
     "execution_count": 105,
     "metadata": {},
     "output_type": "execute_result"
    }
   ],
   "source": [
    "len(df)"
   ]
  },
  {
   "cell_type": "code",
   "execution_count": 104,
   "id": "72a10df4",
   "metadata": {
    "hidden": true
   },
   "outputs": [
    {
     "data": {
      "text/html": [
       "<div>\n",
       "<style scoped>\n",
       "    .dataframe tbody tr th:only-of-type {\n",
       "        vertical-align: middle;\n",
       "    }\n",
       "\n",
       "    .dataframe tbody tr th {\n",
       "        vertical-align: top;\n",
       "    }\n",
       "\n",
       "    .dataframe thead th {\n",
       "        text-align: right;\n",
       "    }\n",
       "</style>\n",
       "<table border=\"1\" class=\"dataframe\">\n",
       "  <thead>\n",
       "    <tr style=\"text-align: right;\">\n",
       "      <th></th>\n",
       "      <th>Unnamed: 0</th>\n",
       "      <th>CompanyName</th>\n",
       "      <th>Website</th>\n",
       "      <th>Specialties</th>\n",
       "      <th>Address</th>\n",
       "      <th>Industry</th>\n",
       "      <th>Unnamed: 6</th>\n",
       "    </tr>\n",
       "  </thead>\n",
       "  <tbody>\n",
       "    <tr>\n",
       "      <th>0</th>\n",
       "      <td>1543</td>\n",
       "      <td>Add*Ed</td>\n",
       "      <td>http://www.addedrg.ca</td>\n",
       "      <td>['autism' 'intellectual disability' 'teacher t...</td>\n",
       "      <td>{'city': 'Kingston', 'country': 'canada', 'cou...</td>\n",
       "      <td>Education Management</td>\n",
       "      <td>NaN</td>\n",
       "    </tr>\n",
       "    <tr>\n",
       "      <th>1</th>\n",
       "      <td>1952</td>\n",
       "      <td>Addison AG Tech, LP</td>\n",
       "      <td>http://www.AddisonFund.com</td>\n",
       "      <td>[]</td>\n",
       "      <td>{'city': 'Addison', 'country': 'united states'...</td>\n",
       "      <td>Financial Services</td>\n",
       "      <td>NaN</td>\n",
       "    </tr>\n",
       "  </tbody>\n",
       "</table>\n",
       "</div>"
      ],
      "text/plain": [
       "  Unnamed: 0          CompanyName                     Website  \\\n",
       "0       1543               Add*Ed       http://www.addedrg.ca   \n",
       "1       1952  Addison AG Tech, LP  http://www.AddisonFund.com   \n",
       "\n",
       "                                         Specialties  \\\n",
       "0  ['autism' 'intellectual disability' 'teacher t...   \n",
       "1                                                 []   \n",
       "\n",
       "                                             Address              Industry  \\\n",
       "0  {'city': 'Kingston', 'country': 'canada', 'cou...  Education Management   \n",
       "1  {'city': 'Addison', 'country': 'united states'...    Financial Services   \n",
       "\n",
       "  Unnamed: 6  \n",
       "0        NaN  \n",
       "1        NaN  "
      ]
     },
     "execution_count": 104,
     "metadata": {},
     "output_type": "execute_result"
    }
   ],
   "source": [
    "df.head(2)"
   ]
  },
  {
   "cell_type": "code",
   "execution_count": 4,
   "id": "398eee34",
   "metadata": {
    "hidden": true
   },
   "outputs": [
    {
     "data": {
      "text/html": [
       "<div>\n",
       "<style scoped>\n",
       "    .dataframe tbody tr th:only-of-type {\n",
       "        vertical-align: middle;\n",
       "    }\n",
       "\n",
       "    .dataframe tbody tr th {\n",
       "        vertical-align: top;\n",
       "    }\n",
       "\n",
       "    .dataframe thead th {\n",
       "        text-align: right;\n",
       "    }\n",
       "</style>\n",
       "<table border=\"1\" class=\"dataframe\">\n",
       "  <thead>\n",
       "    <tr style=\"text-align: right;\">\n",
       "      <th></th>\n",
       "      <th>Unnamed: 0</th>\n",
       "      <th>CompanyName</th>\n",
       "      <th>Website</th>\n",
       "      <th>Specialties</th>\n",
       "      <th>Address</th>\n",
       "      <th>Industry</th>\n",
       "      <th>Unnamed: 6</th>\n",
       "    </tr>\n",
       "  </thead>\n",
       "  <tbody>\n",
       "    <tr>\n",
       "      <th>66340</th>\n",
       "      <td>7404336</td>\n",
       "      <td>Wireframe Marketing</td>\n",
       "      <td>https://wireframemarketing.com</td>\n",
       "      <td>['SEO Services' 'Logo Design' 'Branding' 'Soci...</td>\n",
       "      <td>{'city': 'REXBURG', 'country': 'united states'...</td>\n",
       "      <td>Marketing &amp; Advertising</td>\n",
       "      <td>NaN</td>\n",
       "    </tr>\n",
       "    <tr>\n",
       "      <th>66341</th>\n",
       "      <td>7404394</td>\n",
       "      <td>Wirehound Networks</td>\n",
       "      <td>http://www.wirehoundnetworks.com</td>\n",
       "      <td>[]</td>\n",
       "      <td>{'city': 'Richfield', 'country': 'united state...</td>\n",
       "      <td>Computer &amp; Network Security</td>\n",
       "      <td>NaN</td>\n",
       "    </tr>\n",
       "  </tbody>\n",
       "</table>\n",
       "</div>"
      ],
      "text/plain": [
       "      Unnamed: 0          CompanyName                           Website  \\\n",
       "66340    7404336  Wireframe Marketing    https://wireframemarketing.com   \n",
       "66341    7404394   Wirehound Networks  http://www.wirehoundnetworks.com   \n",
       "\n",
       "                                             Specialties  \\\n",
       "66340  ['SEO Services' 'Logo Design' 'Branding' 'Soci...   \n",
       "66341                                                 []   \n",
       "\n",
       "                                                 Address  \\\n",
       "66340  {'city': 'REXBURG', 'country': 'united states'...   \n",
       "66341  {'city': 'Richfield', 'country': 'united state...   \n",
       "\n",
       "                          Industry Unnamed: 6  \n",
       "66340      Marketing & Advertising        NaN  \n",
       "66341  Computer & Network Security        NaN  "
      ]
     },
     "execution_count": 4,
     "metadata": {},
     "output_type": "execute_result"
    }
   ],
   "source": [
    "df.tail(2)"
   ]
  },
  {
   "cell_type": "code",
   "execution_count": 8,
   "id": "fd7ccae9",
   "metadata": {
    "hidden": true
   },
   "outputs": [
    {
     "data": {
      "text/plain": [
       "6548"
      ]
     },
     "execution_count": 8,
     "metadata": {},
     "output_type": "execute_result"
    }
   ],
   "source": [
    "df = df[df['Industry'] == 'Computer Software'].reset_index()\n",
    "len(df)"
   ]
  },
  {
   "cell_type": "code",
   "execution_count": 9,
   "id": "ec5a4906",
   "metadata": {
    "hidden": true
   },
   "outputs": [
    {
     "data": {
      "text/html": [
       "<div>\n",
       "<style scoped>\n",
       "    .dataframe tbody tr th:only-of-type {\n",
       "        vertical-align: middle;\n",
       "    }\n",
       "\n",
       "    .dataframe tbody tr th {\n",
       "        vertical-align: top;\n",
       "    }\n",
       "\n",
       "    .dataframe thead th {\n",
       "        text-align: right;\n",
       "    }\n",
       "</style>\n",
       "<table border=\"1\" class=\"dataframe\">\n",
       "  <thead>\n",
       "    <tr style=\"text-align: right;\">\n",
       "      <th></th>\n",
       "      <th>index</th>\n",
       "      <th>Unnamed: 0</th>\n",
       "      <th>CompanyName</th>\n",
       "      <th>Website</th>\n",
       "      <th>Specialties</th>\n",
       "      <th>Address</th>\n",
       "      <th>Industry</th>\n",
       "      <th>Unnamed: 6</th>\n",
       "    </tr>\n",
       "  </thead>\n",
       "  <tbody>\n",
       "    <tr>\n",
       "      <th>0</th>\n",
       "      <td>11</td>\n",
       "      <td>5314</td>\n",
       "      <td>Sawa Impact Labs</td>\n",
       "      <td>https://sawa.gallery/</td>\n",
       "      <td>[]</td>\n",
       "      <td>{'city': 'Stanford', 'country': 'united states...</td>\n",
       "      <td>Computer Software</td>\n",
       "      <td>NaN</td>\n",
       "    </tr>\n",
       "    <tr>\n",
       "      <th>1</th>\n",
       "      <td>19</td>\n",
       "      <td>5505</td>\n",
       "      <td>OpenMI at the University of Michigan</td>\n",
       "      <td>https://maizepages.umich.edu/organization/openmi</td>\n",
       "      <td>[]</td>\n",
       "      <td>{'city': 'Ann Arbor', 'country': 'united state...</td>\n",
       "      <td>Computer Software</td>\n",
       "      <td>NaN</td>\n",
       "    </tr>\n",
       "  </tbody>\n",
       "</table>\n",
       "</div>"
      ],
      "text/plain": [
       "   index Unnamed: 0                           CompanyName  \\\n",
       "0     11       5314                      Sawa Impact Labs   \n",
       "1     19       5505  OpenMI at the University of Michigan   \n",
       "\n",
       "                                            Website Specialties  \\\n",
       "0                             https://sawa.gallery/          []   \n",
       "1  https://maizepages.umich.edu/organization/openmi          []   \n",
       "\n",
       "                                             Address           Industry  \\\n",
       "0  {'city': 'Stanford', 'country': 'united states...  Computer Software   \n",
       "1  {'city': 'Ann Arbor', 'country': 'united state...  Computer Software   \n",
       "\n",
       "  Unnamed: 6  \n",
       "0        NaN  \n",
       "1        NaN  "
      ]
     },
     "execution_count": 9,
     "metadata": {},
     "output_type": "execute_result"
    }
   ],
   "source": [
    "df.head(2)"
   ]
  },
  {
   "cell_type": "code",
   "execution_count": 42,
   "id": "a04e6162",
   "metadata": {
    "hidden": true
   },
   "outputs": [],
   "source": [
    "def parse_single_quote_json(json_str):\n",
    "    json_str_fixed = json_str.replace(\"'\", '\"').replace(\"None\", \"null\")\n",
    "    try:\n",
    "        return json.loads(json_str_fixed)\n",
    "    except json.JSONDecodeError as e:\n",
    "        print(f\"Error parsing JSON: {e}\")\n",
    "        return None\n",
    "    \n",
    "def _get_country(_str):\n",
    "    x = parse_single_quote_json(_str)\n",
    "    if x is None:\n",
    "        return None\n",
    "    if 'country' not in x.keys():\n",
    "        return None\n",
    "    return x['country']\n",
    "    "
   ]
  },
  {
   "cell_type": "code",
   "execution_count": 43,
   "id": "e0cb49bd",
   "metadata": {
    "hidden": true
   },
   "outputs": [
    {
     "name": "stdout",
     "output_type": "stream",
     "text": [
      "Error parsing JSON: Expecting ',' delimiter: line 1 column 19 (char 18)\n",
      "Error parsing JSON: Expecting ',' delimiter: line 1 column 19 (char 18)\n",
      "Error parsing JSON: Invalid control character at: line 1 column 18 (char 17)\n",
      "Error parsing JSON: Expecting ',' delimiter: line 1 column 18 (char 17)\n",
      "Error parsing JSON: Expecting ',' delimiter: line 1 column 13 (char 12)\n",
      "Error parsing JSON: Invalid control character at: line 1 column 12 (char 11)\n",
      "Error parsing JSON: Invalid control character at: line 1 column 81 (char 80)\n"
     ]
    }
   ],
   "source": [
    "df['country'] = df.Address.apply(lambda x: _get_country(x))"
   ]
  },
  {
   "cell_type": "markdown",
   "id": "ff602a0b",
   "metadata": {
    "hidden": true
   },
   "source": [
    "country is good (was checking if it's full of Chinese/Indian companies)"
   ]
  },
  {
   "cell_type": "code",
   "execution_count": 44,
   "id": "462eacf4",
   "metadata": {
    "hidden": true
   },
   "outputs": [
    {
     "data": {
      "text/plain": [
       "country\n",
       "united states     4734\n",
       "united kingdom     884\n",
       "canada             392\n",
       "australia          254\n",
       "singapore          172\n",
       "ireland             79\n",
       "new zealand         26\n",
       "Name: count, dtype: int64"
      ]
     },
     "execution_count": 44,
     "metadata": {},
     "output_type": "execute_result"
    }
   ],
   "source": [
    "df.country.value_counts()"
   ]
  },
  {
   "cell_type": "code",
   "execution_count": 47,
   "id": "12eeb91f",
   "metadata": {
    "hidden": true
   },
   "outputs": [
    {
     "data": {
      "text/plain": [
       "0                                https://sawa.gallery/\n",
       "1     https://maizepages.umich.edu/organization/openmi\n",
       "2                                   https://siftmo.com\n",
       "3                              https://www.aleios.com/\n",
       "4                                    http://niftys.com\n",
       "5                                 https://basewell.com\n",
       "6                                    http://journey.io\n",
       "7                             https://apple.co/3HcKeLx\n",
       "8                               https://sqdc.avoyer.ca\n",
       "9                             http://www.appcoderz.com\n",
       "10                                  https://appdive.io\n",
       "11                              https://greenpixie.com\n",
       "12                                http://tryparade.com\n",
       "13                       http://www.extendingfamily.us\n",
       "14                                 https://nixmade.com\n",
       "15                             https://www.jumproom.io\n",
       "16                                    https://maple.so\n",
       "17                         http://www.blueprintgtm.com\n",
       "18                          https://www.remofirst.com/\n",
       "19                                https://blockjoy.com\n",
       "Name: Website, dtype: object"
      ]
     },
     "execution_count": 47,
     "metadata": {},
     "output_type": "execute_result"
    }
   ],
   "source": [
    "df.Website.head(20)"
   ]
  },
  {
   "cell_type": "code",
   "execution_count": 102,
   "id": "1b3c4cf1",
   "metadata": {
    "hidden": true
   },
   "outputs": [
    {
     "data": {
      "text/plain": [
       "4734"
      ]
     },
     "execution_count": 102,
     "metadata": {},
     "output_type": "execute_result"
    }
   ],
   "source": [
    "df = df[df['country'] == 'united states']\n",
    "len(df)"
   ]
  },
  {
   "cell_type": "markdown",
   "id": "25275c9f",
   "metadata": {},
   "source": [
    "# Scrape website"
   ]
  },
  {
   "cell_type": "code",
   "execution_count": 59,
   "id": "a40bd719",
   "metadata": {},
   "outputs": [],
   "source": [
    "async def scrape_url(url):\n",
    "    try:\n",
    "        async with async_playwright() as p:\n",
    "            browser = await p.chromium.launch()\n",
    "            context = browser.new_context()\n",
    "            page = await browser.new_page()\n",
    "            \n",
    "            await page.goto(url)\n",
    "            \n",
    "            await page.wait_for_load_state(timeout=20000)\n",
    "            await page.keyboard.press('PageDown')\n",
    "            await page.wait_for_load_state(timeout=20000)\n",
    "            \n",
    "            href = await page.evaluate('() => document.location.href')\n",
    "            await page.wait_for_load_state(timeout=20000)\n",
    "            await page.screenshot(path=\"screenshot.png\", full_page=True)\n",
    "            \n",
    "            content = await page.content()\n",
    "            await browser.close()\n",
    "            return content\n",
    "    except Exception as e:\n",
    "        print(e)\n",
    "        return None"
   ]
  },
  {
   "cell_type": "code",
   "execution_count": 60,
   "id": "a3c65c93",
   "metadata": {},
   "outputs": [],
   "source": [
    "url = 'https://maizepages.umich.edu/organization/openmi'"
   ]
  },
  {
   "cell_type": "code",
   "execution_count": 61,
   "id": "0f94a8ae",
   "metadata": {},
   "outputs": [
    {
     "name": "stderr",
     "output_type": "stream",
     "text": [
      "/home/krisztian/miniconda3/envs/all/lib/python3.12/inspect.py:479: RuntimeWarning: coroutine 'Browser.new_context' was never awaited\n",
      "  def isframe(object):\n",
      "RuntimeWarning: Enable tracemalloc to get the object allocation traceback\n"
     ]
    }
   ],
   "source": [
    "content = await scrape_url(url)"
   ]
  },
  {
   "cell_type": "code",
   "execution_count": 84,
   "id": "159cbdb1",
   "metadata": {},
   "outputs": [],
   "source": [
    "async def limit_parallel(tasks, n=5):\n",
    "    \"\"\"\n",
    "    Run up to n async tasks in parallel.\n",
    "\n",
    "    :param n: Maximum number of concurrent tasks.\n",
    "    :param tasks: List of coroutine functions to execute.\n",
    "    :return: List of results from the tasks.\n",
    "    \"\"\"\n",
    "    semaphore = asyncio.Semaphore(n)\n",
    "\n",
    "    async def sem_task(task):\n",
    "        async with semaphore:\n",
    "            return await task\n",
    "\n",
    "    # Wrap tasks with semaphore logic\n",
    "    wrapped_tasks = [sem_task(task) for task in tasks]\n",
    "\n",
    "    # Run all tasks concurrently\n",
    "    return await tqdm.asyncio.tqdm.gather(*wrapped_tasks)"
   ]
  },
  {
   "cell_type": "code",
   "execution_count": 85,
   "id": "2bc5d56d",
   "metadata": {},
   "outputs": [],
   "source": [
    "urls = df.Website.head(20)"
   ]
  },
  {
   "cell_type": "code",
   "execution_count": 95,
   "id": "2c05e69e",
   "metadata": {},
   "outputs": [],
   "source": [
    "tasks = [scrape_url(u) for u in urls]"
   ]
  },
  {
   "cell_type": "code",
   "execution_count": 96,
   "id": "f0dfff5b",
   "metadata": {},
   "outputs": [
    {
     "name": "stderr",
     "output_type": "stream",
     "text": [
      "  5%|███████████▌                                                                                                                                                                                                                           | 1/20 [00:02<00:45,  2.40s/it]"
     ]
    },
    {
     "name": "stdout",
     "output_type": "stream",
     "text": [
      "Page.goto: net::ERR_NAME_NOT_RESOLVED at https://nixmade.com/\n",
      "Call log:\n",
      "navigating to \"https://nixmade.com/\", waiting until \"load\"\n",
      "\n"
     ]
    },
    {
     "name": "stderr",
     "output_type": "stream",
     "text": [
      "\r",
      " 10%|███████████████████████                                                                                                                                                                                                                | 2/20 [00:02<00:21,  1.20s/it]"
     ]
    },
    {
     "name": "stdout",
     "output_type": "stream",
     "text": [
      "Page.goto: net::ERR_CERT_COMMON_NAME_INVALID at http://www.appcoderz.com/\n",
      "Call log:\n",
      "navigating to \"http://www.appcoderz.com/\", waiting until \"load\"\n",
      "\n"
     ]
    },
    {
     "name": "stderr",
     "output_type": "stream",
     "text": [
      " 45%|███████████████████████████████████████████████████████████████████████████████████████████████████████▉                                                                                                                               | 9/20 [00:07<00:09,  1.17it/s]"
     ]
    },
    {
     "name": "stdout",
     "output_type": "stream",
     "text": [
      "Page.goto: net::ERR_NAME_NOT_RESOLVED at http://www.extendingfamily.us/\n",
      "Call log:\n",
      "navigating to \"http://www.extendingfamily.us/\", waiting until \"load\"\n",
      "\n"
     ]
    },
    {
     "name": "stderr",
     "output_type": "stream",
     "text": [
      "100%|██████████████████████████████████████████████████████████████████████████████████████████████████████████████████████████████████████████████████████████████████████████████████████████████████████████████████████████████████████| 20/20 [00:13<00:00,  1.44it/s]\n"
     ]
    }
   ],
   "source": [
    "results = await limit_parallel(tasks, 10)"
   ]
  },
  {
   "cell_type": "code",
   "execution_count": 97,
   "id": "4ffbc551",
   "metadata": {},
   "outputs": [
    {
     "data": {
      "text/plain": [
       "'<!DOCTYPE html><html class=\"yui3-js-enabled js-focus-visible js flexbox canvas canvastext webgl no-touch hashchange history draganddrop rgba hsla multiplebgs backgroundsize borderimage borderradius boxshadow textshadow opacity cssanimations csscolumns cssgradients cssreflections csstransforms no-csstransforms3d csstransitions video audio svg inlinesvg svgclippaths\" data-js-focus-visible=\"\" style=\"\"><div id=\"yui3-css-stamp\" style=\"position: absolute !important; visibility: hidden !important\"></div><head>\\n\\n  <title>Squarespace - Website Expired</title>\\n  <meta http-equiv=\"X-UA-Compatible\" content=\"chrome=1\">\\n\\n  <script src=\"//assets.squarespace.com/@sqs/polyfiller/1.6/legacy.js\" nomodule=\"\" type=\"text/javascript\" crossorigin=\"anonymous\"></script>\\n  <script src=\"//assets.squarespace.com/@sqs/polyfiller/1.6/modern.js\" type=\"text/javascript\" crossorigin=\"anonymous\"></script>\\n  <script crossorigin=\"anonymous\" src=\"//assets.squarespace.com/universal/scripts-compressed/extract-css-runtime-3843519cb467953ebe15-min.en-US.js\"></script><script crossorigin=\"anonymous\" src=\"//assets.squarespace.com/universal/scripts-compressed/extract-css-moment-js-vendor-6c569122bfa66a51a056-min.en-US.js\"></script><script crossorigin=\"anonymous\" src=\"//assets.squarespace.com/universal/scripts-compressed/cldr-resource-pack-e85130cf44bc2d365b8b-min.en-US.js\"></script><script crossorigin=\"anonymous\" src=\"//assets.squarespace.com/universal/scripts-compressed/common-vendors-stable-b03dd66b7c78e5e40bc7-min.en-US.js\"></script><script crossorigin=\"anonymous\" src=\"//assets.squarespace.com/universal/scripts-compressed/common-vendors-7598f4eb50a2ef12b555-min.en-US.js\"></script><script crossorigin=\"anonymous\" src=\"//assets.squarespace.com/universal/scripts-compressed/common-789074fe5b520016beb5-min.en-US.js\"></script><link rel=\"stylesheet\" type=\"text/css\" href=\"//assets.squarespace.com/universal/styles-compressed/common-dc637f2dc3768064f861-min.en-US.css\">\\n  <script crossorigin=\"anonymous\" src=\"//assets.squarespace.com/universal/scripts-compressed/dialog-a1e334b539e332714cba-min.en-US.js\"></script><style type=\"text/css\">.CSSTG-group {position:relative;display:block;}\\n.CSSTG-child {backface-visibility:hidden;filter:blur(1);}\\n.CSSTG-wrappedChild {padding:0.1px;margin:-0.1px;}\\n</style><style type=\"text/css\">.CSSTG-ExpandCollapse-expand {overflow:hidden;transition:max-height .2s ease-in-out, opacity .24s ease .08s;}\\n.CSSTG-ExpandCollapse-collapse {overflow:hidden;transition:max-height .2s ease-in-out, opacity .16s ease;}\\n</style><style type=\"text/css\">.CSSTG-Dissolve-dissolve {overflow:hidden;transition:opacity .33s ease, min-height .33s ease, max-height .33s ease;}\\n.CSSTG-Dissolve-leave {overflow:hidden;position:absolute;top:0;left:0;right:0;bottom:0;}\\n.CSSTG-Dissolve-dissolve.CSSTG-Dissolve-async {transition:opacity .33s ease .66s, min-height .33s ease .33s, max-height .33s ease .33s;}\\n.CSSTG-Dissolve-leave.CSSTG-Dissolve-async {transition:opacity .33s ease;}\\n</style><style type=\"text/css\">.CSSTG-Slide-group {overflow:hidden;}\\n.CSSTG-Slide-slide {overflow:hidden;transition:transform .26s ease, min-height .26s ease, max-height .26s ease;}\\n.CSSTG-Slide-leave {overflow:hidden;position:absolute;top:0;left:0;right:0;bottom:0;}\\n</style><style type=\"text/css\">.CSSTG-Reorderable-enter {transition:opacity .3s ease .2s;}\\n.CSSTG-Reorderable-leave {position:absolute !important;top:0;left:0;transition:opacity .3s ease;}\\n.CSSTG-Reorderable-move {transition:transform .36s ease;z-index:1;}\\n.CSSTG-Reorderable-leave ~ .CSSTG-Reorderable-move {transition-delay:.2s;}\\n</style><style>[touch-action=\"none\"]{ -ms-touch-action: none; touch-action: none; }\\n[touch-action=\"auto\"]{ -ms-touch-action: auto; touch-action: auto; }\\n[touch-action=\"pan-x\"]{ -ms-touch-action: pan-x; touch-action: pan-x; }\\n[touch-action=\"pan-y\"]{ -ms-touch-action: pan-y; touch-action: pan-y; }\\n[touch-action=\"pan-x pan-y\"],[touch-action=\"pan-y pan-x\"]{ -ms-touch-action: pan-x pan-y; touch-action: pan-x pan-y; }\\n</style><link type=\"text/css\" rel=\"stylesheet\" href=\"blob:https://www.sawa.gallery/8c4483eb-7dd5-459e-af2f-2ee33c01ef6c\"><link type=\"text/css\" rel=\"stylesheet\" href=\"blob:https://www.sawa.gallery/f52baba8-b007-4fe3-8c7b-4ade8b20521b\"><script src=\"https://js.stripe.com/v3\"></script><link rel=\"stylesheet\" type=\"text/css\" href=\"//assets.squarespace.com/universal/styles-compressed/dialog-6a1bec66bd82f1d3f383-min.en-US.css\">\\n  <script crossorigin=\"anonymous\" src=\"//assets.squarespace.com/universal/scripts-compressed/system-page-51391105d5ef4b07e3f1-min.en-US.js\"></script><link rel=\"stylesheet\" type=\"text/css\" href=\"//assets.squarespace.com/universal/styles-compressed/system-page-906ccbacabc55be2a493-min.en-US.css\">\\n\\n  <script>\\n\\n    YUI(YUI_CONFIG).use(\\'squarespace-common\\', \\'squarespace-system-page\\', function(Y) {\\n\\n      Y.on(\"domready\", function() {\\n\\n        var lb = new Y.Squarespace.Lightbox({\\n          disableNormalClose: true,\\n          clickAnywhereToExit: false,\\n          content: \\'<div class=\"bigtext\"><div class=\"title\">Website Expired</div><div class=\"description\">This account has expired.  If you are the site owner, click below to login.</div><div class=\"buttons\"><input type=\"button\" class=\"login-button\" name=\"login\" value=\"Owner Login\"/></div></div>\\',\\n          margin: 100,\\n          noHeightConstrain: true\\n        });\\n\\n        lb.show();\\n\\n        lb.getContentEl().on(\"click\", function(e) {\\n          if (e.target.ancestor(\".login-button\", true)) {\\n            document.location.href = \\'/config/\\';\\n          }\\n        });\\n\\n      });\\n\\n    });\\n\\n  </script>\\n\\n\\n</head>\\n<body class=\"squarespace-config squarespace-system-page\">\\n\\n  <div class=\"minimal-logo\">&nbsp;</div>\\n\\n\\n\\n<div class=\"sqs-lightbox\" style=\"position: fixed; opacity: 0; z-index: 30010;\"><div class=\"bigtext\"><div class=\"title\">Website Expired</div><div class=\"description\">This account has expired.  If you are the site owner, click below to login.</div><div class=\"buttons\"><input type=\"button\" class=\"login-button\" name=\"login\" value=\"Owner Login\"></div></div></div><div class=\"sqs-lightbox-overlay black sqs-lightbox-overlay-style-orb\" style=\"z-index: 30009; opacity: 0.998603;\"></div><iframe name=\"__privateStripeMetricsController7210\" frameborder=\"0\" allowtransparency=\"true\" scrolling=\"no\" role=\"presentation\" allow=\"payment *\" src=\"https://js.stripe.com/v3/m-outer-3437aaddcdf6922d623e172c2d6f9278.html#url=https%3A%2F%2Fwww.sawa.gallery%2F&amp;title=Squarespace%20-%20Website%20Expired&amp;referrer=&amp;muid=NA&amp;sid=NA&amp;version=6&amp;preview=false\" aria-hidden=\"true\" tabindex=\"-1\" style=\"border: none !important; margin: 0px !important; padding: 0px !important; width: 1px !important; min-width: 100% !important; overflow: hidden !important; display: block !important; visibility: hidden !important; position: fixed !important; height: 1px !important; pointer-events: none !important; user-select: none !important;\"></iframe></body></html>'"
      ]
     },
     "execution_count": 97,
     "metadata": {},
     "output_type": "execute_result"
    }
   ],
   "source": [
    "results[0]"
   ]
  },
  {
   "cell_type": "code",
   "execution_count": 98,
   "id": "4a20d599",
   "metadata": {},
   "outputs": [],
   "source": [
    "def _estime_whole_df(secs):\n",
    "    return secs / 20 * len(df) / 3600"
   ]
  },
  {
   "cell_type": "code",
   "execution_count": 100,
   "id": "054342b6",
   "metadata": {},
   "outputs": [
    {
     "data": {
      "text/plain": [
       "1.1822777777777778"
      ]
     },
     "execution_count": 100,
     "metadata": {},
     "output_type": "execute_result"
    }
   ],
   "source": [
    "_estime_whole_df(13)"
   ]
  },
  {
   "cell_type": "markdown",
   "id": "1163f3a1",
   "metadata": {},
   "source": [
    "Going to\n",
    "1. Set of async job for whole list\n",
    "2. do md conversion\n",
    "3. do prompt + evals for extracting jobs links / classifying pages / etc"
   ]
  },
  {
   "cell_type": "markdown",
   "id": "adfed088",
   "metadata": {},
   "source": [
    "page classifications:\n",
    "- is it a valid htmls\n",
    "- does it contains jobs?\n",
    "    - Yes / list\n",
    "    - Yes / open apply\n",
    "    - No / with links\n",
    "    - No / no links\n",
    "- extract links"
   ]
  },
  {
   "cell_type": "markdown",
   "id": "95cda3d2",
   "metadata": {},
   "source": [
    "# Do markdown conversion"
   ]
  },
  {
   "cell_type": "code",
   "execution_count": 67,
   "id": "0c9de171",
   "metadata": {},
   "outputs": [],
   "source": [
    "df = pd.read_csv(\"../data/01_subset_enriched.csv\")"
   ]
  },
  {
   "cell_type": "code",
   "execution_count": 68,
   "id": "73876e7b",
   "metadata": {},
   "outputs": [
    {
     "data": {
      "text/html": [
       "<div>\n",
       "<style scoped>\n",
       "    .dataframe tbody tr th:only-of-type {\n",
       "        vertical-align: middle;\n",
       "    }\n",
       "\n",
       "    .dataframe tbody tr th {\n",
       "        vertical-align: top;\n",
       "    }\n",
       "\n",
       "    .dataframe thead th {\n",
       "        text-align: right;\n",
       "    }\n",
       "</style>\n",
       "<table border=\"1\" class=\"dataframe\">\n",
       "  <thead>\n",
       "    <tr style=\"text-align: right;\">\n",
       "      <th></th>\n",
       "      <th>CompanyName</th>\n",
       "      <th>Website</th>\n",
       "      <th>scrape_status</th>\n",
       "      <th>homepage_content</th>\n",
       "    </tr>\n",
       "  </thead>\n",
       "  <tbody>\n",
       "    <tr>\n",
       "      <th>0</th>\n",
       "      <td>Sawa Impact Labs</td>\n",
       "      <td>https://sawa.gallery/</td>\n",
       "      <td>Not Started</td>\n",
       "      <td>NaN</td>\n",
       "    </tr>\n",
       "    <tr>\n",
       "      <th>1</th>\n",
       "      <td>OpenMI at the University of Michigan</td>\n",
       "      <td>https://maizepages.umich.edu/organization/openmi</td>\n",
       "      <td>Not Started</td>\n",
       "      <td>NaN</td>\n",
       "    </tr>\n",
       "  </tbody>\n",
       "</table>\n",
       "</div>"
      ],
      "text/plain": [
       "                            CompanyName  \\\n",
       "0                      Sawa Impact Labs   \n",
       "1  OpenMI at the University of Michigan   \n",
       "\n",
       "                                            Website scrape_status  \\\n",
       "0                             https://sawa.gallery/   Not Started   \n",
       "1  https://maizepages.umich.edu/organization/openmi   Not Started   \n",
       "\n",
       "  homepage_content  \n",
       "0              NaN  \n",
       "1              NaN  "
      ]
     },
     "execution_count": 68,
     "metadata": {},
     "output_type": "execute_result"
    }
   ],
   "source": [
    "df.head(2)"
   ]
  },
  {
   "cell_type": "code",
   "execution_count": 69,
   "id": "d325b6da",
   "metadata": {},
   "outputs": [
    {
     "data": {
      "text/plain": [
       "scrape_status\n",
       "Not Started    4080\n",
       "Success         499\n",
       "Failed          155\n",
       "Name: count, dtype: int64"
      ]
     },
     "execution_count": 69,
     "metadata": {},
     "output_type": "execute_result"
    }
   ],
   "source": [
    "df.scrape_status.value_counts()"
   ]
  },
  {
   "cell_type": "code",
   "execution_count": 70,
   "id": "66601340",
   "metadata": {},
   "outputs": [],
   "source": [
    "failed = df[df.scrape_status == 'Failed']"
   ]
  },
  {
   "cell_type": "code",
   "execution_count": 71,
   "id": "be1c8c46",
   "metadata": {},
   "outputs": [
    {
     "data": {
      "text/plain": [
       "155"
      ]
     },
     "execution_count": 71,
     "metadata": {},
     "output_type": "execute_result"
    }
   ],
   "source": [
    "len(failed)"
   ]
  },
  {
   "cell_type": "code",
   "execution_count": 72,
   "id": "cf960ec8",
   "metadata": {},
   "outputs": [],
   "source": [
    "success = df[df.scrape_status== 'Success'].reset_index(drop=True)"
   ]
  },
  {
   "cell_type": "code",
   "execution_count": 73,
   "id": "fed99422",
   "metadata": {},
   "outputs": [
    {
     "data": {
      "text/plain": [
       "499"
      ]
     },
     "execution_count": 73,
     "metadata": {},
     "output_type": "execute_result"
    }
   ],
   "source": [
    "len(success)"
   ]
  },
  {
   "cell_type": "code",
   "execution_count": 74,
   "id": "f9abc851",
   "metadata": {},
   "outputs": [
    {
     "data": {
      "text/html": [
       "<div>\n",
       "<style scoped>\n",
       "    .dataframe tbody tr th:only-of-type {\n",
       "        vertical-align: middle;\n",
       "    }\n",
       "\n",
       "    .dataframe tbody tr th {\n",
       "        vertical-align: top;\n",
       "    }\n",
       "\n",
       "    .dataframe thead th {\n",
       "        text-align: right;\n",
       "    }\n",
       "</style>\n",
       "<table border=\"1\" class=\"dataframe\">\n",
       "  <thead>\n",
       "    <tr style=\"text-align: right;\">\n",
       "      <th></th>\n",
       "      <th>CompanyName</th>\n",
       "      <th>Website</th>\n",
       "      <th>scrape_status</th>\n",
       "      <th>homepage_content</th>\n",
       "    </tr>\n",
       "  </thead>\n",
       "  <tbody>\n",
       "    <tr>\n",
       "      <th>0</th>\n",
       "      <td>Shara, Inc (weshara.com)</td>\n",
       "      <td>https://www.weshara.com</td>\n",
       "      <td>Success</td>\n",
       "      <td>&lt;!DOCTYPE html&gt;&lt;html lang=\"en\" style=\"--inner1...</td>\n",
       "    </tr>\n",
       "    <tr>\n",
       "      <th>1</th>\n",
       "      <td>Good Kiwi LLC</td>\n",
       "      <td>https://www.goodkiwi.llc</td>\n",
       "      <td>Success</td>\n",
       "      <td>&lt;!DOCTYPE html&gt;&lt;html lang=\"en-us\"&gt;&lt;head&gt;&lt;meta ...</td>\n",
       "    </tr>\n",
       "    <tr>\n",
       "      <th>2</th>\n",
       "      <td>Activepieces</td>\n",
       "      <td>https://www.activepieces.com</td>\n",
       "      <td>Success</td>\n",
       "      <td>&lt;!DOCTYPE html&gt;&lt;html lang=\"en\" data-capo=\"\"&gt;&lt;h...</td>\n",
       "    </tr>\n",
       "    <tr>\n",
       "      <th>3</th>\n",
       "      <td>The Brilliant Company</td>\n",
       "      <td>https://thebrilliant.company</td>\n",
       "      <td>Success</td>\n",
       "      <td>&lt;!DOCTYPE html&gt;&lt;html lang=\"en\"&gt;&lt;head&gt;\\n       ...</td>\n",
       "    </tr>\n",
       "    <tr>\n",
       "      <th>4</th>\n",
       "      <td>Aclarify</td>\n",
       "      <td>https://aclarify.com/</td>\n",
       "      <td>Success</td>\n",
       "      <td>&lt;!DOCTYPE html&gt;&lt;html lang=\"en\" class=\"h-full b...</td>\n",
       "    </tr>\n",
       "  </tbody>\n",
       "</table>\n",
       "</div>"
      ],
      "text/plain": [
       "                 CompanyName                       Website scrape_status  \\\n",
       "0  Shara, Inc (weshara.com)        https://www.weshara.com       Success   \n",
       "1              Good Kiwi LLC      https://www.goodkiwi.llc       Success   \n",
       "2               Activepieces  https://www.activepieces.com       Success   \n",
       "3      The Brilliant Company  https://thebrilliant.company       Success   \n",
       "4                   Aclarify         https://aclarify.com/       Success   \n",
       "\n",
       "                                    homepage_content  \n",
       "0  <!DOCTYPE html><html lang=\"en\" style=\"--inner1...  \n",
       "1  <!DOCTYPE html><html lang=\"en-us\"><head><meta ...  \n",
       "2  <!DOCTYPE html><html lang=\"en\" data-capo=\"\"><h...  \n",
       "3  <!DOCTYPE html><html lang=\"en\"><head>\\n       ...  \n",
       "4  <!DOCTYPE html><html lang=\"en\" class=\"h-full b...  "
      ]
     },
     "execution_count": 74,
     "metadata": {},
     "output_type": "execute_result"
    }
   ],
   "source": [
    "success.head()"
   ]
  },
  {
   "cell_type": "code",
   "execution_count": 80,
   "id": "10fb99e6",
   "metadata": {},
   "outputs": [],
   "source": [
    "from jobsfinder.core import html2md"
   ]
  },
  {
   "cell_type": "code",
   "execution_count": 82,
   "id": "3d144f0f",
   "metadata": {},
   "outputs": [
    {
     "name": "stdout",
     "output_type": "stream",
     "text": [
      "\n",
      "Welcome to SHARA![](images/50167bb29d9df130210406561b502988.png)[![](images/1e28468f394d7bc0fe364a8daaca7fdb.png)](https://weshara.com)[Listings](https://weshara.com/listings)  \n",
      "\n",
      "\n",
      "[Sellers](https://weshara.com/sellers)  \n",
      "\n",
      "\n",
      "[Agents](https://weshara.com/agents)  \n",
      "\n",
      "\n",
      "[Community](https://community.weshara.com)  \n",
      "\n",
      "\n",
      "[SIGN IN](https://portal.weshara.com)  \n",
      "\n",
      "\n",
      "We are changing the way people buy, sell, and use a second home.\n",
      "\n",
      "[get in touch](https://share.hsforms.com/1EIMJC7CZSOqz-gD-7pSQHQdguvb)  \n",
      "\n",
      "\n",
      "SHARA is the co\\-ownership platform that makes it possible for people to invest and use properties without all of the headaches.  \n",
      "\n",
      "\n",
      "With SHARA, ownership becomes not only possible but practical. \n",
      "\n",
      "  \n",
      "\n",
      "\n",
      "Enjoy more \"bang for your buck\" in purchase power. Arrive, at your vacation, on vacation, ready to relax because the work is all done. Less hassle, more fun, and when you're ready to spend your precious time somewhere else, simply sell your share.   \n",
      "\n",
      "\n",
      "  \n",
      "\n",
      "\n",
      "Plan long stays or be spontaneous and pop in (when the property is available). Host your friends and family and give them an experience like none other. Or take time for yourself to be quiet and rejuvenate. It's all possible and it's easier than you think.  \n",
      "\n",
      "\n",
      "![](images/499987b91d8cae9c4139a209fb083a77.jpg)![](images/8314e6dca6521aebab375aac8927ad67.jpg)![](images/ea92a8f993be45b229d3a059ab67b762.jpg)[Join Our Mailing List](https://share.hsforms.com/1GgZ_CacfRs-Qm_Y1t0JhJQdguvb)  \n",
      "\n",
      "\n",
      "What is SHARA?  \n",
      "\n",
      "\n",
      "Let our CEO explain how SHARA delivers the ability to co\\-own with friends, family and partners, enabling your dreams to take shortcuts!   \n",
      "\n",
      "\n",
      "![](images/49317cf5c34c2c362c57a89a096f1456.png)Airbnb and other STR platforms allow home owners to rent their home on their platforms.  \n",
      "\n",
      "\n",
      "STR platforms do not allow home owners to sell shares of their home.  \n",
      "\n",
      "\n",
      "STR platforms create a \"landlord\" or \"property management\" work load for home owners.  \n",
      "\n",
      "\n",
      "![](images/ec620099b7f2a41c38e3c4202fa473f0.png)SHARA is a co\\-ownership platform that makes it easy to buy, sell, and use a second home under the protection of an LLC.  \n",
      "\n",
      "\n",
      "SHARA's platform allows home owners to easily sell shares of their home on the MLS.  \n",
      "\n",
      "\n",
      "SHARA allows owners alternatives to enjoy their second home while still having opportunities if owners approve for controlled and managed STR.  \n",
      "\n",
      "\n",
      "[WHO](https://youtu.be/ispA70iVJqM)'S HAD THIS EXPERIENCE  \n",
      "\n",
      "\n",
      "![](images/73370a0de8af7f45801c80ebb495d5fa.png)The hotel marketing looks beautiful. Maybe there is even a brand name synonymous with quality prominently displayed in the lobby. You scan your key card, walk in your room and realize you've been taken. \n",
      "\n",
      "  \n",
      "\n",
      "\n",
      "Or you book that short term rental you've had your eye on. Photos are gorgeous. Reviews seem normal. As your ride share is taking you there, your driver asks \"Are you sure this is where you're staying?\" And upon arrival your romantic bungalow for two is next to a cemetery.... like the only thing on the street is a cemetery and the house you're staying in.   \n",
      "\n",
      "\n",
      "  \n",
      "\n",
      "\n",
      "Yup \\- those have both happened to us and probably have happened to you. When we are in those situations, we ask ourselves \\- do we enjoy traveling here enough we should just own a place?  \n",
      "\n",
      "\n",
      "Buy, Sell, and ENJOY with SHARA  \n",
      "\n",
      "\n",
      "![Bar Graph with Arrow Up](images/06edd30d69be3925103592c1077977c5.svg)![Family Icon](images/7321d063088052e98af240f288db7aa4.svg)![Workplace Trust Handshake Icon](images/c98e4fc5c8bac9524de7b235a537fdcd.svg)Increase in buying power, casts a wider net in the market, provides an alternative to buying or selling 100% of a second home.\n",
      "\n",
      "Peace of mind. Enjoy your vacation home with likeminded owners vs. STR market risks and tenants.   \n",
      "\n",
      "\n",
      "The SHARA platform creates an LLC, handles the entire co\\-ownership transaction, and creates stress\\-free usage agreements for owners.  \n",
      "\n",
      "\n",
      "SHARA Helps Maximize Value  \n",
      "\n",
      "\n",
      "Learn how SHARA helps you implement utilization rules and manage the property to protect the value of your second home!  \n",
      "\n",
      "\n",
      "Why Agents Love SHARA  \n",
      "\n",
      "\n",
      "![](images/0c434894bfba2490402b3234ddfbb477.jpg)\"SHARA gives my buyers and sellers more options, opportunities, and a stress\\-free experience. Introducing your clients to the SHARA platform is a must if you are a broker in the second home market.\"\n",
      "\n",
      "  \n",
      "\n",
      "\n",
      "Dan Redwine\n",
      "\n",
      "Broker \\| Sothebys Realogics\n",
      "\n",
      "Host, The Master Plan TV  \n",
      "\n",
      "\n",
      "Why Builders Love SHARA  \n",
      "\n",
      "\n",
      "\"When you build a spec home you want to cast a very wide marketing net to a lot of prospective buyers. With SHARA I can cast a very wide net and know the buying experience will be a good one. As a builder I love absolutely love it.\"\n",
      "\n",
      "  \n",
      "\n",
      "\n",
      "Cliff Melby \n",
      "\n",
      "Owner \\| Woodridge Custom Homes\n",
      "\n",
      "Featured Builder \\| Suncadia Resort   \n",
      "\n",
      "\n",
      "![](images/c3d176ede2fa41d05e689450ea41fc18.jpg)Why Clients Love SHARA  \n",
      "\n",
      "\n",
      "![](images/12a19dce5b838311dfba1919a1e03e49.jpg)\"We were tired of the stress the STR market and tenants created. Being an 'Airbnb landlord' took a lot of the fun and relaxation out of owning a second home. With SHARA we sold 3 shares of our second home at a great price and can just ENJOY it the way we hoped for originally!\"\n",
      "\n",
      "  \n",
      "\n",
      "\n",
      "Erin Roberts \n",
      "\n",
      "Surprise, Arizona \n",
      "\n",
      "SHARA Owner  \n",
      "\n",
      "\n",
      "Multi\\-generational Ownership Support  \n",
      "\n",
      "\n",
      "SHARA Co\\-Ownership is not only for new owners, let us help you manage your multi\\-generational vacation homes, whether through allocation to your children or even freeing up capital with our Reverse Acquisition program!  \n",
      "\n",
      "\n",
      "![](images/850c00968dcb4d84df8b045cbf111ccf.jpg)Headquarters  \n",
      "\n",
      "\n",
      "110 Cedar Ave STE 104\n",
      "\n",
      "Snohomish, WA 98290  \n",
      "\n",
      "\n",
      "  \n",
      "\n",
      "\n",
      "Tel. (564\\) 203\\-4440\n",
      "\n",
      "[Email: info@weshara.com](mailto:info@weshara.com)\n",
      "\n",
      "Stay connected\n",
      "\n",
      "[![White Facebook Logo Social Media Icon](images/19951775e37ee348133b7cd5fda8923d.svg)](https://www.facebook.com/Wesharainc)[![Flat Fill Twitter Icon](images/7d58a9bf5a1dde59658410cc1f74e95e.svg)](https://twitter.com/weshara1)[![Black Instagram Logo](images/82ca36770005b7351e28866a8e56be82.svg)](https://www.instagram.com/we_shara/)[Join Our Mailing List](https://share.hsforms.com/1GgZ_CacfRs-Qm_Y1t0JhJQdguvb)  \n",
      "\n",
      "\n",
      "![](images/4a61a16054a0e55b389d051fb624997e.png)\n"
     ]
    }
   ],
   "source": [
    "print(html2md(success.homepage_content.iloc[0]))"
   ]
  },
  {
   "cell_type": "code",
   "execution_count": 105,
   "id": "754b4f91",
   "metadata": {},
   "outputs": [],
   "source": [
    "df = success.copy()"
   ]
  },
  {
   "cell_type": "code",
   "execution_count": 85,
   "id": "e53318fc",
   "metadata": {},
   "outputs": [],
   "source": [
    "from tqdm import tqdm"
   ]
  },
  {
   "cell_type": "code",
   "execution_count": null,
   "id": "6d1a4600",
   "metadata": {},
   "outputs": [
    {
     "name": "stderr",
     "output_type": "stream",
     "text": [
      " 15%|███████████████████████████████████▎                                                                                                                                                                                                 | 77/499 [00:28<03:40,  1.91it/s]"
     ]
    }
   ],
   "source": [
    "df['md'] = [html2md(x) for x in tqdm(df.homepage_content)]"
   ]
  },
  {
   "cell_type": "code",
   "execution_count": null,
   "id": "e7f69de3",
   "metadata": {},
   "outputs": [],
   "source": [
    "df['html_length'] = df.homepage_content.apply(lambda x: None if x is None else len(x))\n",
    "df['md_length'] = df.md.apply(lambda x: None if x is None else len(x))"
   ]
  },
  {
   "cell_type": "code",
   "execution_count": null,
   "id": "9324d29e",
   "metadata": {},
   "outputs": [],
   "source": [
    "df.html_length.describe()"
   ]
  },
  {
   "cell_type": "code",
   "execution_count": null,
   "id": "8eb483e4",
   "metadata": {},
   "outputs": [],
   "source": [
    "df.md_length.describe()"
   ]
  },
  {
   "cell_type": "code",
   "execution_count": 108,
   "id": "75579831",
   "metadata": {},
   "outputs": [
    {
     "data": {
      "text/plain": [
       "count       499.000000\n",
       "mean       5797.186373\n",
       "std        8562.724653\n",
       "min           2.000000\n",
       "25%        1431.000000\n",
       "50%        3891.000000\n",
       "75%        6967.500000\n",
       "max      104058.000000\n",
       "Name: md_length, dtype: float64"
      ]
     },
     "execution_count": 108,
     "metadata": {},
     "output_type": "execute_result"
    }
   ],
   "source": [
    "df.md_length.describe()"
   ]
  },
  {
   "cell_type": "code",
   "execution_count": 109,
   "id": "67d53334",
   "metadata": {},
   "outputs": [],
   "source": [
    "df['md2html_ratio'] = df.html_length / df.md_length"
   ]
  },
  {
   "cell_type": "code",
   "execution_count": 110,
   "id": "88feb7aa",
   "metadata": {},
   "outputs": [
    {
     "data": {
      "text/plain": [
       "count     499.000000\n",
       "mean       79.635834\n",
       "std       285.404051\n",
       "min         1.450450\n",
       "25%         9.180246\n",
       "50%        18.979986\n",
       "75%        52.218990\n",
       "max      3619.895900\n",
       "Name: md2html_ratio, dtype: float64"
      ]
     },
     "execution_count": 110,
     "metadata": {},
     "output_type": "execute_result"
    }
   ],
   "source": [
    "df.md2html_ratio.describe()"
   ]
  },
  {
   "cell_type": "code",
   "execution_count": 111,
   "id": "326d9945",
   "metadata": {},
   "outputs": [],
   "source": [
    "sub1 = df[df.md_length > 20000]"
   ]
  },
  {
   "cell_type": "code",
   "execution_count": 112,
   "id": "3c252225",
   "metadata": {},
   "outputs": [
    {
     "data": {
      "text/plain": [
       "17"
      ]
     },
     "execution_count": 112,
     "metadata": {},
     "output_type": "execute_result"
    }
   ],
   "source": [
    "len(sub1)"
   ]
  },
  {
   "cell_type": "code",
   "execution_count": 116,
   "id": "0cb33214",
   "metadata": {},
   "outputs": [],
   "source": [
    "\n",
    "\n",
    "import re\n",
    "\n",
    "def replace_empty_newlines(text):\n",
    "    return re.sub(r'(\\n{4,})', '\\n\\n\\n', text)\n"
   ]
  },
  {
   "cell_type": "code",
   "execution_count": 117,
   "id": "2fc71ed4",
   "metadata": {},
   "outputs": [
    {
     "name": "stdout",
     "output_type": "stream",
     "text": [
      "\n",
      "Rutter \\| Unified API for B2B Financial Products\n",
      "\n",
      "\n",
      "Bank Feeds \\& Accounting Integrations: Why neobanks need both[Learn More](https://www.rutter.com/events/bank-feeds-accounting-integrations-why-neobanks-need-both?utm_source=nav_banner)\n",
      "\n",
      "Bank Feeds \\& Accounting Integrations: Why neobanks need both[Sign Up](https://www.rutter.com/events/bank-feeds-accounting-integrations-why-neobanks-need-both?utm_source=nav_banner)\n",
      "\n",
      "Back[![Rutter logo black]()](/)Product\n",
      "\n",
      "Our integrations[Integration LibraryView all supported platforms you can integrate with](/integrations)[Payments APIRead transactions, subscriptions, balance, and payouts](/product/payments-api)[Accounting APIRead financial statements, bills, invoices](/product/accounting-api)[Ads APIUnderstand campaign and ad account performance](/product/ads-api)[Commerce APIUnderstand orders, inventory, and customer data](/product/commerce-api)[Bank Feeds APISync bank transactions with your customers' accounting platforms](/qbo-bank-feeds)Our features[Rutter LinkAuthentication and Data Governance](/our-features/rutter-link)[APIsRead, write, update and delete third party data](/our-features/apis)[MonitoringMaintain and debug integrations](/our-features/monitoring)[Unification LayerUnderstand our unified interface and schemas](/our-features/unification-layer)[![A person reviewing a receipt]()Introducing QuickBooks Bank Feeds](/blog/introducing-quickbooks-bank-feeds-integrate-bank-transactions-with-your-accounting-platform)Solutions\n",
      "\n",
      "By use case[Business UnderwritingUnderstand company financial statements, revenue, and spend](/solutions/business-underwriting)[Invoicing AutomationSync department, class, and location data of invoices](/solutions/invoicing-automation)[FP\\&ACentralize financial data from e\\-commerce, accounting, payments, ads platforms](/solutions/fp-a)[Bill Pay AutomationSync department, class, and location data of bills](/solutions/bill-pay-automation)[Expense ManagementHandle expenses from bank, credit, and debit card accounts](/solutions/expense-management)[Sales Tax AutomationPull invoices, orders, products, and shipping locations](/solutions/sales-tax-automation)[![A person reviewing a receipt]()Read customer story](/case-studies/notch-financial)Resources\n",
      "\n",
      "See Rutter in action[Case studiesHow Rutter powers startups and large enterprises](/case-studies)[BlogInsider look into what we're thinking about](/blog)[GuidesHow to build your next financial product](/guides)[EventsJoin an upcoming event or webinar](/events)Let’s chat[Contact salesHave a question or need support? Get in touch with us](/get-a-demo)[AboutLearn about our company mission, vision, and values](/about)[CareersWe're hiring!](/careers)[![A person reviewing a receipt]()Attend this event](/events/bank-feeds-accounting-integrations-why-neobanks-need-both)[Pricing](#)[Pricing](/pricing)[Documentation](https://docs.rutter.com/)ProductOur integrationsSee coverage and use cases for all our Unified APIs\n",
      "\n",
      "Our featuresSee our platform: Rutter Link, APIs, Dashboard, and more\n",
      "\n",
      "SolutionsSee our solutions: Invoicing Automation, Expense management, and more.\n",
      "\n",
      "ResourcesSee our resources: Blog, guides, case studies, and more.\n",
      "\n",
      "[Pricing](/pricing)[Documentation](https://docs.rutter.com/)Our integrations[Integration LibraryView all supported platforms you can integrate with](/integrations)[Accounting APIBuilding accounting workflows and read financial data](/product/accounting-api)[Commerce APIUnderstand orders, inventory, and customer data](/product/commerce-api)[Payments APIRead transactions, subscriptions, balance, and payouts](/product/payments-api)[Ads APIUnderstand campaign and ad account performance](/product/ads-api)[Bank Feeds APISync bank transactions with your customers’ accounting platforms](/qbo-bank-feeds)Our features[Rutter LinkAuthentication and Data Governance](/our-features/rutter-link)[APIsRead, write, update and delete third party data](/our-features/apis)[MonitoringMaintain and debug integrations](/our-features/monitoring)[Unification LayerUnderstand our unified ",
      "interface and schemas](/our-features/unification-layer)Our solutions[Business UnderwritingUnderstand company financial statements, revenue, and spend](/solutions/business-underwriting)[Invoicing AutomationSync department, class, and location data of invoices](/solutions/invoicing-automation)[FP\\&ACentralize financial data from e\\-commerce, accounting, payments, ads platforms](/solutions/fp-a)[Bill Pay AutomationSync department, class, and location data of bills](/solutions/bill-pay-automation)[Expense ManagementHandle expenses and refunds from bank accounts, debit cards, and credit cards.](//solutions/expense-management)[Sales Tax AutomationUnderstand invoices, orders, product category, and customer location](/solutions/sales-tax-automation)Our resources[Case StudiesHow Rutter powers startups and large enterprises](/case-studies)[BlogInsider look into what we're thinking about](/blog)[GuidesHow to build your next financial product](/guides)[EventsJoin an upcoming event or webinar](/events)[AboutLearn about our company mission, vision, and values](/about)[CareersWe're hiring!](/careers)[Contact salesHave a question or need support? Get in touch with us](/get-a-demo)[Get Started](https://dashboard.rutterapi.com/sign-up)[Get a demo](/get-a-demo)[Get Started](https://dashboard.rutterapi.com/sign-up)[Get a Demo](/get-a-demo)[Log in](https://dashboard.rutterapi.com/login)The Unified API for B2B financial products\n",
      "==========================================\n",
      "\n",
      "Overwhelmed by customer\\-facing integration requests? Save engineering headaches and time with a Unified API. Build once to integrate with any platform. \n",
      "\n",
      "\n",
      "Enter your work email\\*UTM CampaignUTM SourceUTM TermUTM Medium\n",
      "[Get a Demo](/get-a-demo)![Rutter platform connecting various financial and e-commerce applications, including QuickBooks, TikTok, Walmart, Stripe, NetSuite, Facebook, Shopify, PayPal, Xero, Google Ads, WooCommerce, Amazon, Square, Sage Intacct, and Wave, with the tagline 'Powering products in the Financial OS.']()![Purple gradient background]()![Purple gradient background]()![Business Underwriting pill]()![Invoicing Automation]()![Bill Pay Automation]()![Expense management]()![Sales Tax Automation]()![Financial Planning and Analytics]()![Business Underwriting pill]()![Invoicing Automation]()![Bill Pay Automation]()![Expense management]()![Sales Tax Automation]()![Financial Planning and Analytics]()![A purple and blue gradient background.]()Trusted by 100\\+ fintech companies:![Airwallex logo]()![Mercury logo]()![Parafin logo in black]()![uncapped logo]()![NorthOne logo]()ONE DATA MODELWhat is a unified API?\n",
      "----------------------\n",
      "\n",
      "Our common data model allows product teams to easily build and maintain integrations across multiple platforms with ease and minimal effort.\n",
      "\n",
      "[Explore API Model](/our-features/apis)![A purple screen with a logo and a button that says \"your product\".]()Powering B2B ProductsWhat makes best\\-in\\-class integrations?\n",
      "----------------------------------------\n",
      "\n",
      "Product and engineering leaders prefer leveraging a Unified API in order to save millions of dollars of engineering cost, expand addressable markets, and improve product quality.   \n",
      "The Rutter platform is designed with 3 product pillars in mind.\n",
      "\n",
      "[Get started with Rutter](/get-a-demo)1[Rutter Link](/our-features/rutter-link)AuthenticationRutter Link enables you to easily implement a white\\-labeled end\\-user authentication process. It handles permissions, data governance, and monitors consent.\n",
      "\n",
      "![A purple screen with a button that says continue.]()2[Our Integrations](/integrations)APIsRutter APIs allow you to read, update, write, and remove data across 60\\+ accounting, commerce, payments, and ads platform used globally by your customers.\n",
      "\n",
      "![A purple background with a white button that says \"Unified API\".]()3[Our Features](/our-features/monitoring)Monitoring \\& ObservabilityRutter dashboard gives you full visibility into the integration lifecycle: authentication, data access, webhooks, and data syncs to easily debug and monitor performance.\n",
      "\n",
      "![A purple background with a webhook logs button.]()Powering B2B PRODUCTSRutter’s API infrastructure is designed to power leading tech\\-forward banks and fintechs\n",
      "-----------------------------------------------------------------------------------------\n",
      "\n",
      "diverse data sourcesLeverage new data sources for lending\n",
      "-------------------------------------\n",
      "\n",
      "Power your risk and credit models with real\\-time transaction, financial statements, and payout data from commerce, payment and accounting platforms.\n",
      "\n",
      "[Explore Business Underwriting](/solutions/business-underwriting)![A purple circle with a graph and a $2,199,999.99 sign.]()SYNC BILL DATASync bills, credit memos, attachments, and more\n",
      "-----------------------------------------------\n",
      "\n",
      "Automate the end\\-to\\-end AP workflow — from vendors, bill payment, and bill credit memos with read\\-and\\-write accounting integrations.\n",
      "\n",
      "[Explore Bill Pay Automation](/solutions/bill-pay-automation)![A black circle with a purple background and a $2200 charge.]()SYNC EXPENSESAutomatically categorize and sync expenses\n",
      "------------------------------------------\n",
      "\n",
      "Automate the creation and reconciliation of expenses by pulling accounts, classes, currency, and subsidiaries for their customers’ accounting systems.\n",
      "\n",
      "[Explore Expense Management](/solutions/expense-management)![A purple and blue credit card with the word Visa on it.]()![A purple screen with a $2,000 invoice from Ace Meadows.]()Sync invoices data[Invoicing Automation](/solutions/invoicing-automation)![A graph shows a 89.9% purchase rate.]()Centralize financial data[FP\\&A](/solutions/fp-a)![A purple screen with a yellow bottle on it.]()Read orders and transactions data[Sales Tax Automation](/solutions/sales-tax-automation)Ready to chat?\n",
      "--------------\n",
      "\n",
      "[Get a Demo](/get-a-demo)LEADING COVERAGEBuilding integrated products is hard. We can do that together.\n",
      "--------------------------------------------------------------\n",
      "\n",
      "Explore our growing integration coverage across accounting, commerce, payments, and ads platforms.\n",
      "\n",
      "[Explore Integration Library](/integrations)![A laptop screen with icons and a purple background.]()![]()Launched 5 new integrations in weeksExplore how Notch financial, a leader in accounts receivable and accounts payable automation for the food and beverage industry, set out to simplify invoice payments and lower operational expenses.\n",
      "\n",
      "[ReadNotchcase study](/case-studies/notch-financial)5 New integrations launched in weeks rather than months2\\+Full\\-time engineers freed up to work on enhancing the product experience for customers![How Notch Launched 5 New Integrations In Weeks]()![]()Accessed accounting data to give SMBs a full financial pictureDiscover how Brightflow AI employs Rutter's Universal Accounting API to enrich SMBs' financial insights by effortlessly integrating with complex accounting platforms like NetSuite.\n",
      "\n",
      "[ReadBrightflowcase study](/case-studies/brightflow)50%Cut in initial development and maintenance costs for NetSuite and Xero integration2Accounting platforms swiftly integrated, enhancing financial analysis and forecast accuracy for SMBs![]()![]()Streamlined customer sales tax while saving $200k annuallyExplore how Numeral shaved 20 hours of monthly engineering work by connecting their platform to 6 others via Rutter’s Unified API.\n",
      "\n",
      "[ReadNumeralcase study](/case-studies/numeral)20\\+ hoursOf saved monthly engineering time with quick onboarding and Rutter\\-supported platforms6Connection types supported as Numeral scaled to include additional Commerce platforms![]()![]()Roll out new integrations 5x fasterDiscover how Uncapped accelerates integration deployment by 5x using Rutter’s Unified API, reducing both time and engineering resources.\n",
      "\n",
      "[ReadUncappedcase study](/case-studies/uncapped)3 DaysReduced the integration build time from two weeks to just three days with Rutter's aidZeroAdditional time required for rolling out new integrations, down from 2\\-3 weeks, opening new market opportunities effortlessly![]()![A purple background with a black and white screen with the word \"rutter\" on it.]()FOR DEVELOPERSShip products, not integrations\n",
      "-------------------------------\n",
      "\n",
      "Support dozens of integrations without the engineering hassle. We obsess over Netsuite subsidiaries support, different Shopify versions, and Quickbooks Desktop Web Connector 2\\.0 so that you don't have to.\n",
      "\n",
      "[Read the Docs](https://docs.rutter.com/try-us-out)[Get API Keys](https://dashboard.rutterapi.com/sign-up)\n",
      "\n",
      "\n",
      "One data modelSync data bi\\-directionally across multiple platforms using one standardized modelSeamless authenticationLeverage white\\-labeled Rutter Link to seamlessly connect customers’ accountsFully customizableAccess customized fields and un\\-unified data models via Custom Fields and Platform DataConsistent visibilityMonitor and debug integrations effortlessly with a comprehensive monitoring and observability suiteABOUT USHow we show up\n",
      "--------------\n",
      "\n",
      "Our teams are committed to empower every B2B SaaS company to build the best financial operating systems for SMBs. By extension, we hope to build a future where every SMB can access the best financial tools to unlock greater efficiency and growth.\n",
      "\n",
      "[Learn More About Rutter](/about)[View open positions](/careers)### Empower SMBs\n",
      "\n",
      "We aspire to improve SMB tools to help them scale and excel at their work.\n",
      "\n",
      "### Help our customers win\n",
      "\n",
      "We partner with our customers to share best practices and help them build the best products.\n",
      "\n",
      "### Make it easy\n",
      "\n",
      "We aim to make integrations super simple and easy to deploy. \n",
      "\n",
      "RESOURCESRutter in the news\n",
      "------------------\n",
      "\n",
      "Explore our resources for free guides, Rutter\\-hosted events in NYC and to stay up\\-to\\-date with the latest fintech news.\n",
      "\n",
      "[Explore our blog](/blog)[![A photo of Peter Zhou and Eric Yu standing together outside.]()### a16z backs Rutter’s goal of being ‘Plaid for commerce’\n",
      "\n",
      "Seven months after publicly launching its company, Rutter is back with a new capital injection, this time $27 million in a...](https://techcrunch.com/2022/03/15/a16z-backs-rutters-goal-of-being-plaid-for-commerce/?guccounter=1&guce_referrer=aHR0cHM6Ly93d3cuZ29vZ2xlLmNvbS8&guce_referrer_sig=AQAAAA9I6hmhnBIcTQvbn6Taz0-JtVt943ash7DKOWIl3jzsnUtEf2C2i4e8rFUzARPIptzaijLEVvsYc-7kbewzueXCSk3hC3F-NQCj50nVtT-8Q7MhMhDLeD9XQwA_vkMpWkiMhoTZ56THhVWOUaYfaxD5-ImQxS8UBLSvZ2hseScN)[![A blue background with a graphic of a line going up and down.]()### Investing in Rutter\n",
      "\n",
      "The ecommerce market is on fire, and the growth of online commerce and ecommerce merchants is staggering.](https://a16z.com/announcement/investing-in-rutter/)[![A purple screen with a list of apps including Microsoft Office.]()### Notch leverages Rutter to expand its accounting integration offerings\n",
      "\n",
      "Supports many platforms including Quickbooks, Xero, NetSuite, Sage, and more in a matter of weeks.](https://notch.financial/press-releases/notch-rutter-integrations/)![Light and dark purple background gradient.]()Get up and running.\n",
      "-------------------\n",
      "\n",
      "Building integrated products is hard. We can do that together. Let's chat.\n",
      "\n",
      "\n",
      "Email\\*\n",
      "By submitting your information, you agree to be contacted by a Rutter representative.[Get started](#)By submitting your information, you agree to be contacted by a Rutter representative.Thank you! Your submission has been received!Oops! Something went wrong while submitting the form.\n",
      "\n",
      "We value your privacy.By clicking “Accept”, you agree to the storing of cookies on your device to enhance site navigation, analyze site usage, and assist in our marketing efforts. View our [Privacy Policy](https://rutterdocs.s3.us-east-2.amazonaws.com/FW_15501597_4_Rutter+Global+Privacy+Notice.pdf) for more information.DenyAccept allIntegrations[Integration Library](/integrations)[Accounting API](/product/accounting-api)[Commerce API](/product/commerce-api)[Payments API](/product/payments-api)[Ads API](/product/ads-api)Features[Rutter Link](/our-features/rutter-link)[APIs](/our-features/apis)[Monitoring](/our-features/monitoring)[Unification Layer](/our-features/unification-layer)Solutions[Business Underwriting](/solutions/business-underwriting)[Bill Pay Automation](/solutions/bill-pay-automation)[Invoicing Automation](/solutions/invoicing-automation)[Expense Management](/solutions/expense-management)[Financial Planning \\& Analytics](/solutions/fp-a)[Sales Tax Automation](/solutions/sales-tax-automation)About us[About](/about)[Careers](/careers)[Pricing](/pricing)[Contact Sales](/get-a-demo)Resources[Case Studies](/case-studies)[Blog](/blog)[Guides](/guides)[Events](/events)Developers[Documentation](https://docs.rutter.com/)[Get API Keys](https://dashboard.rutterapi.com/sign-up)Stay in the know with latest news ",
      "and product announcements\n",
      "\n",
      "\n",
      "Email\\*By continuing, I agree to share my contact information.Connect[LinkedIn](https://www.linkedin.com/company/rutterapi/)[Twitter](https://twitter.com/rutterapi)[YouTube](https://www.youtube.com/channel/UCUAgMzRN9jVLZoH6EXTL-RA)Get In Touch[3 East 28th St., Floor 5  \n",
      "New York, NY 10016](https://maps.app.goo.gl/teVrBwaNnqzZsNjw5)[Get a Demo](/get-a-demo)[Terms](https://drive.google.com/file/d/1J77WNI4JS_WjFiXn9NgQVBy_N_unqpCn/view)[Privacy Policy](https://drive.google.com/file/d/1uZ76Be9jAih5g8kj8bKEAApCnMb6TQVL/view?usp=drive_link)@2024 Rutter All Rights ReservedCommerce[Amazon](/integrations/amazon)[Etsy](/integrations/etsy)[Magento](/integrations/magento) [Squarespace](/integrations/squarespace)[Shoplazza](/integrations/shoplazza)[Shopify](/integrations/shopify)[WooCommerce](/integrations/woocommerce)[Walmart](/integrations/walmart)Accounting[FreshBooks](/integrations/freshbooks)[Wave](/integrations/wave)[Xero](/integrations/xero)[NetSuite](/integrations/netsuite)[Zoho Books](/integrations/zoho-books)[QuickBooks Desktop](/integrations/quickbooks-desktop)[QuickBooks Online](/integrations/quickbooks-online)Payments[PayPal](/integrations/paypal)[Stripe](/integrations/stripe)[Square](/integrations/square)[Maxio](/integrations/maxio)[Chargebee](/integrations/chargebee)[Chargify](/integrations/chargify)[Recurly](/integrations/recurly)[Stripe](/integrations/stripe)Ads[Google Ads](/integrations/google-ads)[Meta](/integrations/meta)[Tiktok](/integrations/tiktok)Stay in the know with latest news ",
      "and product announcements\n",
      "Email\\*By continuing, I agree to share my contact information.Integrations[Integration Library](/integrations)[Accounting API](/product/accounting-api)[Commerce API](/product/commerce-api)[Payments API](/product/payments-api)[Ads API](/product/ads-api)Features[Rutter Link](/our-features/rutter-link)[APIs](/our-features/apis)[Monitoring](/our-features/monitoring)[Unification Layer](/our-features/unification-layer)Solutions[Business Underwriting](/solutions/business-underwriting)[Bill Pay Automation](/solutions/bill-pay-automation)[Invoicing Automation](/solutions/invoicing-automation)[Expense Management](/solutions/expense-management)[Financial Planning \\& Analytics](/solutions/fp-a)[Sales Tax Automation](/solutions/sales-tax-automation)About Us[About](/about)[Careers](/careers)[Pricing](/pricing)[Contact Sales](/get-a-demo)Resources[Case Studies](/case-studies)[Blog](/blog)[Guides](/guides)[Events](/events)Developers[Documentation](https://docs.rutter.com/)[Get API Keys](https://dashboard.rutterapi.com/sign-up)Get In Touch[Get a Demo](/get-a-demo)@2024 Rutter All Rights Reserved[Terms](https://drive.google.com/file/d/1J77WNI4JS_WjFiXn9NgQVBy_N_unqpCn/view)[Privacy Policy](https://rutterdocs.s3.us-east-2.amazonaws.com/FW_15501597_4_Rutter+Global+Privacy+Notice.pdf)\n",
      "\n",
      "\n",
      "  ×![]() We Value Your Privacy[Settings](javascript:void(0))NextRoll, Inc. (\"NextRoll\") and our [19 advertising partners](javascript:void(0)) use cookies and similar technologies on this site and use personal data (e.g., your IP address). If you consent, the cookies, device identifiers, or other information can be stored or accessed on your device for the purposes described below. You can click \"Allow All\" or \"Decline All\" or click Settings above to customise your consent regarding the purposes and features for which your personal data will be processed and/or the partners with whom you will share personal data.NextRoll and our [advertising partners](javascript:void(0)) process personal data to: ● Store and/or access information on a device; ● Create a personalised content profile; ● Select personalised content; ● Personalised advertising, advertising measurement, audience research and services development; ● Services development. For some of the purposes above, our advertising partners: ● Use precise geolocation data. Some of our partners rely on their legitimate business interests to process personal data. View our [advertising partners](javascript:void(0)) if you wish to provide or deny consent for specific partners, review the purposes each partner believes they have a legitimate interest for, and object to such processing.If you select Decline All, you will still be able to view content on this site and you will still receive advertising, but the advertising will not be tailored for you. You may change your setting whenever you see the Manage consent preferences on this site.[Decline All](javascript:void(0))[Allow All](javascript:void(0))[Manage consent preferences](javascript:void(0))\n"
     ]
    }
   ],
   "source": [
    "print(replace_empty_newlines(sub1.md.iloc[3]))"
   ]
  },
  {
   "cell_type": "code",
   "execution_count": null,
   "id": "33b7acfc",
   "metadata": {},
   "outputs": [],
   "source": []
  },
  {
   "cell_type": "code",
   "execution_count": null,
   "id": "fb7b8c51",
   "metadata": {},
   "outputs": [],
   "source": []
  }
 ],
 "metadata": {
  "kernelspec": {
   "display_name": "Python 3 (ipykernel)",
   "language": "python",
   "name": "python3"
  },
  "language_info": {
   "codemirror_mode": {
    "name": "ipython",
    "version": 3
   },
   "file_extension": ".py",
   "mimetype": "text/x-python",
   "name": "python",
   "nbconvert_exporter": "python",
   "pygments_lexer": "ipython3",
   "version": "3.12.4"
  }
 },
 "nbformat": 4,
 "nbformat_minor": 5
}
