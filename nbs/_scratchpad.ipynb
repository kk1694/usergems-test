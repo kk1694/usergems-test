{
 "cells": [
  {
   "cell_type": "code",
   "execution_count": 1,
   "id": "b8764f54",
   "metadata": {},
   "outputs": [],
   "source": [
    "%load_ext autoreload\n",
    "%autoreload 2"
   ]
  },
  {
   "cell_type": "code",
   "execution_count": 2,
   "id": "9af5d173",
   "metadata": {},
   "outputs": [],
   "source": [
    "import pandas as pd\n",
    "import json\n",
    "\n",
    "import re\n",
    "\n",
    "import asyncio\n",
    "from playwright.async_api import async_playwright\n",
    "import tqdm.asyncio"
   ]
  },
  {
   "cell_type": "markdown",
   "id": "3c1a9c40",
   "metadata": {
    "heading_collapsed": true
   },
   "source": [
    "# Subset to software"
   ]
  },
  {
   "cell_type": "code",
   "execution_count": 103,
   "id": "a2bde781",
   "metadata": {
    "hidden": true
   },
   "outputs": [],
   "source": [
    "df = pd.read_csv(\"./websites.csv\")"
   ]
  },
  {
   "cell_type": "code",
   "execution_count": 105,
   "id": "bc932831",
   "metadata": {
    "hidden": true
   },
   "outputs": [
    {
     "data": {
      "text/plain": [
       "66342"
      ]
     },
     "execution_count": 105,
     "metadata": {},
     "output_type": "execute_result"
    }
   ],
   "source": [
    "len(df)"
   ]
  },
  {
   "cell_type": "code",
   "execution_count": 104,
   "id": "72a10df4",
   "metadata": {
    "hidden": true
   },
   "outputs": [
    {
     "data": {
      "text/html": [
       "<div>\n",
       "<style scoped>\n",
       "    .dataframe tbody tr th:only-of-type {\n",
       "        vertical-align: middle;\n",
       "    }\n",
       "\n",
       "    .dataframe tbody tr th {\n",
       "        vertical-align: top;\n",
       "    }\n",
       "\n",
       "    .dataframe thead th {\n",
       "        text-align: right;\n",
       "    }\n",
       "</style>\n",
       "<table border=\"1\" class=\"dataframe\">\n",
       "  <thead>\n",
       "    <tr style=\"text-align: right;\">\n",
       "      <th></th>\n",
       "      <th>Unnamed: 0</th>\n",
       "      <th>CompanyName</th>\n",
       "      <th>Website</th>\n",
       "      <th>Specialties</th>\n",
       "      <th>Address</th>\n",
       "      <th>Industry</th>\n",
       "      <th>Unnamed: 6</th>\n",
       "    </tr>\n",
       "  </thead>\n",
       "  <tbody>\n",
       "    <tr>\n",
       "      <th>0</th>\n",
       "      <td>1543</td>\n",
       "      <td>Add*Ed</td>\n",
       "      <td>http://www.addedrg.ca</td>\n",
       "      <td>['autism' 'intellectual disability' 'teacher t...</td>\n",
       "      <td>{'city': 'Kingston', 'country': 'canada', 'cou...</td>\n",
       "      <td>Education Management</td>\n",
       "      <td>NaN</td>\n",
       "    </tr>\n",
       "    <tr>\n",
       "      <th>1</th>\n",
       "      <td>1952</td>\n",
       "      <td>Addison AG Tech, LP</td>\n",
       "      <td>http://www.AddisonFund.com</td>\n",
       "      <td>[]</td>\n",
       "      <td>{'city': 'Addison', 'country': 'united states'...</td>\n",
       "      <td>Financial Services</td>\n",
       "      <td>NaN</td>\n",
       "    </tr>\n",
       "  </tbody>\n",
       "</table>\n",
       "</div>"
      ],
      "text/plain": [
       "  Unnamed: 0          CompanyName                     Website  \\\n",
       "0       1543               Add*Ed       http://www.addedrg.ca   \n",
       "1       1952  Addison AG Tech, LP  http://www.AddisonFund.com   \n",
       "\n",
       "                                         Specialties  \\\n",
       "0  ['autism' 'intellectual disability' 'teacher t...   \n",
       "1                                                 []   \n",
       "\n",
       "                                             Address              Industry  \\\n",
       "0  {'city': 'Kingston', 'country': 'canada', 'cou...  Education Management   \n",
       "1  {'city': 'Addison', 'country': 'united states'...    Financial Services   \n",
       "\n",
       "  Unnamed: 6  \n",
       "0        NaN  \n",
       "1        NaN  "
      ]
     },
     "execution_count": 104,
     "metadata": {},
     "output_type": "execute_result"
    }
   ],
   "source": [
    "df.head(2)"
   ]
  },
  {
   "cell_type": "code",
   "execution_count": 4,
   "id": "398eee34",
   "metadata": {
    "hidden": true
   },
   "outputs": [
    {
     "data": {
      "text/html": [
       "<div>\n",
       "<style scoped>\n",
       "    .dataframe tbody tr th:only-of-type {\n",
       "        vertical-align: middle;\n",
       "    }\n",
       "\n",
       "    .dataframe tbody tr th {\n",
       "        vertical-align: top;\n",
       "    }\n",
       "\n",
       "    .dataframe thead th {\n",
       "        text-align: right;\n",
       "    }\n",
       "</style>\n",
       "<table border=\"1\" class=\"dataframe\">\n",
       "  <thead>\n",
       "    <tr style=\"text-align: right;\">\n",
       "      <th></th>\n",
       "      <th>Unnamed: 0</th>\n",
       "      <th>CompanyName</th>\n",
       "      <th>Website</th>\n",
       "      <th>Specialties</th>\n",
       "      <th>Address</th>\n",
       "      <th>Industry</th>\n",
       "      <th>Unnamed: 6</th>\n",
       "    </tr>\n",
       "  </thead>\n",
       "  <tbody>\n",
       "    <tr>\n",
       "      <th>66340</th>\n",
       "      <td>7404336</td>\n",
       "      <td>Wireframe Marketing</td>\n",
       "      <td>https://wireframemarketing.com</td>\n",
       "      <td>['SEO Services' 'Logo Design' 'Branding' 'Soci...</td>\n",
       "      <td>{'city': 'REXBURG', 'country': 'united states'...</td>\n",
       "      <td>Marketing &amp; Advertising</td>\n",
       "      <td>NaN</td>\n",
       "    </tr>\n",
       "    <tr>\n",
       "      <th>66341</th>\n",
       "      <td>7404394</td>\n",
       "      <td>Wirehound Networks</td>\n",
       "      <td>http://www.wirehoundnetworks.com</td>\n",
       "      <td>[]</td>\n",
       "      <td>{'city': 'Richfield', 'country': 'united state...</td>\n",
       "      <td>Computer &amp; Network Security</td>\n",
       "      <td>NaN</td>\n",
       "    </tr>\n",
       "  </tbody>\n",
       "</table>\n",
       "</div>"
      ],
      "text/plain": [
       "      Unnamed: 0          CompanyName                           Website  \\\n",
       "66340    7404336  Wireframe Marketing    https://wireframemarketing.com   \n",
       "66341    7404394   Wirehound Networks  http://www.wirehoundnetworks.com   \n",
       "\n",
       "                                             Specialties  \\\n",
       "66340  ['SEO Services' 'Logo Design' 'Branding' 'Soci...   \n",
       "66341                                                 []   \n",
       "\n",
       "                                                 Address  \\\n",
       "66340  {'city': 'REXBURG', 'country': 'united states'...   \n",
       "66341  {'city': 'Richfield', 'country': 'united state...   \n",
       "\n",
       "                          Industry Unnamed: 6  \n",
       "66340      Marketing & Advertising        NaN  \n",
       "66341  Computer & Network Security        NaN  "
      ]
     },
     "execution_count": 4,
     "metadata": {},
     "output_type": "execute_result"
    }
   ],
   "source": [
    "df.tail(2)"
   ]
  },
  {
   "cell_type": "code",
   "execution_count": 8,
   "id": "fd7ccae9",
   "metadata": {
    "hidden": true
   },
   "outputs": [
    {
     "data": {
      "text/plain": [
       "6548"
      ]
     },
     "execution_count": 8,
     "metadata": {},
     "output_type": "execute_result"
    }
   ],
   "source": [
    "df = df[df['Industry'] == 'Computer Software'].reset_index()\n",
    "len(df)"
   ]
  },
  {
   "cell_type": "code",
   "execution_count": 9,
   "id": "ec5a4906",
   "metadata": {
    "hidden": true
   },
   "outputs": [
    {
     "data": {
      "text/html": [
       "<div>\n",
       "<style scoped>\n",
       "    .dataframe tbody tr th:only-of-type {\n",
       "        vertical-align: middle;\n",
       "    }\n",
       "\n",
       "    .dataframe tbody tr th {\n",
       "        vertical-align: top;\n",
       "    }\n",
       "\n",
       "    .dataframe thead th {\n",
       "        text-align: right;\n",
       "    }\n",
       "</style>\n",
       "<table border=\"1\" class=\"dataframe\">\n",
       "  <thead>\n",
       "    <tr style=\"text-align: right;\">\n",
       "      <th></th>\n",
       "      <th>index</th>\n",
       "      <th>Unnamed: 0</th>\n",
       "      <th>CompanyName</th>\n",
       "      <th>Website</th>\n",
       "      <th>Specialties</th>\n",
       "      <th>Address</th>\n",
       "      <th>Industry</th>\n",
       "      <th>Unnamed: 6</th>\n",
       "    </tr>\n",
       "  </thead>\n",
       "  <tbody>\n",
       "    <tr>\n",
       "      <th>0</th>\n",
       "      <td>11</td>\n",
       "      <td>5314</td>\n",
       "      <td>Sawa Impact Labs</td>\n",
       "      <td>https://sawa.gallery/</td>\n",
       "      <td>[]</td>\n",
       "      <td>{'city': 'Stanford', 'country': 'united states...</td>\n",
       "      <td>Computer Software</td>\n",
       "      <td>NaN</td>\n",
       "    </tr>\n",
       "    <tr>\n",
       "      <th>1</th>\n",
       "      <td>19</td>\n",
       "      <td>5505</td>\n",
       "      <td>OpenMI at the University of Michigan</td>\n",
       "      <td>https://maizepages.umich.edu/organization/openmi</td>\n",
       "      <td>[]</td>\n",
       "      <td>{'city': 'Ann Arbor', 'country': 'united state...</td>\n",
       "      <td>Computer Software</td>\n",
       "      <td>NaN</td>\n",
       "    </tr>\n",
       "  </tbody>\n",
       "</table>\n",
       "</div>"
      ],
      "text/plain": [
       "   index Unnamed: 0                           CompanyName  \\\n",
       "0     11       5314                      Sawa Impact Labs   \n",
       "1     19       5505  OpenMI at the University of Michigan   \n",
       "\n",
       "                                            Website Specialties  \\\n",
       "0                             https://sawa.gallery/          []   \n",
       "1  https://maizepages.umich.edu/organization/openmi          []   \n",
       "\n",
       "                                             Address           Industry  \\\n",
       "0  {'city': 'Stanford', 'country': 'united states...  Computer Software   \n",
       "1  {'city': 'Ann Arbor', 'country': 'united state...  Computer Software   \n",
       "\n",
       "  Unnamed: 6  \n",
       "0        NaN  \n",
       "1        NaN  "
      ]
     },
     "execution_count": 9,
     "metadata": {},
     "output_type": "execute_result"
    }
   ],
   "source": [
    "df.head(2)"
   ]
  },
  {
   "cell_type": "code",
   "execution_count": 42,
   "id": "a04e6162",
   "metadata": {
    "hidden": true
   },
   "outputs": [],
   "source": [
    "def parse_single_quote_json(json_str):\n",
    "    json_str_fixed = json_str.replace(\"'\", '\"').replace(\"None\", \"null\")\n",
    "    try:\n",
    "        return json.loads(json_str_fixed)\n",
    "    except json.JSONDecodeError as e:\n",
    "        print(f\"Error parsing JSON: {e}\")\n",
    "        return None\n",
    "    \n",
    "def _get_country(_str):\n",
    "    x = parse_single_quote_json(_str)\n",
    "    if x is None:\n",
    "        return None\n",
    "    if 'country' not in x.keys():\n",
    "        return None\n",
    "    return x['country']\n",
    "    "
   ]
  },
  {
   "cell_type": "code",
   "execution_count": 43,
   "id": "e0cb49bd",
   "metadata": {
    "hidden": true
   },
   "outputs": [
    {
     "name": "stdout",
     "output_type": "stream",
     "text": [
      "Error parsing JSON: Expecting ',' delimiter: line 1 column 19 (char 18)\n",
      "Error parsing JSON: Expecting ',' delimiter: line 1 column 19 (char 18)\n",
      "Error parsing JSON: Invalid control character at: line 1 column 18 (char 17)\n",
      "Error parsing JSON: Expecting ',' delimiter: line 1 column 18 (char 17)\n",
      "Error parsing JSON: Expecting ',' delimiter: line 1 column 13 (char 12)\n",
      "Error parsing JSON: Invalid control character at: line 1 column 12 (char 11)\n",
      "Error parsing JSON: Invalid control character at: line 1 column 81 (char 80)\n"
     ]
    }
   ],
   "source": [
    "df['country'] = df.Address.apply(lambda x: _get_country(x))"
   ]
  },
  {
   "cell_type": "markdown",
   "id": "ff602a0b",
   "metadata": {
    "hidden": true
   },
   "source": [
    "country is good (was checking if it's full of Chinese/Indian companies)"
   ]
  },
  {
   "cell_type": "code",
   "execution_count": 44,
   "id": "462eacf4",
   "metadata": {
    "hidden": true
   },
   "outputs": [
    {
     "data": {
      "text/plain": [
       "country\n",
       "united states     4734\n",
       "united kingdom     884\n",
       "canada             392\n",
       "australia          254\n",
       "singapore          172\n",
       "ireland             79\n",
       "new zealand         26\n",
       "Name: count, dtype: int64"
      ]
     },
     "execution_count": 44,
     "metadata": {},
     "output_type": "execute_result"
    }
   ],
   "source": [
    "df.country.value_counts()"
   ]
  },
  {
   "cell_type": "code",
   "execution_count": 47,
   "id": "12eeb91f",
   "metadata": {
    "hidden": true
   },
   "outputs": [
    {
     "data": {
      "text/plain": [
       "0                                https://sawa.gallery/\n",
       "1     https://maizepages.umich.edu/organization/openmi\n",
       "2                                   https://siftmo.com\n",
       "3                              https://www.aleios.com/\n",
       "4                                    http://niftys.com\n",
       "5                                 https://basewell.com\n",
       "6                                    http://journey.io\n",
       "7                             https://apple.co/3HcKeLx\n",
       "8                               https://sqdc.avoyer.ca\n",
       "9                             http://www.appcoderz.com\n",
       "10                                  https://appdive.io\n",
       "11                              https://greenpixie.com\n",
       "12                                http://tryparade.com\n",
       "13                       http://www.extendingfamily.us\n",
       "14                                 https://nixmade.com\n",
       "15                             https://www.jumproom.io\n",
       "16                                    https://maple.so\n",
       "17                         http://www.blueprintgtm.com\n",
       "18                          https://www.remofirst.com/\n",
       "19                                https://blockjoy.com\n",
       "Name: Website, dtype: object"
      ]
     },
     "execution_count": 47,
     "metadata": {},
     "output_type": "execute_result"
    }
   ],
   "source": [
    "df.Website.head(20)"
   ]
  },
  {
   "cell_type": "code",
   "execution_count": 102,
   "id": "1b3c4cf1",
   "metadata": {
    "hidden": true
   },
   "outputs": [
    {
     "data": {
      "text/plain": [
       "4734"
      ]
     },
     "execution_count": 102,
     "metadata": {},
     "output_type": "execute_result"
    }
   ],
   "source": [
    "df = df[df['country'] == 'united states']\n",
    "len(df)"
   ]
  },
  {
   "cell_type": "markdown",
   "id": "25275c9f",
   "metadata": {
    "heading_collapsed": true
   },
   "source": [
    "# Scrape website"
   ]
  },
  {
   "cell_type": "code",
   "execution_count": 59,
   "id": "a40bd719",
   "metadata": {
    "hidden": true
   },
   "outputs": [],
   "source": [
    "async def scrape_url(url):\n",
    "    try:\n",
    "        async with async_playwright() as p:\n",
    "            browser = await p.chromium.launch()\n",
    "            context = browser.new_context()\n",
    "            page = await browser.new_page()\n",
    "            \n",
    "            await page.goto(url)\n",
    "            \n",
    "            await page.wait_for_load_state(timeout=20000)\n",
    "            await page.keyboard.press('PageDown')\n",
    "            await page.wait_for_load_state(timeout=20000)\n",
    "            \n",
    "            href = await page.evaluate('() => document.location.href')\n",
    "            await page.wait_for_load_state(timeout=20000)\n",
    "            await page.screenshot(path=\"screenshot.png\", full_page=True)\n",
    "            \n",
    "            content = await page.content()\n",
    "            await browser.close()\n",
    "            return content\n",
    "    except Exception as e:\n",
    "        print(e)\n",
    "        return None"
   ]
  },
  {
   "cell_type": "code",
   "execution_count": 60,
   "id": "a3c65c93",
   "metadata": {
    "hidden": true
   },
   "outputs": [],
   "source": [
    "url = 'https://maizepages.umich.edu/organization/openmi'"
   ]
  },
  {
   "cell_type": "code",
   "execution_count": 61,
   "id": "0f94a8ae",
   "metadata": {
    "hidden": true
   },
   "outputs": [
    {
     "name": "stderr",
     "output_type": "stream",
     "text": [
      "/home/krisztian/miniconda3/envs/all/lib/python3.12/inspect.py:479: RuntimeWarning: coroutine 'Browser.new_context' was never awaited\n",
      "  def isframe(object):\n",
      "RuntimeWarning: Enable tracemalloc to get the object allocation traceback\n"
     ]
    }
   ],
   "source": [
    "content = await scrape_url(url)"
   ]
  },
  {
   "cell_type": "code",
   "execution_count": 84,
   "id": "159cbdb1",
   "metadata": {
    "hidden": true
   },
   "outputs": [],
   "source": [
    "async def limit_parallel(tasks, n=5):\n",
    "    \"\"\"\n",
    "    Run up to n async tasks in parallel.\n",
    "\n",
    "    :param n: Maximum number of concurrent tasks.\n",
    "    :param tasks: List of coroutine functions to execute.\n",
    "    :return: List of results from the tasks.\n",
    "    \"\"\"\n",
    "    semaphore = asyncio.Semaphore(n)\n",
    "\n",
    "    async def sem_task(task):\n",
    "        async with semaphore:\n",
    "            return await task\n",
    "\n",
    "    # Wrap tasks with semaphore logic\n",
    "    wrapped_tasks = [sem_task(task) for task in tasks]\n",
    "\n",
    "    # Run all tasks concurrently\n",
    "    return await tqdm.asyncio.tqdm.gather(*wrapped_tasks)"
   ]
  },
  {
   "cell_type": "code",
   "execution_count": 85,
   "id": "2bc5d56d",
   "metadata": {
    "hidden": true
   },
   "outputs": [],
   "source": [
    "urls = df.Website.head(20)"
   ]
  },
  {
   "cell_type": "code",
   "execution_count": 95,
   "id": "2c05e69e",
   "metadata": {
    "hidden": true
   },
   "outputs": [],
   "source": [
    "tasks = [scrape_url(u) for u in urls]"
   ]
  },
  {
   "cell_type": "code",
   "execution_count": 96,
   "id": "f0dfff5b",
   "metadata": {
    "hidden": true
   },
   "outputs": [
    {
     "name": "stderr",
     "output_type": "stream",
     "text": [
      "  5%|███████████▌                                                                                                                                                                                                                           | 1/20 [00:02<00:45,  2.40s/it]"
     ]
    },
    {
     "name": "stdout",
     "output_type": "stream",
     "text": [
      "Page.goto: net::ERR_NAME_NOT_RESOLVED at https://nixmade.com/\n",
      "Call log:\n",
      "navigating to \"https://nixmade.com/\", waiting until \"load\"\n",
      "\n"
     ]
    },
    {
     "name": "stderr",
     "output_type": "stream",
     "text": [
      "\r",
      " 10%|███████████████████████                                                                                                                                                                                                                | 2/20 [00:02<00:21,  1.20s/it]"
     ]
    },
    {
     "name": "stdout",
     "output_type": "stream",
     "text": [
      "Page.goto: net::ERR_CERT_COMMON_NAME_INVALID at http://www.appcoderz.com/\n",
      "Call log:\n",
      "navigating to \"http://www.appcoderz.com/\", waiting until \"load\"\n",
      "\n"
     ]
    },
    {
     "name": "stderr",
     "output_type": "stream",
     "text": [
      " 45%|███████████████████████████████████████████████████████████████████████████████████████████████████████▉                                                                                                                               | 9/20 [00:07<00:09,  1.17it/s]"
     ]
    },
    {
     "name": "stdout",
     "output_type": "stream",
     "text": [
      "Page.goto: net::ERR_NAME_NOT_RESOLVED at http://www.extendingfamily.us/\n",
      "Call log:\n",
      "navigating to \"http://www.extendingfamily.us/\", waiting until \"load\"\n",
      "\n"
     ]
    },
    {
     "name": "stderr",
     "output_type": "stream",
     "text": [
      "100%|██████████████████████████████████████████████████████████████████████████████████████████████████████████████████████████████████████████████████████████████████████████████████████████████████████████████████████████████████████| 20/20 [00:13<00:00,  1.44it/s]\n"
     ]
    }
   ],
   "source": [
    "results = await limit_parallel(tasks, 10)"
   ]
  },
  {
   "cell_type": "code",
   "execution_count": 97,
   "id": "4ffbc551",
   "metadata": {
    "hidden": true
   },
   "outputs": [
    {
     "data": {
      "text/plain": [
       "'<!DOCTYPE html><html class=\"yui3-js-enabled js-focus-visible js flexbox canvas canvastext webgl no-touch hashchange history draganddrop rgba hsla multiplebgs backgroundsize borderimage borderradius boxshadow textshadow opacity cssanimations csscolumns cssgradients cssreflections csstransforms no-csstransforms3d csstransitions video audio svg inlinesvg svgclippaths\" data-js-focus-visible=\"\" style=\"\"><div id=\"yui3-css-stamp\" style=\"position: absolute !important; visibility: hidden !important\"></div><head>\\n\\n  <title>Squarespace - Website Expired</title>\\n  <meta http-equiv=\"X-UA-Compatible\" content=\"chrome=1\">\\n\\n  <script src=\"//assets.squarespace.com/@sqs/polyfiller/1.6/legacy.js\" nomodule=\"\" type=\"text/javascript\" crossorigin=\"anonymous\"></script>\\n  <script src=\"//assets.squarespace.com/@sqs/polyfiller/1.6/modern.js\" type=\"text/javascript\" crossorigin=\"anonymous\"></script>\\n  <script crossorigin=\"anonymous\" src=\"//assets.squarespace.com/universal/scripts-compressed/extract-css-runtime-3843519cb467953ebe15-min.en-US.js\"></script><script crossorigin=\"anonymous\" src=\"//assets.squarespace.com/universal/scripts-compressed/extract-css-moment-js-vendor-6c569122bfa66a51a056-min.en-US.js\"></script><script crossorigin=\"anonymous\" src=\"//assets.squarespace.com/universal/scripts-compressed/cldr-resource-pack-e85130cf44bc2d365b8b-min.en-US.js\"></script><script crossorigin=\"anonymous\" src=\"//assets.squarespace.com/universal/scripts-compressed/common-vendors-stable-b03dd66b7c78e5e40bc7-min.en-US.js\"></script><script crossorigin=\"anonymous\" src=\"//assets.squarespace.com/universal/scripts-compressed/common-vendors-7598f4eb50a2ef12b555-min.en-US.js\"></script><script crossorigin=\"anonymous\" src=\"//assets.squarespace.com/universal/scripts-compressed/common-789074fe5b520016beb5-min.en-US.js\"></script><link rel=\"stylesheet\" type=\"text/css\" href=\"//assets.squarespace.com/universal/styles-compressed/common-dc637f2dc3768064f861-min.en-US.css\">\\n  <script crossorigin=\"anonymous\" src=\"//assets.squarespace.com/universal/scripts-compressed/dialog-a1e334b539e332714cba-min.en-US.js\"></script><style type=\"text/css\">.CSSTG-group {position:relative;display:block;}\\n.CSSTG-child {backface-visibility:hidden;filter:blur(1);}\\n.CSSTG-wrappedChild {padding:0.1px;margin:-0.1px;}\\n</style><style type=\"text/css\">.CSSTG-ExpandCollapse-expand {overflow:hidden;transition:max-height .2s ease-in-out, opacity .24s ease .08s;}\\n.CSSTG-ExpandCollapse-collapse {overflow:hidden;transition:max-height .2s ease-in-out, opacity .16s ease;}\\n</style><style type=\"text/css\">.CSSTG-Dissolve-dissolve {overflow:hidden;transition:opacity .33s ease, min-height .33s ease, max-height .33s ease;}\\n.CSSTG-Dissolve-leave {overflow:hidden;position:absolute;top:0;left:0;right:0;bottom:0;}\\n.CSSTG-Dissolve-dissolve.CSSTG-Dissolve-async {transition:opacity .33s ease .66s, min-height .33s ease .33s, max-height .33s ease .33s;}\\n.CSSTG-Dissolve-leave.CSSTG-Dissolve-async {transition:opacity .33s ease;}\\n</style><style type=\"text/css\">.CSSTG-Slide-group {overflow:hidden;}\\n.CSSTG-Slide-slide {overflow:hidden;transition:transform .26s ease, min-height .26s ease, max-height .26s ease;}\\n.CSSTG-Slide-leave {overflow:hidden;position:absolute;top:0;left:0;right:0;bottom:0;}\\n</style><style type=\"text/css\">.CSSTG-Reorderable-enter {transition:opacity .3s ease .2s;}\\n.CSSTG-Reorderable-leave {position:absolute !important;top:0;left:0;transition:opacity .3s ease;}\\n.CSSTG-Reorderable-move {transition:transform .36s ease;z-index:1;}\\n.CSSTG-Reorderable-leave ~ .CSSTG-Reorderable-move {transition-delay:.2s;}\\n</style><style>[touch-action=\"none\"]{ -ms-touch-action: none; touch-action: none; }\\n[touch-action=\"auto\"]{ -ms-touch-action: auto; touch-action: auto; }\\n[touch-action=\"pan-x\"]{ -ms-touch-action: pan-x; touch-action: pan-x; }\\n[touch-action=\"pan-y\"]{ -ms-touch-action: pan-y; touch-action: pan-y; }\\n[touch-action=\"pan-x pan-y\"],[touch-action=\"pan-y pan-x\"]{ -ms-touch-action: pan-x pan-y; touch-action: pan-x pan-y; }\\n</style><link type=\"text/css\" rel=\"stylesheet\" href=\"blob:https://www.sawa.gallery/8c4483eb-7dd5-459e-af2f-2ee33c01ef6c\"><link type=\"text/css\" rel=\"stylesheet\" href=\"blob:https://www.sawa.gallery/f52baba8-b007-4fe3-8c7b-4ade8b20521b\"><script src=\"https://js.stripe.com/v3\"></script><link rel=\"stylesheet\" type=\"text/css\" href=\"//assets.squarespace.com/universal/styles-compressed/dialog-6a1bec66bd82f1d3f383-min.en-US.css\">\\n  <script crossorigin=\"anonymous\" src=\"//assets.squarespace.com/universal/scripts-compressed/system-page-51391105d5ef4b07e3f1-min.en-US.js\"></script><link rel=\"stylesheet\" type=\"text/css\" href=\"//assets.squarespace.com/universal/styles-compressed/system-page-906ccbacabc55be2a493-min.en-US.css\">\\n\\n  <script>\\n\\n    YUI(YUI_CONFIG).use(\\'squarespace-common\\', \\'squarespace-system-page\\', function(Y) {\\n\\n      Y.on(\"domready\", function() {\\n\\n        var lb = new Y.Squarespace.Lightbox({\\n          disableNormalClose: true,\\n          clickAnywhereToExit: false,\\n          content: \\'<div class=\"bigtext\"><div class=\"title\">Website Expired</div><div class=\"description\">This account has expired.  If you are the site owner, click below to login.</div><div class=\"buttons\"><input type=\"button\" class=\"login-button\" name=\"login\" value=\"Owner Login\"/></div></div>\\',\\n          margin: 100,\\n          noHeightConstrain: true\\n        });\\n\\n        lb.show();\\n\\n        lb.getContentEl().on(\"click\", function(e) {\\n          if (e.target.ancestor(\".login-button\", true)) {\\n            document.location.href = \\'/config/\\';\\n          }\\n        });\\n\\n      });\\n\\n    });\\n\\n  </script>\\n\\n\\n</head>\\n<body class=\"squarespace-config squarespace-system-page\">\\n\\n  <div class=\"minimal-logo\">&nbsp;</div>\\n\\n\\n\\n<div class=\"sqs-lightbox\" style=\"position: fixed; opacity: 0; z-index: 30010;\"><div class=\"bigtext\"><div class=\"title\">Website Expired</div><div class=\"description\">This account has expired.  If you are the site owner, click below to login.</div><div class=\"buttons\"><input type=\"button\" class=\"login-button\" name=\"login\" value=\"Owner Login\"></div></div></div><div class=\"sqs-lightbox-overlay black sqs-lightbox-overlay-style-orb\" style=\"z-index: 30009; opacity: 0.998603;\"></div><iframe name=\"__privateStripeMetricsController7210\" frameborder=\"0\" allowtransparency=\"true\" scrolling=\"no\" role=\"presentation\" allow=\"payment *\" src=\"https://js.stripe.com/v3/m-outer-3437aaddcdf6922d623e172c2d6f9278.html#url=https%3A%2F%2Fwww.sawa.gallery%2F&amp;title=Squarespace%20-%20Website%20Expired&amp;referrer=&amp;muid=NA&amp;sid=NA&amp;version=6&amp;preview=false\" aria-hidden=\"true\" tabindex=\"-1\" style=\"border: none !important; margin: 0px !important; padding: 0px !important; width: 1px !important; min-width: 100% !important; overflow: hidden !important; display: block !important; visibility: hidden !important; position: fixed !important; height: 1px !important; pointer-events: none !important; user-select: none !important;\"></iframe></body></html>'"
      ]
     },
     "execution_count": 97,
     "metadata": {},
     "output_type": "execute_result"
    }
   ],
   "source": [
    "results[0]"
   ]
  },
  {
   "cell_type": "code",
   "execution_count": 98,
   "id": "4a20d599",
   "metadata": {
    "hidden": true
   },
   "outputs": [],
   "source": [
    "def _estime_whole_df(secs):\n",
    "    return secs / 20 * len(df) / 3600"
   ]
  },
  {
   "cell_type": "code",
   "execution_count": 100,
   "id": "054342b6",
   "metadata": {
    "hidden": true
   },
   "outputs": [
    {
     "data": {
      "text/plain": [
       "1.1822777777777778"
      ]
     },
     "execution_count": 100,
     "metadata": {},
     "output_type": "execute_result"
    }
   ],
   "source": [
    "_estime_whole_df(13)"
   ]
  },
  {
   "cell_type": "markdown",
   "id": "1163f3a1",
   "metadata": {
    "hidden": true
   },
   "source": [
    "Going to\n",
    "1. Set of async job for whole list\n",
    "2. do md conversion\n",
    "3. do prompt + evals for extracting jobs links / classifying pages / etc"
   ]
  },
  {
   "cell_type": "markdown",
   "id": "adfed088",
   "metadata": {
    "hidden": true
   },
   "source": [
    "page classifications:\n",
    "- is it a valid htmls\n",
    "- does it contains jobs?\n",
    "    - Yes / list\n",
    "    - Yes / open apply\n",
    "    - No / with links\n",
    "    - No / no links\n",
    "- extract links"
   ]
  },
  {
   "cell_type": "markdown",
   "id": "95cda3d2",
   "metadata": {
    "heading_collapsed": true
   },
   "source": [
    "# Do markdown conversion"
   ]
  },
  {
   "cell_type": "code",
   "execution_count": 154,
   "id": "1c3c7fa7",
   "metadata": {
    "hidden": true
   },
   "outputs": [],
   "source": [
    "df2 = pd.read_csv(\"../data/01_subset_enriched.csv\")"
   ]
  },
  {
   "cell_type": "code",
   "execution_count": 155,
   "id": "0c9de171",
   "metadata": {
    "hidden": true
   },
   "outputs": [],
   "source": [
    "df.to_csv(\"../data/01_subset_enriched.csv\", index=False)"
   ]
  },
  {
   "cell_type": "code",
   "execution_count": 156,
   "id": "73876e7b",
   "metadata": {
    "hidden": true
   },
   "outputs": [
    {
     "data": {
      "text/html": [
       "<div>\n",
       "<style scoped>\n",
       "    .dataframe tbody tr th:only-of-type {\n",
       "        vertical-align: middle;\n",
       "    }\n",
       "\n",
       "    .dataframe tbody tr th {\n",
       "        vertical-align: top;\n",
       "    }\n",
       "\n",
       "    .dataframe thead th {\n",
       "        text-align: right;\n",
       "    }\n",
       "</style>\n",
       "<table border=\"1\" class=\"dataframe\">\n",
       "  <thead>\n",
       "    <tr style=\"text-align: right;\">\n",
       "      <th></th>\n",
       "      <th>CompanyName</th>\n",
       "      <th>Website</th>\n",
       "      <th>scrape_status</th>\n",
       "      <th>homepage_content</th>\n",
       "    </tr>\n",
       "  </thead>\n",
       "  <tbody>\n",
       "    <tr>\n",
       "      <th>0</th>\n",
       "      <td>Sawa Impact Labs</td>\n",
       "      <td>https://sawa.gallery/</td>\n",
       "      <td>Success</td>\n",
       "      <td>&lt;!DOCTYPE html&gt;&lt;html class=\"yui3-js-enabled js...</td>\n",
       "    </tr>\n",
       "    <tr>\n",
       "      <th>1</th>\n",
       "      <td>OpenMI at the University of Michigan</td>\n",
       "      <td>https://maizepages.umich.edu/organization/openmi</td>\n",
       "      <td>Success</td>\n",
       "      <td>&lt;!DOCTYPE html&gt;&lt;html lang=\"en\"&gt;&lt;head&gt;\\n    &lt;me...</td>\n",
       "    </tr>\n",
       "  </tbody>\n",
       "</table>\n",
       "</div>"
      ],
      "text/plain": [
       "                            CompanyName  \\\n",
       "0                      Sawa Impact Labs   \n",
       "1  OpenMI at the University of Michigan   \n",
       "\n",
       "                                            Website scrape_status  \\\n",
       "0                             https://sawa.gallery/       Success   \n",
       "1  https://maizepages.umich.edu/organization/openmi       Success   \n",
       "\n",
       "                                    homepage_content  \n",
       "0  <!DOCTYPE html><html class=\"yui3-js-enabled js...  \n",
       "1  <!DOCTYPE html><html lang=\"en\"><head>\\n    <me...  "
      ]
     },
     "execution_count": 156,
     "metadata": {},
     "output_type": "execute_result"
    }
   ],
   "source": [
    "df.head(2)"
   ]
  },
  {
   "cell_type": "code",
   "execution_count": 157,
   "id": "d325b6da",
   "metadata": {
    "hidden": true
   },
   "outputs": [
    {
     "data": {
      "text/plain": [
       "scrape_status\n",
       "Success        3655\n",
       "Failed         1071\n",
       "Not Started       8\n",
       "Name: count, dtype: int64"
      ]
     },
     "execution_count": 157,
     "metadata": {},
     "output_type": "execute_result"
    }
   ],
   "source": [
    "df.scrape_status.value_counts()"
   ]
  },
  {
   "cell_type": "code",
   "execution_count": 125,
   "id": "66601340",
   "metadata": {
    "hidden": true
   },
   "outputs": [],
   "source": [
    "failed = df[df.scrape_status == 'Failed']"
   ]
  },
  {
   "cell_type": "code",
   "execution_count": 126,
   "id": "be1c8c46",
   "metadata": {
    "hidden": true
   },
   "outputs": [
    {
     "data": {
      "text/plain": [
       "505"
      ]
     },
     "execution_count": 126,
     "metadata": {},
     "output_type": "execute_result"
    }
   ],
   "source": [
    "len(failed)"
   ]
  },
  {
   "cell_type": "code",
   "execution_count": 127,
   "id": "cf960ec8",
   "metadata": {
    "hidden": true
   },
   "outputs": [],
   "source": [
    "success = df[df.scrape_status== 'Success'].reset_index(drop=True)"
   ]
  },
  {
   "cell_type": "code",
   "execution_count": 128,
   "id": "fed99422",
   "metadata": {
    "hidden": true
   },
   "outputs": [
    {
     "data": {
      "text/plain": [
       "1722"
      ]
     },
     "execution_count": 128,
     "metadata": {},
     "output_type": "execute_result"
    }
   ],
   "source": [
    "len(success)"
   ]
  },
  {
   "cell_type": "code",
   "execution_count": 129,
   "id": "f9abc851",
   "metadata": {
    "hidden": true
   },
   "outputs": [
    {
     "data": {
      "text/html": [
       "<div>\n",
       "<style scoped>\n",
       "    .dataframe tbody tr th:only-of-type {\n",
       "        vertical-align: middle;\n",
       "    }\n",
       "\n",
       "    .dataframe tbody tr th {\n",
       "        vertical-align: top;\n",
       "    }\n",
       "\n",
       "    .dataframe thead th {\n",
       "        text-align: right;\n",
       "    }\n",
       "</style>\n",
       "<table border=\"1\" class=\"dataframe\">\n",
       "  <thead>\n",
       "    <tr style=\"text-align: right;\">\n",
       "      <th></th>\n",
       "      <th>CompanyName</th>\n",
       "      <th>Website</th>\n",
       "      <th>scrape_status</th>\n",
       "      <th>homepage_content</th>\n",
       "    </tr>\n",
       "  </thead>\n",
       "  <tbody>\n",
       "    <tr>\n",
       "      <th>0</th>\n",
       "      <td>Sawa Impact Labs</td>\n",
       "      <td>https://sawa.gallery/</td>\n",
       "      <td>Success</td>\n",
       "      <td>&lt;!DOCTYPE html&gt;&lt;html class=\"yui3-js-enabled js...</td>\n",
       "    </tr>\n",
       "    <tr>\n",
       "      <th>1</th>\n",
       "      <td>OpenMI at the University of Michigan</td>\n",
       "      <td>https://maizepages.umich.edu/organization/openmi</td>\n",
       "      <td>Success</td>\n",
       "      <td>&lt;!DOCTYPE html&gt;&lt;html lang=\"en\"&gt;&lt;head&gt;\\n    &lt;me...</td>\n",
       "    </tr>\n",
       "    <tr>\n",
       "      <th>2</th>\n",
       "      <td>Nifty's</td>\n",
       "      <td>http://niftys.com</td>\n",
       "      <td>Success</td>\n",
       "      <td>&lt;!DOCTYPE html&gt;&lt;html class=\"no-js\" lang=\"en-US...</td>\n",
       "    </tr>\n",
       "    <tr>\n",
       "      <th>3</th>\n",
       "      <td>Basewell</td>\n",
       "      <td>https://basewell.com</td>\n",
       "      <td>Success</td>\n",
       "      <td>&lt;!DOCTYPE html&gt;&lt;html lang=\"en\"&gt;&lt;head&gt;&lt;meta cha...</td>\n",
       "    </tr>\n",
       "    <tr>\n",
       "      <th>4</th>\n",
       "      <td>Journey</td>\n",
       "      <td>http://journey.io</td>\n",
       "      <td>Success</td>\n",
       "      <td>&lt;!DOCTYPE html&gt;&lt;html lang=\"en\"&gt;&lt;head&gt;\\n    &lt;me...</td>\n",
       "    </tr>\n",
       "  </tbody>\n",
       "</table>\n",
       "</div>"
      ],
      "text/plain": [
       "                            CompanyName  \\\n",
       "0                      Sawa Impact Labs   \n",
       "1  OpenMI at the University of Michigan   \n",
       "2                               Nifty's   \n",
       "3                              Basewell   \n",
       "4                               Journey   \n",
       "\n",
       "                                            Website scrape_status  \\\n",
       "0                             https://sawa.gallery/       Success   \n",
       "1  https://maizepages.umich.edu/organization/openmi       Success   \n",
       "2                                 http://niftys.com       Success   \n",
       "3                              https://basewell.com       Success   \n",
       "4                                 http://journey.io       Success   \n",
       "\n",
       "                                    homepage_content  \n",
       "0  <!DOCTYPE html><html class=\"yui3-js-enabled js...  \n",
       "1  <!DOCTYPE html><html lang=\"en\"><head>\\n    <me...  \n",
       "2  <!DOCTYPE html><html class=\"no-js\" lang=\"en-US...  \n",
       "3  <!DOCTYPE html><html lang=\"en\"><head><meta cha...  \n",
       "4  <!DOCTYPE html><html lang=\"en\"><head>\\n    <me...  "
      ]
     },
     "execution_count": 129,
     "metadata": {},
     "output_type": "execute_result"
    }
   ],
   "source": [
    "success.head()"
   ]
  },
  {
   "cell_type": "code",
   "execution_count": 130,
   "id": "10fb99e6",
   "metadata": {
    "hidden": true
   },
   "outputs": [],
   "source": [
    "from jobsfinder.core import html2md"
   ]
  },
  {
   "cell_type": "code",
   "execution_count": 131,
   "id": "3d144f0f",
   "metadata": {
    "hidden": true
   },
   "outputs": [
    {
     "name": "stdout",
     "output_type": "stream",
     "text": [
      "\n",
      "\n",
      "Squarespace \\- Website Expired\n",
      "\n",
      "\n",
      " \n",
      "Website ExpiredThis account has expired. If you are the site owner, click below to login.\n"
     ]
    }
   ],
   "source": [
    "print(html2md(success.homepage_content.iloc[0]))"
   ]
  },
  {
   "cell_type": "code",
   "execution_count": 132,
   "id": "754b4f91",
   "metadata": {
    "hidden": true
   },
   "outputs": [],
   "source": [
    "df = success.copy()"
   ]
  },
  {
   "cell_type": "code",
   "execution_count": 135,
   "id": "9c39cf9c",
   "metadata": {
    "hidden": true
   },
   "outputs": [
    {
     "data": {
      "text/plain": [
       "1722"
      ]
     },
     "execution_count": 135,
     "metadata": {},
     "output_type": "execute_result"
    }
   ],
   "source": [
    "len(df)"
   ]
  },
  {
   "cell_type": "code",
   "execution_count": 136,
   "id": "e53318fc",
   "metadata": {
    "hidden": true
   },
   "outputs": [],
   "source": [
    "from tqdm import tqdm"
   ]
  },
  {
   "cell_type": "code",
   "execution_count": 137,
   "id": "6d1a4600",
   "metadata": {
    "hidden": true
   },
   "outputs": [
    {
     "name": "stderr",
     "output_type": "stream",
     "text": [
      "100%|██████████████████████████████████████████████████████████████████████████████████████████████████████████████████████████████████████████████████████████████████████████████████████████████████████████████████████████████████| 1722/1722 [06:27<00:00,  4.44it/s]\n"
     ]
    }
   ],
   "source": [
    "df['md'] = [html2md(x) for x in tqdm(df.homepage_content)]"
   ]
  },
  {
   "cell_type": "code",
   "execution_count": 138,
   "id": "e7f69de3",
   "metadata": {
    "hidden": true
   },
   "outputs": [],
   "source": [
    "df['html_length'] = df.homepage_content.apply(lambda x: None if x is None else len(x))\n",
    "df['md_length'] = df.md.apply(lambda x: None if x is None else len(x))"
   ]
  },
  {
   "cell_type": "code",
   "execution_count": 139,
   "id": "9324d29e",
   "metadata": {
    "hidden": true
   },
   "outputs": [
    {
     "data": {
      "text/plain": [
       "count    1.722000e+03\n",
       "mean     2.566247e+05\n",
       "std      8.206222e+05\n",
       "min      3.900000e+01\n",
       "25%      2.496650e+04\n",
       "50%      8.439500e+04\n",
       "75%      2.130652e+05\n",
       "max      1.529246e+07\n",
       "Name: html_length, dtype: float64"
      ]
     },
     "execution_count": 139,
     "metadata": {},
     "output_type": "execute_result"
    }
   ],
   "source": [
    "df.html_length.describe()"
   ]
  },
  {
   "cell_type": "code",
   "execution_count": 140,
   "id": "8eb483e4",
   "metadata": {
    "hidden": true
   },
   "outputs": [
    {
     "data": {
      "text/plain": [
       "count      1722.000000\n",
       "mean       6392.870499\n",
       "std       11975.955074\n",
       "min           0.000000\n",
       "25%        1345.250000\n",
       "50%        4034.000000\n",
       "75%        7348.000000\n",
       "max      261102.000000\n",
       "Name: md_length, dtype: float64"
      ]
     },
     "execution_count": 140,
     "metadata": {},
     "output_type": "execute_result"
    }
   ],
   "source": [
    "df.md_length.describe()"
   ]
  },
  {
   "cell_type": "code",
   "execution_count": 141,
   "id": "75579831",
   "metadata": {
    "hidden": true
   },
   "outputs": [
    {
     "data": {
      "text/plain": [
       "count      1722.000000\n",
       "mean       6392.870499\n",
       "std       11975.955074\n",
       "min           0.000000\n",
       "25%        1345.250000\n",
       "50%        4034.000000\n",
       "75%        7348.000000\n",
       "max      261102.000000\n",
       "Name: md_length, dtype: float64"
      ]
     },
     "execution_count": 141,
     "metadata": {},
     "output_type": "execute_result"
    }
   ],
   "source": [
    "df.md_length.describe()"
   ]
  },
  {
   "cell_type": "code",
   "execution_count": 142,
   "id": "67d53334",
   "metadata": {
    "hidden": true
   },
   "outputs": [],
   "source": [
    "df['md2html_ratio'] = df.html_length / df.md_length"
   ]
  },
  {
   "cell_type": "code",
   "execution_count": 143,
   "id": "88feb7aa",
   "metadata": {
    "hidden": true
   },
   "outputs": [
    {
     "name": "stderr",
     "output_type": "stream",
     "text": [
      "/home/krisztian/projects/usergems-test/venv/lib/python3.12/site-packages/pandas/core/nanops.py:1016: RuntimeWarning: invalid value encountered in subtract\n",
      "  sqr = _ensure_numeric((avg - values) ** 2)\n"
     ]
    },
    {
     "data": {
      "text/plain": [
       "count    1722.000000\n",
       "mean             inf\n",
       "std              NaN\n",
       "min         1.385650\n",
       "25%         8.929793\n",
       "50%        20.265694\n",
       "75%        54.344181\n",
       "max              inf\n",
       "Name: md2html_ratio, dtype: float64"
      ]
     },
     "execution_count": 143,
     "metadata": {},
     "output_type": "execute_result"
    }
   ],
   "source": [
    "df.md2html_ratio.describe()"
   ]
  },
  {
   "cell_type": "code",
   "execution_count": 144,
   "id": "326d9945",
   "metadata": {
    "hidden": true
   },
   "outputs": [],
   "source": [
    "sub1 = df[df.md_length > 20000]"
   ]
  },
  {
   "cell_type": "code",
   "execution_count": 145,
   "id": "3c252225",
   "metadata": {
    "hidden": true
   },
   "outputs": [
    {
     "data": {
      "text/plain": [
       "81"
      ]
     },
     "execution_count": 145,
     "metadata": {},
     "output_type": "execute_result"
    }
   ],
   "source": [
    "len(sub1)"
   ]
  },
  {
   "cell_type": "markdown",
   "id": "f86d3858",
   "metadata": {
    "heading_collapsed": true
   },
   "source": [
    "# Website Classifications"
   ]
  },
  {
   "cell_type": "markdown",
   "id": "7d253910",
   "metadata": {
    "hidden": true
   },
   "source": [
    "GPT pipelines\n",
    "\n",
    "- Check if it's right website (i.e. not just cookie banner, or can't load page, etc.)\n",
    "- Contains job classification\n",
    "- Extract links\n",
    "- Format job description"
   ]
  },
  {
   "cell_type": "code",
   "execution_count": 20,
   "id": "db3dfbea",
   "metadata": {
    "hidden": true
   },
   "outputs": [],
   "source": [
    "import pandas as pd\n",
    "from jobsfinder.gpts import *\n",
    "from jobsfinder.core import cost_so_far"
   ]
  },
  {
   "cell_type": "code",
   "execution_count": 4,
   "id": "bb5f139b",
   "metadata": {
    "hidden": true
   },
   "outputs": [],
   "source": [
    "df = pd.read_csv(\"../data/03_valid_website.csv\")"
   ]
  },
  {
   "cell_type": "code",
   "execution_count": 5,
   "id": "32d28e0e",
   "metadata": {
    "hidden": true
   },
   "outputs": [
    {
     "data": {
      "text/html": [
       "<div>\n",
       "<style scoped>\n",
       "    .dataframe tbody tr th:only-of-type {\n",
       "        vertical-align: middle;\n",
       "    }\n",
       "\n",
       "    .dataframe tbody tr th {\n",
       "        vertical-align: top;\n",
       "    }\n",
       "\n",
       "    .dataframe thead th {\n",
       "        text-align: right;\n",
       "    }\n",
       "</style>\n",
       "<table border=\"1\" class=\"dataframe\">\n",
       "  <thead>\n",
       "    <tr style=\"text-align: right;\">\n",
       "      <th></th>\n",
       "      <th>CompanyName</th>\n",
       "      <th>Website</th>\n",
       "      <th>scrape_status</th>\n",
       "      <th>md_status</th>\n",
       "      <th>md</th>\n",
       "      <th>html_length</th>\n",
       "      <th>md_length</th>\n",
       "      <th>valid_website</th>\n",
       "    </tr>\n",
       "  </thead>\n",
       "  <tbody>\n",
       "    <tr>\n",
       "      <th>0</th>\n",
       "      <td>Sawa Impact Labs</td>\n",
       "      <td>https://sawa.gallery/</td>\n",
       "      <td>Success</td>\n",
       "      <td>Success</td>\n",
       "      <td>Squarespace \\- Website Expired\\n\\n\\n \\nWebsite...</td>\n",
       "      <td>6998</td>\n",
       "      <td>124</td>\n",
       "      <td>valid</td>\n",
       "    </tr>\n",
       "    <tr>\n",
       "      <th>1</th>\n",
       "      <td>OpenMI at the University of Michigan</td>\n",
       "      <td>https://maizepages.umich.edu/organization/openmi</td>\n",
       "      <td>Success</td>\n",
       "      <td>Success</td>\n",
       "      <td>OpenMI \\- University of Michigan Maize Pages\\n...</td>\n",
       "      <td>39237</td>\n",
       "      <td>784</td>\n",
       "      <td>valid</td>\n",
       "    </tr>\n",
       "    <tr>\n",
       "      <th>2</th>\n",
       "      <td>Nifty's</td>\n",
       "      <td>http://niftys.com</td>\n",
       "      <td>Success</td>\n",
       "      <td>Success</td>\n",
       "      <td>DNS points to prohibited IP \\| niftys.com \\| C...</td>\n",
       "      <td>5755</td>\n",
       "      <td>982</td>\n",
       "      <td>valid</td>\n",
       "    </tr>\n",
       "    <tr>\n",
       "      <th>3</th>\n",
       "      <td>Basewell</td>\n",
       "      <td>https://basewell.com</td>\n",
       "      <td>Success</td>\n",
       "      <td>Success</td>\n",
       "      <td>Basewell[About](/about)[Blog](/blog)[Sign in](...</td>\n",
       "      <td>322761</td>\n",
       "      <td>3504</td>\n",
       "      <td>valid</td>\n",
       "    </tr>\n",
       "    <tr>\n",
       "      <th>4</th>\n",
       "      <td>Journey</td>\n",
       "      <td>http://journey.io</td>\n",
       "      <td>Success</td>\n",
       "      <td>Success</td>\n",
       "      <td>Journey – engage, close, and onboard customers...</td>\n",
       "      <td>218666</td>\n",
       "      <td>3466</td>\n",
       "      <td>valid</td>\n",
       "    </tr>\n",
       "  </tbody>\n",
       "</table>\n",
       "</div>"
      ],
      "text/plain": [
       "                            CompanyName  \\\n",
       "0                      Sawa Impact Labs   \n",
       "1  OpenMI at the University of Michigan   \n",
       "2                               Nifty's   \n",
       "3                              Basewell   \n",
       "4                               Journey   \n",
       "\n",
       "                                            Website scrape_status md_status  \\\n",
       "0                             https://sawa.gallery/       Success   Success   \n",
       "1  https://maizepages.umich.edu/organization/openmi       Success   Success   \n",
       "2                                 http://niftys.com       Success   Success   \n",
       "3                              https://basewell.com       Success   Success   \n",
       "4                                 http://journey.io       Success   Success   \n",
       "\n",
       "                                                  md  html_length  md_length  \\\n",
       "0  Squarespace \\- Website Expired\\n\\n\\n \\nWebsite...         6998        124   \n",
       "1  OpenMI \\- University of Michigan Maize Pages\\n...        39237        784   \n",
       "2  DNS points to prohibited IP \\| niftys.com \\| C...         5755        982   \n",
       "3  Basewell[About](/about)[Blog](/blog)[Sign in](...       322761       3504   \n",
       "4  Journey – engage, close, and onboard customers...       218666       3466   \n",
       "\n",
       "  valid_website  \n",
       "0         valid  \n",
       "1         valid  \n",
       "2         valid  \n",
       "3         valid  \n",
       "4         valid  "
      ]
     },
     "execution_count": 5,
     "metadata": {},
     "output_type": "execute_result"
    }
   ],
   "source": [
    "df.head()"
   ]
  },
  {
   "cell_type": "code",
   "execution_count": 6,
   "id": "2c7b556c",
   "metadata": {
    "hidden": true
   },
   "outputs": [],
   "source": [
    "invalids = df[df.valid_website == 'invalid']"
   ]
  },
  {
   "cell_type": "code",
   "execution_count": 7,
   "id": "ae5b5b6f",
   "metadata": {
    "hidden": true
   },
   "outputs": [
    {
     "data": {
      "text/plain": [
       "valid_website\n",
       "valid      1812\n",
       "invalid     188\n",
       "Name: count, dtype: int64"
      ]
     },
     "execution_count": 7,
     "metadata": {},
     "output_type": "execute_result"
    }
   ],
   "source": [
    "df.valid_website.value_counts()"
   ]
  },
  {
   "cell_type": "code",
   "execution_count": 8,
   "id": "bf375aa4",
   "metadata": {
    "hidden": true
   },
   "outputs": [],
   "source": [
    "df = df[df.valid_website == 'valid']"
   ]
  },
  {
   "cell_type": "code",
   "execution_count": 9,
   "id": "21400725",
   "metadata": {
    "hidden": true
   },
   "outputs": [
    {
     "data": {
      "text/html": [
       "<div>\n",
       "<style scoped>\n",
       "    .dataframe tbody tr th:only-of-type {\n",
       "        vertical-align: middle;\n",
       "    }\n",
       "\n",
       "    .dataframe tbody tr th {\n",
       "        vertical-align: top;\n",
       "    }\n",
       "\n",
       "    .dataframe thead th {\n",
       "        text-align: right;\n",
       "    }\n",
       "</style>\n",
       "<table border=\"1\" class=\"dataframe\">\n",
       "  <thead>\n",
       "    <tr style=\"text-align: right;\">\n",
       "      <th></th>\n",
       "      <th>CompanyName</th>\n",
       "      <th>Website</th>\n",
       "      <th>scrape_status</th>\n",
       "      <th>md_status</th>\n",
       "      <th>md</th>\n",
       "      <th>html_length</th>\n",
       "      <th>md_length</th>\n",
       "      <th>valid_website</th>\n",
       "    </tr>\n",
       "  </thead>\n",
       "  <tbody>\n",
       "    <tr>\n",
       "      <th>0</th>\n",
       "      <td>Sawa Impact Labs</td>\n",
       "      <td>https://sawa.gallery/</td>\n",
       "      <td>Success</td>\n",
       "      <td>Success</td>\n",
       "      <td>Squarespace \\- Website Expired\\n\\n\\n \\nWebsite...</td>\n",
       "      <td>6998</td>\n",
       "      <td>124</td>\n",
       "      <td>valid</td>\n",
       "    </tr>\n",
       "    <tr>\n",
       "      <th>1</th>\n",
       "      <td>OpenMI at the University of Michigan</td>\n",
       "      <td>https://maizepages.umich.edu/organization/openmi</td>\n",
       "      <td>Success</td>\n",
       "      <td>Success</td>\n",
       "      <td>OpenMI \\- University of Michigan Maize Pages\\n...</td>\n",
       "      <td>39237</td>\n",
       "      <td>784</td>\n",
       "      <td>valid</td>\n",
       "    </tr>\n",
       "    <tr>\n",
       "      <th>2</th>\n",
       "      <td>Nifty's</td>\n",
       "      <td>http://niftys.com</td>\n",
       "      <td>Success</td>\n",
       "      <td>Success</td>\n",
       "      <td>DNS points to prohibited IP \\| niftys.com \\| C...</td>\n",
       "      <td>5755</td>\n",
       "      <td>982</td>\n",
       "      <td>valid</td>\n",
       "    </tr>\n",
       "    <tr>\n",
       "      <th>3</th>\n",
       "      <td>Basewell</td>\n",
       "      <td>https://basewell.com</td>\n",
       "      <td>Success</td>\n",
       "      <td>Success</td>\n",
       "      <td>Basewell[About](/about)[Blog](/blog)[Sign in](...</td>\n",
       "      <td>322761</td>\n",
       "      <td>3504</td>\n",
       "      <td>valid</td>\n",
       "    </tr>\n",
       "    <tr>\n",
       "      <th>4</th>\n",
       "      <td>Journey</td>\n",
       "      <td>http://journey.io</td>\n",
       "      <td>Success</td>\n",
       "      <td>Success</td>\n",
       "      <td>Journey – engage, close, and onboard customers...</td>\n",
       "      <td>218666</td>\n",
       "      <td>3466</td>\n",
       "      <td>valid</td>\n",
       "    </tr>\n",
       "  </tbody>\n",
       "</table>\n",
       "</div>"
      ],
      "text/plain": [
       "                            CompanyName  \\\n",
       "0                      Sawa Impact Labs   \n",
       "1  OpenMI at the University of Michigan   \n",
       "2                               Nifty's   \n",
       "3                              Basewell   \n",
       "4                               Journey   \n",
       "\n",
       "                                            Website scrape_status md_status  \\\n",
       "0                             https://sawa.gallery/       Success   Success   \n",
       "1  https://maizepages.umich.edu/organization/openmi       Success   Success   \n",
       "2                                 http://niftys.com       Success   Success   \n",
       "3                              https://basewell.com       Success   Success   \n",
       "4                                 http://journey.io       Success   Success   \n",
       "\n",
       "                                                  md  html_length  md_length  \\\n",
       "0  Squarespace \\- Website Expired\\n\\n\\n \\nWebsite...         6998        124   \n",
       "1  OpenMI \\- University of Michigan Maize Pages\\n...        39237        784   \n",
       "2  DNS points to prohibited IP \\| niftys.com \\| C...         5755        982   \n",
       "3  Basewell[About](/about)[Blog](/blog)[Sign in](...       322761       3504   \n",
       "4  Journey – engage, close, and onboard customers...       218666       3466   \n",
       "\n",
       "  valid_website  \n",
       "0         valid  \n",
       "1         valid  \n",
       "2         valid  \n",
       "3         valid  \n",
       "4         valid  "
      ]
     },
     "execution_count": 9,
     "metadata": {},
     "output_type": "execute_result"
    }
   ],
   "source": [
    "df.head()"
   ]
  },
  {
   "cell_type": "code",
   "execution_count": 10,
   "id": "93c2f34e",
   "metadata": {
    "hidden": true
   },
   "outputs": [],
   "source": [
    "sample = df.sample(100)"
   ]
  },
  {
   "cell_type": "code",
   "execution_count": 11,
   "id": "80719eff",
   "metadata": {
    "hidden": true
   },
   "outputs": [
    {
     "name": "stderr",
     "output_type": "stream",
     "text": [
      "100%|████████████████████████████████████████████████████████████████████████████████████████████████████████████████████████████████████████████████████████████████████████████████████████████████████████████████████████████████████| 100/100 [00:18<00:00,  5.35it/s]\n"
     ]
    }
   ],
   "source": [
    "results = await quickcases(jobs_status, sample.md.tolist())"
   ]
  },
  {
   "cell_type": "code",
   "execution_count": 14,
   "id": "890c0af6",
   "metadata": {
    "hidden": true
   },
   "outputs": [],
   "source": [
    "sample['result'] = results"
   ]
  },
  {
   "cell_type": "code",
   "execution_count": 15,
   "id": "de1cee8b",
   "metadata": {
    "hidden": true,
    "scrolled": true
   },
   "outputs": [
    {
     "data": {
      "text/plain": [
       "result\n",
       "No jobs           78\n",
       "Link to jobs      20\n",
       "Job open apply     2\n",
       "Name: count, dtype: int64"
      ]
     },
     "execution_count": 15,
     "metadata": {},
     "output_type": "execute_result"
    }
   ],
   "source": [
    "sample.result.value_counts()"
   ]
  },
  {
   "cell_type": "code",
   "execution_count": 23,
   "id": "656d1612",
   "metadata": {
    "hidden": true
   },
   "outputs": [],
   "source": [
    "links = sample[sample.result == 'Link to jobs']"
   ]
  },
  {
   "cell_type": "code",
   "execution_count": 25,
   "id": "d7ae04d4",
   "metadata": {
    "hidden": true
   },
   "outputs": [
    {
     "data": {
      "text/plain": [
       "JobsClassification(reasoning='The website contains a link to a jobs page, but does not list any specific job openings on the current page.', classification='Link to jobs', link='https://jobs.lightsource.ai')"
      ]
     },
     "execution_count": 25,
     "metadata": {},
     "output_type": "execute_result"
    }
   ],
   "source": [
    "await jobs_status(links.md.iloc[3])"
   ]
  },
  {
   "cell_type": "code",
   "execution_count": null,
   "id": "b7a43859",
   "metadata": {
    "hidden": true
   },
   "outputs": [],
   "source": [
    "sub = sample[sample.result == \"Link to jobs\"]"
   ]
  },
  {
   "cell_type": "markdown",
   "id": "2303664e",
   "metadata": {
    "heading_collapsed": true
   },
   "source": [
    "# Follow Links"
   ]
  },
  {
   "cell_type": "code",
   "execution_count": 82,
   "id": "12c1ab3c",
   "metadata": {
    "hidden": true
   },
   "outputs": [],
   "source": [
    "from jobsfinder.gpts import follow_links\n",
    "from tqdm import tqdm\n",
    "import os"
   ]
  },
  {
   "cell_type": "code",
   "execution_count": 98,
   "id": "78b24cb9",
   "metadata": {
    "hidden": true,
    "scrolled": true
   },
   "outputs": [
    {
     "name": "stdout",
     "output_type": "stream",
     "text": [
      "Starting next link https://notion.so\n",
      "Scraping page\n",
      "converting to md\n",
      "judging website status\n",
      "Status reasoning='The website contains a link to a careers page, but does not list any specific job openings on the current page.' classification='Link to jobs' link='https://www.notion.so/careers' titles=[]\n",
      "Starting next link https://www.notion.so/careers\n",
      "Scraping page\n",
      "converting to md\n",
      "judging website status\n",
      "Status reasoning='The website explicitly lists multiple job openings across various departments, including titles and locations, which qualifies it as a Job list.' classification='Job list' link='' titles=['Business Systems, Finance', 'Business Systems, Marketing Technology', 'Customer Experience Specialist - Korean', 'Enterprise Technical Support, EMEA', 'Head of Support, EMEA', 'Launch Operations Program Manager', 'Technical Quality Program Manager', 'Customer Success Manager, EMEA', 'Customer Success Manager, Japan', 'Mid-Market Customer Success Manager', 'Scaled Customer Success Manager', 'Scaled Customer Success Manager', 'AI Product Engineer', 'Business Intelligence Engineer, Marketing', 'Data Engineer, Finance', 'Data Engineer, Marketing & Sales', 'Engineering Manager', 'Engineering Manager, Web Presence', 'QA Engineer, Automation', 'Software Engineer, Android Platform', 'Software Engineer, Backend', 'Software Engineer, Calendar', 'Software Engineer, Core Product', 'Software Engineer, Core Product', 'Software Engineer, Data Platform', 'Software Engineer, Enterprise', 'Software Engineer, Growth', 'Software Engineer, Machine Learning', 'Software Engineer, Machine Learning', 'Software Engineer, Monetization Platform', 'Software Engineer, Product Security', 'Software Engineer, Search', 'Software Engineer, Trust', 'Tech-Lead Manager, Core Product', 'Accounts Payable Manager', 'Business Operations & Strategy Lead', 'Head of Corporate FP&A', 'Strategic Finance, GTM', 'Strategic Finance, Sales & Marketing (FP&A)', 'Counsel - Investigations and Litigation', 'B2B Growth Marketing Manager', 'Creative Lead, Web', 'Email Marketing Manager', 'France - Community Program Manager (Contractor)', 'Head of Enterprise Product Marketing', 'Lifecycle Marketing Manager', 'Marketing Manager, DACH', 'Marketing Manager, France', 'Performance Marketing Lead', 'Social Media Manager', 'Executive Operations (Executive Assistant) - EPD', 'Executive Operations (Executive Assistant) - GTM', 'Global Head of People Partners', 'Global Head of Total Rewards, People Operations, and Analytics', 'People Partner', 'People Partner, EPD', 'Workplace Experience Coordinator', 'Product Designer', 'Product Design Manager', 'UX Writer', 'Head of Product Operations', 'Product Manager, Calendar', 'Product Manager, Editor', 'Product Manager, Notion API', 'Global Head of Revenue Operations', 'Global Head of Sales Enablement', 'Account Executive, Commercial', 'Account Executive, Commercial', 'Account Executive, Commercial, DACH', 'Account Executive, Commercial, France', 'Account Executive, Commercial, UKIZA', 'Account Executive, Enterprise, Japan', 'Account Executive, Japan', 'Account Executive, Lead', 'Account Executive, Mid-Market', 'Account Executive, Mid-Market', 'Account Executive, Mid-Market, DACH', 'Account Executive, Mid-Market, France', 'Account Executive, Mid-Market, Northern Europe', 'Account Executive, Mid-Market, Southern Europe', 'Commercial Account Executive, Sydney', 'Enterprise Account Executive, Sydney', 'Outbound Business Development Representative - AMER', 'Partner Enablement Lead', 'Relationship Manager', 'Renewal Manager, Korea', 'Sales Development Representative, DACH', 'Sales Development Representative, France', 'Sales Development Representative, Korea', 'Sales Manager, Mid-Market, EMEA', 'Solutions Engineer', 'Solutions Engineer', 'Solutions Engineer, EMEA', 'Solutions Engineer, Sydney', 'Detection and Response Team Engineer', 'IT Operations Engineer, EMEA', 'Senior Principal GRC Analyst']\n"
     ]
    }
   ],
   "source": [
    "res = await follow_links(\"https://notion.so\", \"https://notion.so\", [])"
   ]
  },
  {
   "cell_type": "code",
   "execution_count": 99,
   "id": "5174e3ea",
   "metadata": {
    "hidden": true
   },
   "outputs": [
    {
     "data": {
      "text/plain": [
       "{'status': 'Job list',\n",
       " 'titles': ['Business Systems, Finance',\n",
       "  'Business Systems, Marketing Technology',\n",
       "  'Customer Experience Specialist - Korean',\n",
       "  'Enterprise Technical Support, EMEA',\n",
       "  'Head of Support, EMEA',\n",
       "  'Launch Operations Program Manager',\n",
       "  'Technical Quality Program Manager',\n",
       "  'Customer Success Manager, EMEA',\n",
       "  'Customer Success Manager, Japan',\n",
       "  'Mid-Market Customer Success Manager',\n",
       "  'Scaled Customer Success Manager',\n",
       "  'Scaled Customer Success Manager',\n",
       "  'AI Product Engineer',\n",
       "  'Business Intelligence Engineer, Marketing',\n",
       "  'Data Engineer, Finance',\n",
       "  'Data Engineer, Marketing & Sales',\n",
       "  'Engineering Manager',\n",
       "  'Engineering Manager, Web Presence',\n",
       "  'QA Engineer, Automation',\n",
       "  'Software Engineer, Android Platform',\n",
       "  'Software Engineer, Backend',\n",
       "  'Software Engineer, Calendar',\n",
       "  'Software Engineer, Core Product',\n",
       "  'Software Engineer, Core Product',\n",
       "  'Software Engineer, Data Platform',\n",
       "  'Software Engineer, Enterprise',\n",
       "  'Software Engineer, Growth',\n",
       "  'Software Engineer, Machine Learning',\n",
       "  'Software Engineer, Machine Learning',\n",
       "  'Software Engineer, Monetization Platform',\n",
       "  'Software Engineer, Product Security',\n",
       "  'Software Engineer, Search',\n",
       "  'Software Engineer, Trust',\n",
       "  'Tech-Lead Manager, Core Product',\n",
       "  'Accounts Payable Manager',\n",
       "  'Business Operations & Strategy Lead',\n",
       "  'Head of Corporate FP&A',\n",
       "  'Strategic Finance, GTM',\n",
       "  'Strategic Finance, Sales & Marketing (FP&A)',\n",
       "  'Counsel - Investigations and Litigation',\n",
       "  'B2B Growth Marketing Manager',\n",
       "  'Creative Lead, Web',\n",
       "  'Email Marketing Manager',\n",
       "  'France - Community Program Manager (Contractor)',\n",
       "  'Head of Enterprise Product Marketing',\n",
       "  'Lifecycle Marketing Manager',\n",
       "  'Marketing Manager, DACH',\n",
       "  'Marketing Manager, France',\n",
       "  'Performance Marketing Lead',\n",
       "  'Social Media Manager',\n",
       "  'Executive Operations (Executive Assistant) - EPD',\n",
       "  'Executive Operations (Executive Assistant) - GTM',\n",
       "  'Global Head of People Partners',\n",
       "  'Global Head of Total Rewards, People Operations, and Analytics',\n",
       "  'People Partner',\n",
       "  'People Partner, EPD',\n",
       "  'Workplace Experience Coordinator',\n",
       "  'Product Designer',\n",
       "  'Product Design Manager',\n",
       "  'UX Writer',\n",
       "  'Head of Product Operations',\n",
       "  'Product Manager, Calendar',\n",
       "  'Product Manager, Editor',\n",
       "  'Product Manager, Notion API',\n",
       "  'Global Head of Revenue Operations',\n",
       "  'Global Head of Sales Enablement',\n",
       "  'Account Executive, Commercial',\n",
       "  'Account Executive, Commercial',\n",
       "  'Account Executive, Commercial, DACH',\n",
       "  'Account Executive, Commercial, France',\n",
       "  'Account Executive, Commercial, UKIZA',\n",
       "  'Account Executive, Enterprise, Japan',\n",
       "  'Account Executive, Japan',\n",
       "  'Account Executive, Lead',\n",
       "  'Account Executive, Mid-Market',\n",
       "  'Account Executive, Mid-Market',\n",
       "  'Account Executive, Mid-Market, DACH',\n",
       "  'Account Executive, Mid-Market, France',\n",
       "  'Account Executive, Mid-Market, Northern Europe',\n",
       "  'Account Executive, Mid-Market, Southern Europe',\n",
       "  'Commercial Account Executive, Sydney',\n",
       "  'Enterprise Account Executive, Sydney',\n",
       "  'Outbound Business Development Representative - AMER',\n",
       "  'Partner Enablement Lead',\n",
       "  'Relationship Manager',\n",
       "  'Renewal Manager, Korea',\n",
       "  'Sales Development Representative, DACH',\n",
       "  'Sales Development Representative, France',\n",
       "  'Sales Development Representative, Korea',\n",
       "  'Sales Manager, Mid-Market, EMEA',\n",
       "  'Solutions Engineer',\n",
       "  'Solutions Engineer',\n",
       "  'Solutions Engineer, EMEA',\n",
       "  'Solutions Engineer, Sydney',\n",
       "  'Detection and Response Team Engineer',\n",
       "  'IT Operations Engineer, EMEA',\n",
       "  'Senior Principal GRC Analyst'],\n",
       " 'history': ['https://www.notion.so/careers']}"
      ]
     },
     "execution_count": 99,
     "metadata": {},
     "output_type": "execute_result"
    }
   ],
   "source": [
    "res"
   ]
  },
  {
   "cell_type": "code",
   "execution_count": null,
   "id": "a8b668d1",
   "metadata": {
    "hidden": true
   },
   "outputs": [],
   "source": []
  },
  {
   "cell_type": "code",
   "execution_count": null,
   "id": "70f0a9c7",
   "metadata": {
    "hidden": true
   },
   "outputs": [],
   "source": []
  },
  {
   "cell_type": "code",
   "execution_count": 85,
   "id": "4b6ff1ba",
   "metadata": {
    "hidden": true
   },
   "outputs": [],
   "source": [
    "async def follow_from_url(url):\n",
    "    return await follow_links(url, url, [])"
   ]
  },
  {
   "cell_type": "code",
   "execution_count": 80,
   "id": "ddb0619e",
   "metadata": {
    "hidden": true
   },
   "outputs": [
    {
     "data": {
      "text/plain": [
       "['http://www.unstructured.io/',\n",
       " 'https://www.tripletsoft.com',\n",
       " 'https://www.tigereye.com/',\n",
       " 'http://www.lightsource.ai',\n",
       " 'https://www.moonehq.com',\n",
       " 'https://tooljet.com',\n",
       " 'https://znest.com/',\n",
       " 'http://www.elemeno.dev',\n",
       " 'https://getmaestro.ai',\n",
       " 'https://www.getkinn.com',\n",
       " 'https://govalo.com',\n",
       " 'https://productpair.co',\n",
       " 'http://seymoregrp.com',\n",
       " 'https://www.sonartalent.com/',\n",
       " 'https://aviator.co',\n",
       " 'https://www.firmstudio.io/',\n",
       " 'https://ryzlabs.com/',\n",
       " 'https://blockjoy.com',\n",
       " 'http://www.dtmrecruiting.com',\n",
       " 'https://virtualproducer.io']"
      ]
     },
     "execution_count": 80,
     "metadata": {},
     "output_type": "execute_result"
    }
   ],
   "source": [
    "sub.Website.tolist()"
   ]
  },
  {
   "cell_type": "code",
   "execution_count": 88,
   "id": "42c15a4d",
   "metadata": {
    "hidden": true
   },
   "outputs": [
    {
     "name": "stdout",
     "output_type": "stream",
     "text": [
      "Starting next link https://www.tripletsoft.com\n",
      "Scraping page\n",
      "converting to md\n",
      "judging website status\n",
      "Status reasoning=\"The website includes a 'Careers' section in the navigation, indicating a link to potential job opportunities, but does not list any specific jobs or mention current openings.\" classification='Link to jobs' link='/about-us/careers' titles=[]\n",
      "Starting next link https://www.tripletsoft.com/about-us/careers\n",
      "Scraping page\n",
      "converting to md\n",
      "judging website status\n",
      "Status reasoning=\"The website explicitly lists multiple job openings with titles such as 'React.js Developer', 'QA Engineer', 'React Native Developer', and 'Java Spring Boot Developer'.\" classification='Job list' link='' titles=['React.js Developer', 'QA Engineer', 'React Native Developer', 'Java Spring Boot Developer']\n"
     ]
    },
    {
     "data": {
      "text/plain": [
       "{'status': 'Job list',\n",
       " 'titles': ['React.js Developer',\n",
       "  'QA Engineer',\n",
       "  'React Native Developer',\n",
       "  'Java Spring Boot Developer'],\n",
       " 'history': ['/about-us/careers']}"
      ]
     },
     "execution_count": 88,
     "metadata": {},
     "output_type": "execute_result"
    }
   ],
   "source": [
    "await follow_from_url('https://www.tripletsoft.com')"
   ]
  },
  {
   "cell_type": "code",
   "execution_count": 92,
   "id": "c6df07ba",
   "metadata": {
    "hidden": true
   },
   "outputs": [],
   "source": [
    "df = pd.read_csv(\"../data/03_valid_website.csv\")"
   ]
  },
  {
   "cell_type": "code",
   "execution_count": 93,
   "id": "3b5967b1",
   "metadata": {
    "hidden": true
   },
   "outputs": [
    {
     "data": {
      "text/plain": [
       "2000"
      ]
     },
     "execution_count": 93,
     "metadata": {},
     "output_type": "execute_result"
    }
   ],
   "source": [
    "len(df)"
   ]
  },
  {
   "cell_type": "code",
   "execution_count": 94,
   "id": "f917aa38",
   "metadata": {
    "hidden": true
   },
   "outputs": [
    {
     "data": {
      "text/html": [
       "<div>\n",
       "<style scoped>\n",
       "    .dataframe tbody tr th:only-of-type {\n",
       "        vertical-align: middle;\n",
       "    }\n",
       "\n",
       "    .dataframe tbody tr th {\n",
       "        vertical-align: top;\n",
       "    }\n",
       "\n",
       "    .dataframe thead th {\n",
       "        text-align: right;\n",
       "    }\n",
       "</style>\n",
       "<table border=\"1\" class=\"dataframe\">\n",
       "  <thead>\n",
       "    <tr style=\"text-align: right;\">\n",
       "      <th></th>\n",
       "      <th>CompanyName</th>\n",
       "      <th>Website</th>\n",
       "      <th>scrape_status</th>\n",
       "      <th>md_status</th>\n",
       "      <th>md</th>\n",
       "      <th>html_length</th>\n",
       "      <th>md_length</th>\n",
       "      <th>valid_website</th>\n",
       "    </tr>\n",
       "  </thead>\n",
       "  <tbody>\n",
       "    <tr>\n",
       "      <th>0</th>\n",
       "      <td>Sawa Impact Labs</td>\n",
       "      <td>https://sawa.gallery/</td>\n",
       "      <td>Success</td>\n",
       "      <td>Success</td>\n",
       "      <td>Squarespace \\- Website Expired\\n\\n\\n \\nWebsite...</td>\n",
       "      <td>6998</td>\n",
       "      <td>124</td>\n",
       "      <td>valid</td>\n",
       "    </tr>\n",
       "    <tr>\n",
       "      <th>1</th>\n",
       "      <td>OpenMI at the University of Michigan</td>\n",
       "      <td>https://maizepages.umich.edu/organization/openmi</td>\n",
       "      <td>Success</td>\n",
       "      <td>Success</td>\n",
       "      <td>OpenMI \\- University of Michigan Maize Pages\\n...</td>\n",
       "      <td>39237</td>\n",
       "      <td>784</td>\n",
       "      <td>valid</td>\n",
       "    </tr>\n",
       "  </tbody>\n",
       "</table>\n",
       "</div>"
      ],
      "text/plain": [
       "                            CompanyName  \\\n",
       "0                      Sawa Impact Labs   \n",
       "1  OpenMI at the University of Michigan   \n",
       "\n",
       "                                            Website scrape_status md_status  \\\n",
       "0                             https://sawa.gallery/       Success   Success   \n",
       "1  https://maizepages.umich.edu/organization/openmi       Success   Success   \n",
       "\n",
       "                                                  md  html_length  md_length  \\\n",
       "0  Squarespace \\- Website Expired\\n\\n\\n \\nWebsite...         6998        124   \n",
       "1  OpenMI \\- University of Michigan Maize Pages\\n...        39237        784   \n",
       "\n",
       "  valid_website  \n",
       "0         valid  \n",
       "1         valid  "
      ]
     },
     "execution_count": 94,
     "metadata": {},
     "output_type": "execute_result"
    }
   ],
   "source": [
    "df.head(2)"
   ]
  },
  {
   "cell_type": "code",
   "execution_count": 95,
   "id": "a5408733",
   "metadata": {
    "hidden": true
   },
   "outputs": [
    {
     "data": {
      "text/plain": [
       "0         valid\n",
       "1         valid\n",
       "2         valid\n",
       "3         valid\n",
       "4         valid\n",
       "         ...   \n",
       "1995      valid\n",
       "1996      valid\n",
       "1997      valid\n",
       "1998      valid\n",
       "1999    invalid\n",
       "Name: valid_website, Length: 2000, dtype: object"
      ]
     },
     "execution_count": 95,
     "metadata": {},
     "output_type": "execute_result"
    }
   ],
   "source": [
    "df.valid_website"
   ]
  },
  {
   "cell_type": "code",
   "execution_count": null,
   "id": "ebbde918",
   "metadata": {
    "hidden": true
   },
   "outputs": [],
   "source": []
  },
  {
   "cell_type": "code",
   "execution_count": null,
   "id": "7ea2bf0a",
   "metadata": {
    "hidden": true
   },
   "outputs": [],
   "source": []
  },
  {
   "cell_type": "code",
   "execution_count": null,
   "id": "8f783792",
   "metadata": {
    "hidden": true
   },
   "outputs": [],
   "source": []
  },
  {
   "cell_type": "code",
   "execution_count": null,
   "id": "8ec97c8b",
   "metadata": {
    "hidden": true
   },
   "outputs": [],
   "source": []
  },
  {
   "cell_type": "code",
   "execution_count": null,
   "id": "324d9107",
   "metadata": {
    "hidden": true
   },
   "outputs": [],
   "source": []
  },
  {
   "cell_type": "code",
   "execution_count": 51,
   "id": "7068e15a",
   "metadata": {
    "hidden": true
   },
   "outputs": [],
   "source": [
    "tasks = [follow_from_url(url) for url in sub.Website]"
   ]
  },
  {
   "cell_type": "code",
   "execution_count": 52,
   "id": "dd5c797e",
   "metadata": {
    "hidden": true
   },
   "outputs": [
    {
     "name": "stderr",
     "output_type": "stream",
     "text": [
      "\r",
      "  0%|                                                                                                                                                                                                                                               | 0/20 [00:00<?, ?it/s]"
     ]
    },
    {
     "name": "stdout",
     "output_type": "stream",
     "text": [
      "Starting next link https://ryzlabs.com/\n",
      "Starting next link https://aviator.co\n",
      "Starting next link https://www.getkinn.com\n",
      "Starting next link https://www.firmstudio.io/\n",
      "Starting next link http://www.unstructured.io/\n",
      "Status reasoning=\"The website provides a link to apply for roles, but does not list any specific job openings. Therefore, it falls under the category of 'Link to jobs.'\" classification='Link to jobs' link='https://jobs.lever.co/RyzLabs'\n",
      "Starting next link https://jobs.lever.co/RyzLabs\n",
      "Status reasoning=\"The website includes a 'Careers' link in the Company section, indicating there may be job opportunities available, but does not list any specific jobs on the page itself.\" classification='Link to jobs' link='https://www.firmstudio.io/careers'\n",
      "Starting next link https://www.firmstudio.io/careers\n",
      "Status reasoning='The website contains a link to a careers page where jobs may be listed, but does not provide any specific job listings on the page itself.' classification='Link to jobs' link='https://jobs.polymer.co/kinn'\n",
      "Starting next link https://jobs.polymer.co/kinn\n",
      "Status reasoning='The website contains a link to a careers page where jobs may be listed, but does not provide any specific job listings on the current page.' classification='Link to jobs' link='https://www.ycombinator.com/companies/aviator/jobs'\n",
      "Starting next link https://www.ycombinator.com/companies/aviator/jobs\n"
     ]
    },
    {
     "name": "stderr",
     "output_type": "stream",
     "text": [
      "\r",
      "  5%|███████████▌                                                                                                                                                                                                                           | 1/20 [00:09<03:05,  9.75s/it]"
     ]
    },
    {
     "name": "stdout",
     "output_type": "stream",
     "text": [
      "Status reasoning=\"The website explicitly lists multiple job openings, including titles such as 'Dev Leader', 'Ruby on Rails Developer', and 'Software Engineer'.\" classification='Job list' link=''\n",
      "Starting next link http://seymoregrp.com\n",
      "Status reasoning=\"The website has a 'Careers' link in the navigation, indicating a section for job opportunities, but does not list any specific jobs or mention current openings.\" classification='Link to jobs' link='./careers'\n",
      "Starting next link ./careers\n"
     ]
    },
    {
     "name": "stderr",
     "output_type": "stream",
     "text": [
      " 15%|██████████████████████████████████▋                                                                                                                                                                                                    | 3/20 [00:11<00:46,  2.71s/it]"
     ]
    },
    {
     "name": "stdout",
     "output_type": "stream",
     "text": [
      "Status reasoning='The website explicitly lists multiple job openings with titles and links to apply for them.' classification='Job list' link=''\n",
      "Starting next link https://www.tigereye.com/\n",
      "Status reasoning='The website states that there are no active job posts right now, and while it encourages users to subscribe for updates, it does not list any current jobs.' classification='No jobs' link=None\n",
      "Starting next link https://govalo.com\n",
      "Page.goto: Protocol error (Page.navigate): Cannot navigate to invalid URL\n",
      "Call log:\n",
      "navigating to \"./careers\", waiting until \"load\"\n",
      "\n",
      "Status reasoning=\"The website contains a link to a page where open positions can be viewed, specifically stating 'Click to see Open Positions'.\" classification='Link to jobs' link='https://seymoregrp.bamboohr.com/careers'\n",
      "Starting next link https://seymoregrp.bamboohr.com/careers\n",
      "Error code: 400 - {'error': {'message': \"Invalid value for 'content': expected a string, got null.\", 'type': 'invalid_request_error', 'param': 'messages.[1].content', 'code': None}}\n",
      "Status reasoning=\"The website has a 'Careers' link in the footer, indicating a potential job page, but does not list any specific job openings or mention current hiring status.\" classification='Link to jobs' link='https://govalo.com/pages/careers'\n",
      "Starting next link https://govalo.com/pages/careers\n"
     ]
    },
    {
     "name": "stderr",
     "output_type": "stream",
     "text": [
      "\r",
      " 20%|██████████████████████████████████████████████▏                                                                                                                                                                                        | 4/20 [00:16<01:00,  3.75s/it]"
     ]
    },
    {
     "name": "stdout",
     "output_type": "stream",
     "text": [
      "Status reasoning='The website explicitly lists multiple job openings with titles and links to apply, which qualifies it as a Job list.' classification='Job list' link=''\n",
      "Starting next link http://www.elemeno.dev\n",
      "Status reasoning=\"The website contains a link to a job openings page, which is explicitly mentioned as 'See Current Openings'.\" classification='Link to jobs' link='https://jobs.ashbyhq.com/TigerEye'\n",
      "Starting next link https://jobs.ashbyhq.com/TigerEye\n"
     ]
    },
    {
     "name": "stderr",
     "output_type": "stream",
     "text": [
      "\r",
      " 25%|█████████████████████████████████████████████████████████▊                                                                                                                                                                             | 5/20 [00:19<00:52,  3.51s/it]"
     ]
    },
    {
     "name": "stdout",
     "output_type": "stream",
     "text": [
      "Status reasoning=\"The website has a 'Careers' section but does not provide any specific job listings or mention current job openings, indicating that it is currently empty.\" classification='No jobs' link=''\n",
      "Starting next link http://www.lightsource.ai\n"
     ]
    },
    {
     "name": "stderr",
     "output_type": "stream",
     "text": [
      " 35%|████████████████████████████████████████████████████████████████████████████████▊                                                                                                                                                      | 7/20 [00:20<00:22,  1.71s/it]"
     ]
    },
    {
     "name": "stdout",
     "output_type": "stream",
     "text": [
      "Status reasoning='The website explicitly lists multiple job openings with titles and links to apply for them.' classification='Job list' link=''\n",
      "Starting next link https://blockjoy.com\n",
      "Status reasoning=\"The website has a 'Careers' section but does not list any specific job openings or roles, indicating that they are currently not hiring.\" classification='Job open apply' link=''\n",
      "Starting next link https://getmaestro.ai\n"
     ]
    },
    {
     "name": "stderr",
     "output_type": "stream",
     "text": [
      "\r",
      " 40%|████████████████████████████████████████████████████████████████████████████████████████████▍                                                                                                                                          | 8/20 [00:20<00:15,  1.27s/it]"
     ]
    },
    {
     "name": "stdout",
     "output_type": "stream",
     "text": [
      "Status reasoning='The website explicitly lists an open position for a Backend Engineer, which qualifies it as a job list.' classification='Job list' link=''\n",
      "Starting next link https://www.moonehq.com\n",
      "Status reasoning='The website contains a link to a jobs page, which is indicated in the navigation menu.' classification='Link to jobs' link='https://jobs.lightsource.ai'\n",
      "Starting next link https://jobs.lightsource.ai\n",
      "Status reasoning=\"The website has a 'Jobs' section in the navigation, but does not provide any specific job listings or mention current job openings, indicating that it likely leads to a separate jobs page.\" classification='Link to jobs' link='/jobs'\n",
      "Starting next link /jobs\n",
      "Status reasoning='The website contains a link to a careers page where current job openings can be viewed.' classification='Link to jobs' link='https://maestroai.notion.site/Maestro-AI-Careers-51385f9fca964b618decab6193a25a74?pvs=74'\n",
      "Starting next link https://maestroai.notion.site/Maestro-AI-Careers-51385f9fca964b618decab6193a25a74?pvs=74\n",
      "Page.goto: Protocol error (Page.navigate): Cannot navigate to invalid URL\n",
      "Call log:\n",
      "navigating to \"/jobs\", waiting until \"load\"\n",
      "\n",
      "Error code: 400 - {'error': {'message': \"Invalid value for 'content': expected a string, got null.\", 'type': 'invalid_request_error', 'param': 'messages.[1].content', 'code': None}}\n",
      "Status reasoning='The website contains a link to view job openings, indicating that there are jobs available.' classification='Link to jobs' link='/jobs'\n",
      "Starting next link /jobs\n",
      "Page.goto: Protocol error (Page.navigate): Cannot navigate to invalid URL\n",
      "Call log:\n",
      "navigating to \"/jobs\", waiting until \"load\"\n",
      "\n",
      "Error code: 400 - {'error': {'message': \"Invalid value for 'content': expected a string, got null.\", 'type': 'invalid_request_error', 'param': 'messages.[1].content', 'code': None}}\n"
     ]
    },
    {
     "name": "stderr",
     "output_type": "stream",
     "text": [
      "\r",
      " 45%|███████████████████████████████████████████████████████████████████████████████████████████████████████▉                                                                                                                               | 9/20 [00:29<00:39,  3.56s/it]"
     ]
    },
    {
     "name": "stdout",
     "output_type": "stream",
     "text": [
      "Status reasoning='The website does not mention any jobs, career opportunities, or links to job listings.' classification='No jobs' link=None\n",
      "Starting next link http://www.dtmrecruiting.com\n"
     ]
    },
    {
     "name": "stderr",
     "output_type": "stream",
     "text": [
      "\r",
      " 50%|███████████████████████████████████████████████████████████████████████████████████████████████████████████████████                                                                                                                   | 10/20 [00:29<00:26,  2.65s/it]"
     ]
    },
    {
     "name": "stdout",
     "output_type": "stream",
     "text": [
      "Status reasoning=\"The website has a section labeled 'Jobs', but it does not provide any specific job listings or mention current openings, indicating that it is currently not hiring.\" classification='No jobs' link=None\n",
      "Starting next link https://www.tripletsoft.com\n",
      "Status reasoning=\"The website includes a 'Careers' link in the navigation, indicating that there may be job opportunities available, but does not list any specific jobs or mention current openings.\" classification='Link to jobs' link='/about-us/careers'\n",
      "Starting next link /about-us/careers\n",
      "Page.goto: Protocol error (Page.navigate): Cannot navigate to invalid URL\n",
      "Call log:\n",
      "navigating to \"/about-us/careers\", waiting until \"load\"\n",
      "\n",
      "Error code: 400 - {'error': {'message': \"Invalid value for 'content': expected a string, got null.\", 'type': 'invalid_request_error', 'param': 'messages.[1].content', 'code': None}}\n",
      "Error code: 400 - {'error': {'message': \"Invalid value for 'content': expected a string, got null.\", 'type': 'invalid_request_error', 'param': 'messages.[1].content', 'code': None}}\n",
      "Status reasoning=\"The website has a section titled 'Job Openings' which suggests that it lists jobs, but there is no indication of any specific jobs being listed or available at this time.\" classification='Link to jobs' link='https://www.dtmrecruiting.com/job-openings/'\n",
      "Starting next link https://www.dtmrecruiting.com/job-openings/\n",
      "Error code: 400 - {'error': {'message': \"Invalid value for 'content': expected a string, got null.\", 'type': 'invalid_request_error', 'param': 'messages.[1].content', 'code': None}}\n"
     ]
    },
    {
     "name": "stderr",
     "output_type": "stream",
     "text": [
      "\r",
      " 55%|██████████████████████████████████████████████████████████████████████████████████████████████████████████████████████████████▌                                                                                                       | 11/20 [00:47<01:05,  7.33s/it]"
     ]
    },
    {
     "name": "stdout",
     "output_type": "stream",
     "text": [
      "Status reasoning='The website mentions current job openings and encourages users to provide their background for specific roles, indicating that there are actual jobs listed.' classification='Job list' link='https://www.dtmrecruiting.com/job-openings/'\n",
      "Starting next link https://www.sonartalent.com/\n",
      "Error code: 400 - {'error': {'message': \"Invalid value for 'content': expected a string, got null.\", 'type': 'invalid_request_error', 'param': 'messages.[1].content', 'code': None}}\n",
      "Status reasoning='The website contains a link to a job postings page, which suggests that jobs are available, even if they are not listed directly on the page provided.' classification='Link to jobs' link='/job_postings/'\n",
      "Starting next link /job_postings/\n",
      "Page.goto: Protocol error (Page.navigate): Cannot navigate to invalid URL\n",
      "Call log:\n",
      "navigating to \"/job_postings/\", waiting until \"load\"\n",
      "\n",
      "Error code: 400 - {'error': {'message': \"Invalid value for 'content': expected a string, got null.\", 'type': 'invalid_request_error', 'param': 'messages.[1].content', 'code': None}}\n",
      "Error code: 400 - {'error': {'message': \"Invalid value for 'content': expected a string, got null.\", 'type': 'invalid_request_error', 'param': 'messages.[1].content', 'code': None}}\n",
      "Error code: 400 - {'error': {'message': \"Invalid value for 'content': expected a string, got null.\", 'type': 'invalid_request_error', 'param': 'messages.[1].content', 'code': None}}\n",
      "Error code: 400 - {'error': {'message': \"Invalid value for 'content': expected a string, got null.\", 'type': 'invalid_request_error', 'param': 'messages.[1].content', 'code': None}}\n",
      "Error code: 400 - {'error': {'message': \"Invalid value for 'content': expected a string, got null.\", 'type': 'invalid_request_error', 'param': 'messages.[1].content', 'code': None}}\n",
      "Error code: 400 - {'error': {'message': \"Invalid value for 'content': expected a string, got null.\", 'type': 'invalid_request_error', 'param': 'messages.[1].content', 'code': None}}\n",
      "Error code: 400 - {'error': {'message': \"Invalid value for 'content': expected a string, got null.\", 'type': 'invalid_request_error', 'param': 'messages.[1].content', 'code': None}}\n",
      "Error code: 400 - {'error': {'message': \"Invalid value for 'content': expected a string, got null.\", 'type': 'invalid_request_error', 'param': 'messages.[1].content', 'code': None}}\n",
      "Error code: 400 - {'error': {'message': \"Invalid value for 'content': expected a string, got null.\", 'type': 'invalid_request_error', 'param': 'messages.[1].content', 'code': None}}\n",
      "Error code: 400 - {'error': {'message': \"Invalid value for 'content': expected a string, got null.\", 'type': 'invalid_request_error', 'param': 'messages.[1].content', 'code': None}}\n",
      "Error code: 400 - {'error': {'message': \"Invalid value for 'content': expected a string, got null.\", 'type': 'invalid_request_error', 'param': 'messages.[1].content', 'code': None}}\n",
      "Error code: 400 - {'error': {'message': \"Invalid value for 'content': expected a string, got null.\", 'type': 'invalid_request_error', 'param': 'messages.[1].content', 'code': None}}\n",
      "Error code: 400 - {'error': {'message': \"Invalid value for 'content': expected a string, got null.\", 'type': 'invalid_request_error', 'param': 'messages.[1].content', 'code': None}}\n"
     ]
    },
    {
     "name": "stderr",
     "output_type": "stream",
     "text": [
      " 55%|██████████████████████████████████████████████████████████████████████████████████████████████████████████████████████████████▌                                                                                                       | 11/20 [01:36<01:18,  8.73s/it]\n"
     ]
    },
    {
     "ename": "CancelledError",
     "evalue": "",
     "output_type": "error",
     "traceback": [
      "\u001b[0;31m---------------------------------------------------------------------------\u001b[0m",
      "\u001b[0;31mCancelledError\u001b[0m                            Traceback (most recent call last)",
      "Cell \u001b[0;32mIn[52], line 1\u001b[0m\n\u001b[0;32m----> 1\u001b[0m results \u001b[38;5;241m=\u001b[39m \u001b[38;5;28;01mawait\u001b[39;00m limit_parallel(tasks)\n",
      "File \u001b[0;32m~/projects/usergems-test/jobsfinder/core.py:56\u001b[0m, in \u001b[0;36mlimit_parallel\u001b[0;34m(tasks, n)\u001b[0m\n\u001b[1;32m     53\u001b[0m wrapped_tasks \u001b[38;5;241m=\u001b[39m [sem_task(task) \u001b[38;5;28;01mfor\u001b[39;00m task \u001b[38;5;129;01min\u001b[39;00m tasks]\n\u001b[1;32m     55\u001b[0m \u001b[38;5;66;03m# Run all tasks concurrently\u001b[39;00m\n\u001b[0;32m---> 56\u001b[0m \u001b[38;5;28;01mreturn\u001b[39;00m \u001b[38;5;28;01mawait\u001b[39;00m tqdm\u001b[38;5;241m.\u001b[39masyncio\u001b[38;5;241m.\u001b[39mtqdm\u001b[38;5;241m.\u001b[39mgather(\u001b[38;5;241m*\u001b[39mwrapped_tasks)\n",
      "File \u001b[0;32m~/projects/usergems-test/venv/lib/python3.12/site-packages/tqdm/asyncio.py:79\u001b[0m, in \u001b[0;36mtqdm_asyncio.gather\u001b[0;34m(cls, loop, timeout, total, *fs, **tqdm_kwargs)\u001b[0m\n\u001b[1;32m     76\u001b[0m     \u001b[38;5;28;01mreturn\u001b[39;00m i, \u001b[38;5;28;01mawait\u001b[39;00m f\n\u001b[1;32m     78\u001b[0m ifs \u001b[38;5;241m=\u001b[39m [wrap_awaitable(i, f) \u001b[38;5;28;01mfor\u001b[39;00m i, f \u001b[38;5;129;01min\u001b[39;00m \u001b[38;5;28menumerate\u001b[39m(fs)]\n\u001b[0;32m---> 79\u001b[0m res \u001b[38;5;241m=\u001b[39m [\u001b[38;5;28;01mawait\u001b[39;00m f \u001b[38;5;28;01mfor\u001b[39;00m f \u001b[38;5;129;01min\u001b[39;00m \u001b[38;5;28mcls\u001b[39m\u001b[38;5;241m.\u001b[39mas_completed(ifs, loop\u001b[38;5;241m=\u001b[39mloop, timeout\u001b[38;5;241m=\u001b[39mtimeout,\n\u001b[1;32m     80\u001b[0m                                          total\u001b[38;5;241m=\u001b[39mtotal, \u001b[38;5;241m*\u001b[39m\u001b[38;5;241m*\u001b[39mtqdm_kwargs)]\n\u001b[1;32m     81\u001b[0m \u001b[38;5;28;01mreturn\u001b[39;00m [i \u001b[38;5;28;01mfor\u001b[39;00m _, i \u001b[38;5;129;01min\u001b[39;00m \u001b[38;5;28msorted\u001b[39m(res)]\n",
      "File \u001b[0;32m~/miniconda3/envs/all/lib/python3.12/asyncio/tasks.py:627\u001b[0m, in \u001b[0;36mas_completed.<locals>._wait_for_one\u001b[0;34m()\u001b[0m\n\u001b[1;32m    626\u001b[0m \u001b[38;5;28;01masync\u001b[39;00m \u001b[38;5;28;01mdef\u001b[39;00m \u001b[38;5;21m_wait_for_one\u001b[39m():\n\u001b[0;32m--> 627\u001b[0m     f \u001b[38;5;241m=\u001b[39m \u001b[38;5;28;01mawait\u001b[39;00m done\u001b[38;5;241m.\u001b[39mget()\n\u001b[1;32m    628\u001b[0m     \u001b[38;5;28;01mif\u001b[39;00m f \u001b[38;5;129;01mis\u001b[39;00m \u001b[38;5;28;01mNone\u001b[39;00m:\n\u001b[1;32m    629\u001b[0m         \u001b[38;5;66;03m# Dummy value from _on_timeout().\u001b[39;00m\n\u001b[1;32m    630\u001b[0m         \u001b[38;5;28;01mraise\u001b[39;00m exceptions\u001b[38;5;241m.\u001b[39mTimeoutError\n",
      "File \u001b[0;32m~/miniconda3/envs/all/lib/python3.12/asyncio/queues.py:158\u001b[0m, in \u001b[0;36mQueue.get\u001b[0;34m(self)\u001b[0m\n\u001b[1;32m    156\u001b[0m \u001b[38;5;28mself\u001b[39m\u001b[38;5;241m.\u001b[39m_getters\u001b[38;5;241m.\u001b[39mappend(getter)\n\u001b[1;32m    157\u001b[0m \u001b[38;5;28;01mtry\u001b[39;00m:\n\u001b[0;32m--> 158\u001b[0m     \u001b[38;5;28;01mawait\u001b[39;00m getter\n\u001b[1;32m    159\u001b[0m \u001b[38;5;28;01mexcept\u001b[39;00m:\n\u001b[1;32m    160\u001b[0m     getter\u001b[38;5;241m.\u001b[39mcancel()  \u001b[38;5;66;03m# Just in case getter is not done yet.\u001b[39;00m\n",
      "\u001b[0;31mCancelledError\u001b[0m: "
     ]
    },
    {
     "name": "stdout",
     "output_type": "stream",
     "text": [
      "Error code: 400 - {'error': {'message': \"Invalid value for 'content': expected a string, got null.\", 'type': 'invalid_request_error', 'param': 'messages.[1].content', 'code': None}}\n",
      "Error code: 400 - {'error': {'message': \"Invalid value for 'content': expected a string, got null.\", 'type': 'invalid_request_error', 'param': 'messages.[1].content', 'code': None}}\n",
      "Error code: 400 - {'error': {'message': \"Invalid value for 'content': expected a string, got null.\", 'type': 'invalid_request_error', 'param': 'messages.[1].content', 'code': None}}\n",
      "5 iterations did not succeed!\n",
      "Starting next link https://znest.com/\n",
      "Error code: 400 - {'error': {'message': \"Invalid value for 'content': expected a string, got null.\", 'type': 'invalid_request_error', 'param': 'messages.[1].content', 'code': None}}\n",
      "Status reasoning='The website mentions helping jobseekers and employers and has a dedicated jobs section, but it does not list any specific job openings at this time.' classification='Link to jobs' link='/jobs'\n",
      "Starting next link /jobs\n",
      "Page.goto: Protocol error (Page.navigate): Cannot navigate to invalid URL\n",
      "Call log:\n",
      "navigating to \"/jobs\", waiting until \"load\"\n",
      "\n",
      "Error code: 400 - {'error': {'message': \"Invalid value for 'content': expected a string, got null.\", 'type': 'invalid_request_error', 'param': 'messages.[1].content', 'code': None}}\n",
      "5 iterations did not succeed!\n",
      "Starting next link https://virtualproducer.io\n",
      "5 iterations did not succeed!\n",
      "Starting next link https://productpair.co\n",
      "Status reasoning='The website contains a link to a jobs page, but does not list any specific job openings on the current page.' classification='Link to jobs' link='https://virtualproducer.io/jobs/'\n",
      "Starting next link https://virtualproducer.io/jobs/\n",
      "Error code: 400 - {'error': {'message': \"Invalid value for 'content': expected a string, got null.\", 'type': 'invalid_request_error', 'param': 'messages.[1].content', 'code': None}}\n",
      "5 iterations did not succeed!\n",
      "Starting next link https://tooljet.com\n",
      "Status reasoning='The website includes a link to a careers page, but does not list any specific job openings or mention current roles.' classification='Link to jobs' link='https://productpair.com/careers'\n",
      "Starting next link https://productpair.com/careers\n",
      "Status reasoning='The website explicitly lists multiple job openings with titles and links to apply, indicating it is a job listing site.' classification='Job list' link=''\n",
      "Status reasoning='The website contains a link to a careers page where job opportunities can be found, but does not list any specific jobs on the page itself.' classification='Link to jobs' link='https://wellfound.com/company/tooljet/jobs'\n",
      "Starting next link https://wellfound.com/company/tooljet/jobs\n",
      "Status reasoning='The website provides a platform for job seekers and employers, but does not list specific job openings or roles directly on the page.' classification='Link to jobs' link='https://wellfound.com/jobs'\n",
      "Starting next link https://wellfound.com/jobs\n",
      "Status reasoning='The website provides a platform for job seekers and employers, but does not list specific job openings or roles directly on the page.' classification='Link to jobs' link='https://wellfound.com/jobs'\n",
      "Starting next link https://wellfound.com/jobs\n",
      "Error code: 400 - {'error': {'message': \"Invalid value for 'content': expected a string, got null.\", 'type': 'invalid_request_error', 'param': 'messages.[1].content', 'code': None}}\n",
      "Status reasoning='The website provides a platform for job seekers and employers, but does not list specific job openings or roles directly on the page.' classification='Link to jobs' link='https://wellfound.com/jobs'\n",
      "Starting next link https://wellfound.com/jobs\n",
      "Status reasoning='The website provides a platform for job seekers and employers, but does not list specific job openings or roles directly on the page.' classification='Link to jobs' link='https://wellfound.com/jobs'\n",
      "5 iterations did not succeed!\n",
      "Error code: 400 - {'error': {'message': \"Invalid value for 'content': expected a string, got null.\", 'type': 'invalid_request_error', 'param': 'messages.[1].content', 'code': None}}\n",
      "Page.goto: Timeout 30000ms exceeded.\n",
      "Call log:\n",
      "navigating to \"https://productpair.com/careers\", waiting until \"load\"\n",
      "\n",
      "Error code: 400 - {'error': {'message': \"Invalid value for 'content': expected a string, got null.\", 'type': 'invalid_request_error', 'param': 'messages.[1].content', 'code': None}}\n",
      "Error code: 400 - {'error': {'message': \"Invalid value for 'content': expected a string, got null.\", 'type': 'invalid_request_error', 'param': 'messages.[1].content', 'code': None}}\n",
      "Error code: 400 - {'error': {'message': \"Invalid value for 'content': expected a string, got null.\", 'type': 'invalid_request_error', 'param': 'messages.[1].content', 'code': None}}\n",
      "Error code: 400 - {'error': {'message': \"Invalid value for 'content': expected a string, got null.\", 'type': 'invalid_request_error', 'param': 'messages.[1].content', 'code': None}}\n",
      "Error code: 400 - {'error': {'message': \"Invalid value for 'content': expected a string, got null.\", 'type': 'invalid_request_error', 'param': 'messages.[1].content', 'code': None}}\n",
      "5 iterations did not succeed!\n",
      "Error code: 400 - {'error': {'message': \"Invalid value for 'content': expected a string, got null.\", 'type': 'invalid_request_error', 'param': 'messages.[1].content', 'code': None}}\n",
      "Error code: 400 - {'error': {'message': \"Invalid value for 'content': expected a string, got null.\", 'type': 'invalid_request_error', 'param': 'messages.[1].content', 'code': None}}\n",
      "5 iterations did not succeed!\n"
     ]
    }
   ],
   "source": [
    "results = await limit_parallel(tasks)"
   ]
  },
  {
   "cell_type": "code",
   "execution_count": null,
   "id": "ec76e1d0",
   "metadata": {
    "hidden": true
   },
   "outputs": [],
   "source": []
  },
  {
   "cell_type": "code",
   "execution_count": null,
   "id": "d33b1fcb",
   "metadata": {
    "hidden": true
   },
   "outputs": [],
   "source": []
  },
  {
   "cell_type": "code",
   "execution_count": null,
   "id": "64c82f28",
   "metadata": {
    "hidden": true
   },
   "outputs": [],
   "source": []
  },
  {
   "cell_type": "code",
   "execution_count": 78,
   "id": "f48ff7da",
   "metadata": {
    "hidden": true
   },
   "outputs": [
    {
     "name": "stderr",
     "output_type": "stream",
     "text": [
      "\r",
      "  0%|                                                                                                                                                                                                                                               | 0/20 [00:00<?, ?it/s]"
     ]
    },
    {
     "name": "stdout",
     "output_type": "stream",
     "text": [
      "Starting next link http://www.unstructured.io/\n",
      "Scraping page\n",
      "converting to md\n",
      "judging website status\n",
      "Status reasoning=\"The website includes a 'Careers' link in the navigation, indicating there may be job opportunities available, but does not list any specific jobs or mention current openings.\" classification='Link to jobs' link='./careers'\n",
      "Starting next link http://www.unstructured.io/careers\n",
      "Scraping page\n",
      "converting to md\n",
      "judging website status\n"
     ]
    },
    {
     "name": "stderr",
     "output_type": "stream",
     "text": [
      "\r",
      "  5%|███████████▌                                                                                                                                                                                                                           | 1/20 [00:08<02:34,  8.11s/it]"
     ]
    },
    {
     "name": "stdout",
     "output_type": "stream",
     "text": [
      "Status reasoning='The website explicitly lists multiple job openings with titles and links to apply, which qualifies it as a Job list.' classification='Job list' link=''\n",
      "Starting next link https://www.tripletsoft.com\n",
      "Scraping page\n",
      "converting to md\n",
      "judging website status\n",
      "Status reasoning=\"The website includes a 'Careers' section in the navigation, indicating a link to potential job opportunities, but does not list any specific jobs or mention current openings.\" classification='Link to jobs' link='/about-us/careers'\n",
      "Starting next link https://www.tripletsoft.com/about-us/careers\n",
      "Scraping page\n",
      "converting to md\n",
      "judging website status\n"
     ]
    },
    {
     "name": "stderr",
     "output_type": "stream",
     "text": [
      "\r",
      " 10%|███████████████████████                                                                                                                                                                                                                | 2/20 [00:14<02:03,  6.85s/it]"
     ]
    },
    {
     "name": "stdout",
     "output_type": "stream",
     "text": [
      "Status reasoning='The website explicitly lists multiple job openings with detailed descriptions and requirements, indicating that there are actual jobs available.' classification='Job list' link=''\n",
      "Starting next link https://www.tigereye.com/\n",
      "Scraping page\n",
      "converting to md\n",
      "judging website status\n",
      "Status reasoning=\"The website contains a link to a job openings page, which is explicitly mentioned in the 'Company' section.\" classification='Link to jobs' link='https://jobs.ashbyhq.com/TigerEye'\n",
      "Starting next link https://jobs.ashbyhq.com/TigerEye\n",
      "Scraping page\n",
      "converting to md\n",
      "judging website status\n"
     ]
    },
    {
     "name": "stderr",
     "output_type": "stream",
     "text": [
      "\r",
      " 15%|██████████████████████████████████▋                                                                                                                                                                                                    | 3/20 [00:21<02:04,  7.32s/it]"
     ]
    },
    {
     "name": "stdout",
     "output_type": "stream",
     "text": [
      "Status reasoning='The website explicitly lists an open position for a Backend Engineer, which qualifies it as a job list.' classification='Job list' link=''\n",
      "Starting next link http://www.lightsource.ai\n",
      "Scraping page\n",
      "converting to md\n",
      "judging website status\n",
      "Status reasoning='The website contains a link to a jobs page, which is indicated in the navigation menu.' classification='Link to jobs' link='https://jobs.lightsource.ai'\n",
      "Starting next link https://jobs.lightsource.ai\n",
      "Scraping page\n",
      "converting to md\n",
      "judging website status\n",
      "Status reasoning='The website contains a link to view job openings, indicating that there are jobs available.' classification='Link to jobs' link='/jobs'\n",
      "Starting next link http://www.lightsource.ai/jobs\n",
      "Scraping page\n",
      "converting to md\n",
      "judging website status\n",
      "Status reasoning='The website contains a link to a jobs page, which is indicated in the navigation menu.' classification='Link to jobs' link='https://jobs.lightsource.ai'\n",
      "Starting next link https://jobs.lightsource.ai\n",
      "Scraping page\n",
      "converting to md\n",
      "judging website status\n",
      "Status reasoning='The website contains a link to view job openings, indicating that there are jobs available.' classification='Link to jobs' link='/jobs'\n",
      "Starting next link http://www.lightsource.ai/jobs\n",
      "Scraping page\n",
      "converting to md\n",
      "judging website status\n"
     ]
    },
    {
     "name": "stderr",
     "output_type": "stream",
     "text": [
      "\r",
      " 20%|██████████████████████████████████████████████▏                                                                                                                                                                                        | 4/20 [00:35<02:38,  9.93s/it]"
     ]
    },
    {
     "name": "stdout",
     "output_type": "stream",
     "text": [
      "Status reasoning='The website contains a link to a jobs page, but does not list any specific job openings on the current page.' classification='Link to jobs' link='https://jobs.lightsource.ai'\n",
      "Starting next link https://www.moonehq.com\n",
      "Scraping page\n",
      "converting to md\n",
      "judging website status\n"
     ]
    },
    {
     "name": "stderr",
     "output_type": "stream",
     "text": [
      "\r",
      " 25%|█████████████████████████████████████████████████████████▊                                                                                                                                                                             | 5/20 [00:41<02:04,  8.32s/it]"
     ]
    },
    {
     "name": "stdout",
     "output_type": "stream",
     "text": [
      "Status reasoning=\"The website mentions a 'Jobs' section but does not list any specific job openings or roles, indicating that it is currently empty.\" classification='No jobs' link=None\n",
      "Starting next link https://tooljet.com\n",
      "Scraping page\n",
      "converting to md\n",
      "judging website status\n",
      "Status reasoning='The website contains a link to a careers page where job opportunities can be found, but does not list any specific jobs on the page itself.' classification='Link to jobs' link='https://wellfound.com/company/tooljet/jobs'\n",
      "Starting next link https://wellfound.com/company/tooljet/jobs\n",
      "Scraping page\n",
      "converting to md\n",
      "judging website status\n",
      "Status reasoning='The website provides a platform for job seekers and employers, but does not list specific job openings or roles directly on the page.' classification='Link to jobs' link='https://wellfound.com/jobs'\n",
      "Starting next link https://wellfound.com/jobs\n",
      "Scraping page\n",
      "converting to md\n",
      "judging website status\n"
     ]
    },
    {
     "name": "stderr",
     "output_type": "stream",
     "text": [
      "\r",
      " 30%|█████████████████████████████████████████████████████████████████████▎                                                                                                                                                                 | 6/20 [00:50<01:59,  8.54s/it]"
     ]
    },
    {
     "name": "stdout",
     "output_type": "stream",
     "text": [
      "Status reasoning='The website provides a platform for job seekers and employers, but does not explicitly list any current job openings or roles available.' classification='No jobs' link=None\n",
      "Starting next link https://znest.com/\n",
      "Scraping page\n",
      "converting to md\n",
      "judging website status\n",
      "Status reasoning='The website mentions helping jobseekers and employers and has a dedicated jobs section, but does not list any specific job openings at this time.' classification='Link to jobs' link='/jobs'\n",
      "Starting next link https://znest.com/jobs\n",
      "Scraping page\n",
      "converting to md\n",
      "judging website status\n"
     ]
    },
    {
     "name": "stderr",
     "output_type": "stream",
     "text": [
      "\r",
      " 35%|████████████████████████████████████████████████████████████████████████████████▊                                                                                                                                                      | 7/20 [01:08<02:33, 11.78s/it]"
     ]
    },
    {
     "name": "stdout",
     "output_type": "stream",
     "text": [
      "Status reasoning='The website explicitly lists multiple job titles along with their descriptions and salary information, indicating that there are actual jobs available.' classification='Job list' link=''\n",
      "Starting next link http://www.elemeno.dev\n",
      "Scraping page\n",
      "converting to md\n",
      "judging website status\n",
      "Status reasoning=\"The website has a 'Careers' section in the navigation, indicating a link to job opportunities, but does not list any specific jobs or mention current openings.\" classification='Link to jobs' link='#'\n",
      "Starting next link http://www.elemeno.dev/#\n",
      "Scraping page\n",
      "converting to md\n",
      "judging website status\n"
     ]
    },
    {
     "name": "stderr",
     "output_type": "stream",
     "text": [
      "\r",
      " 40%|████████████████████████████████████████████████████████████████████████████████████████████▍                                                                                                                                          | 8/20 [03:23<10:11, 50.93s/it]"
     ]
    },
    {
     "name": "stdout",
     "output_type": "stream",
     "text": [
      "Status reasoning=\"The website has a 'Careers' section but does not list any specific job openings or provide a link to a job page, indicating they are not currently hiring.\" classification='Job open apply' link=''\n",
      "Starting next link https://getmaestro.ai\n",
      "Scraping page\n",
      "converting to md\n",
      "judging website status\n",
      "Status reasoning='The website contains a link to a careers page where current job openings can be viewed.' classification='Link to jobs' link='https://maestroai.notion.site/Maestro-AI-Careers-51385f9fca964b618decab6193a25a74?pvs=74'\n",
      "Starting next link https://maestroai.notion.site/Maestro-AI-Careers-51385f9fca964b618decab6193a25a74?pvs=74\n",
      "Scraping page\n",
      "converting to md\n",
      "judging website status\n"
     ]
    },
    {
     "name": "stderr",
     "output_type": "stream",
     "text": [
      "\r",
      " 45%|███████████████████████████████████████████████████████████████████████████████████████████████████████▉                                                                                                                               | 9/20 [03:31<06:54, 37.64s/it]"
     ]
    },
    {
     "name": "stdout",
     "output_type": "stream",
     "text": [
      "Status reasoning='The website mentions open positions but does not list any specific jobs, only encouraging potential candidates to reach out if they are inspired by the company.' classification='Job open apply' link=''\n",
      "Starting next link https://www.getkinn.com\n",
      "Scraping page\n",
      "converting to md\n",
      "judging website status\n",
      "Status reasoning='The website includes a link to a careers page where jobs may be listed, but does not provide any specific job listings on the current page.' classification='Link to jobs' link='https://jobs.polymer.co/kinn'\n",
      "Starting next link https://jobs.polymer.co/kinn\n",
      "Scraping page\n",
      "converting to md\n",
      "judging website status\n"
     ]
    },
    {
     "name": "stderr",
     "output_type": "stream",
     "text": [
      "\r",
      " 50%|███████████████████████████████████████████████████████████████████████████████████████████████████████████████████                                                                                                                   | 10/20 [03:39<04:42, 28.23s/it]"
     ]
    },
    {
     "name": "stdout",
     "output_type": "stream",
     "text": [
      "Status reasoning='The website states that there are no active job posts right now, which qualifies it as an empty list.' classification='No jobs' link=None\n",
      "Starting next link https://govalo.com\n",
      "Scraping page\n",
      "converting to md\n",
      "judging website status\n",
      "Status reasoning=\"The website has a 'Careers' link in the footer, indicating potential job opportunities, but does not list any specific jobs or mention current openings.\" classification='Link to jobs' link='https://govalo.com/pages/careers'\n",
      "Starting next link https://govalo.com/pages/careers\n",
      "Scraping page\n",
      "converting to md\n",
      "judging website status\n"
     ]
    },
    {
     "name": "stderr",
     "output_type": "stream",
     "text": [
      "\r",
      " 55%|██████████████████████████████████████████████████████████████████████████████████████████████████████████████████████████████▌                                                                                                       | 11/20 [03:45<03:14, 21.56s/it]"
     ]
    },
    {
     "name": "stdout",
     "output_type": "stream",
     "text": [
      "Status reasoning=\"The website has a 'Careers' section but does not provide any specific job listings or mention current job openings, indicating that it is currently empty.\" classification='No jobs' link=''\n",
      "Starting next link https://productpair.co\n",
      "Scraping page\n",
      "converting to md\n",
      "judging website status\n",
      "Status reasoning='The website includes a link to a careers page, but does not list any specific job openings or mention current roles.' classification='Link to jobs' link='https://productpair.com/careers'\n",
      "Starting next link https://productpair.com/careers\n",
      "Scraping page\n",
      "Page.goto: Timeout 30000ms exceeded.\n",
      "Call log:\n",
      "navigating to \"https://productpair.com/careers\", waiting until \"load\"\n",
      "\n",
      "converting to md\n",
      "judging website status\n",
      "Error code: 400 - {'error': {'message': \"Invalid value for 'content': expected a string, got null.\", 'type': 'invalid_request_error', 'param': 'messages.[1].content', 'code': None}}\n",
      "Error code: 400 - {'error': {'message': \"Invalid value for 'content': expected a string, got null.\", 'type': 'invalid_request_error', 'param': 'messages.[1].content', 'code': None}}\n",
      "Error code: 400 - {'error': {'message': \"Invalid value for 'content': expected a string, got null.\", 'type': 'invalid_request_error', 'param': 'messages.[1].content', 'code': None}}\n",
      "Error code: 400 - {'error': {'message': \"Invalid value for 'content': expected a string, got null.\", 'type': 'invalid_request_error', 'param': 'messages.[1].content', 'code': None}}\n"
     ]
    },
    {
     "name": "stderr",
     "output_type": "stream",
     "text": [
      " 55%|██████████████████████████████████████████████████████████████████████████████████████████████████████████████████████████████▌                                                                                                       | 11/20 [05:35<04:34, 30.47s/it]\n"
     ]
    },
    {
     "ename": "CancelledError",
     "evalue": "",
     "output_type": "error",
     "traceback": [
      "\u001b[0;31m---------------------------------------------------------------------------\u001b[0m",
      "\u001b[0;31mBadRequestError\u001b[0m                           Traceback (most recent call last)",
      "File \u001b[0;32m~/projects/usergems-test/jobsfinder/core.py:94\u001b[0m, in \u001b[0;36msimple_gpt\u001b[0;34m(system_msg, user_msg, schema, temperature)\u001b[0m\n\u001b[1;32m     93\u001b[0m \u001b[38;5;28;01mtry\u001b[39;00m:\n\u001b[0;32m---> 94\u001b[0m     completion \u001b[38;5;241m=\u001b[39m \u001b[38;5;28;01mawait\u001b[39;00m client\u001b[38;5;241m.\u001b[39mbeta\u001b[38;5;241m.\u001b[39mchat\u001b[38;5;241m.\u001b[39mcompletions\u001b[38;5;241m.\u001b[39mparse(\n\u001b[1;32m     95\u001b[0m         model\u001b[38;5;241m=\u001b[39m\u001b[38;5;124m\"\u001b[39m\u001b[38;5;124mgpt-4o-mini-2024-07-18\u001b[39m\u001b[38;5;124m\"\u001b[39m,\n\u001b[1;32m     96\u001b[0m         messages\u001b[38;5;241m=\u001b[39m[\n\u001b[1;32m     97\u001b[0m             {\u001b[38;5;124m\"\u001b[39m\u001b[38;5;124mrole\u001b[39m\u001b[38;5;124m\"\u001b[39m: \u001b[38;5;124m\"\u001b[39m\u001b[38;5;124msystem\u001b[39m\u001b[38;5;124m\"\u001b[39m, \u001b[38;5;124m\"\u001b[39m\u001b[38;5;124mcontent\u001b[39m\u001b[38;5;124m\"\u001b[39m: system_msg},\n\u001b[1;32m     98\u001b[0m             {\u001b[38;5;124m\"\u001b[39m\u001b[38;5;124mrole\u001b[39m\u001b[38;5;124m\"\u001b[39m: \u001b[38;5;124m\"\u001b[39m\u001b[38;5;124muser\u001b[39m\u001b[38;5;124m\"\u001b[39m, \u001b[38;5;124m\"\u001b[39m\u001b[38;5;124mcontent\u001b[39m\u001b[38;5;124m\"\u001b[39m: user_msg},\n\u001b[1;32m     99\u001b[0m         ],\n\u001b[1;32m    100\u001b[0m         response_format\u001b[38;5;241m=\u001b[39mschema,\n\u001b[1;32m    101\u001b[0m         temperature\u001b[38;5;241m=\u001b[39mtemperature,\n\u001b[1;32m    102\u001b[0m     )\n\u001b[1;32m    103\u001b[0m     \u001b[38;5;28;01mwith\u001b[39;00m \u001b[38;5;28mopen\u001b[39m(GPT_LOG, \u001b[38;5;124m\"\u001b[39m\u001b[38;5;124ma\u001b[39m\u001b[38;5;124m\"\u001b[39m) \u001b[38;5;28;01mas\u001b[39;00m f:\n",
      "File \u001b[0;32m~/projects/usergems-test/venv/lib/python3.12/site-packages/openai/resources/beta/chat/completions.py:327\u001b[0m, in \u001b[0;36mAsyncCompletions.parse\u001b[0;34m(self, messages, model, response_format, frequency_penalty, function_call, functions, logit_bias, logprobs, max_tokens, n, parallel_tool_calls, presence_penalty, seed, service_tier, stop, stream_options, temperature, tool_choice, tools, top_logprobs, top_p, user, extra_headers, extra_query, extra_body, timeout)\u001b[0m\n\u001b[1;32m    322\u001b[0m extra_headers \u001b[38;5;241m=\u001b[39m {\n\u001b[1;32m    323\u001b[0m     \u001b[38;5;124m\"\u001b[39m\u001b[38;5;124mX-Stainless-Helper-Method\u001b[39m\u001b[38;5;124m\"\u001b[39m: \u001b[38;5;124m\"\u001b[39m\u001b[38;5;124mbeta.chat.completions.parse\u001b[39m\u001b[38;5;124m\"\u001b[39m,\n\u001b[1;32m    324\u001b[0m     \u001b[38;5;241m*\u001b[39m\u001b[38;5;241m*\u001b[39m(extra_headers \u001b[38;5;129;01mor\u001b[39;00m {}),\n\u001b[1;32m    325\u001b[0m }\n\u001b[0;32m--> 327\u001b[0m raw_completion \u001b[38;5;241m=\u001b[39m \u001b[38;5;28;01mawait\u001b[39;00m \u001b[38;5;28mself\u001b[39m\u001b[38;5;241m.\u001b[39m_client\u001b[38;5;241m.\u001b[39mchat\u001b[38;5;241m.\u001b[39mcompletions\u001b[38;5;241m.\u001b[39mcreate(\n\u001b[1;32m    328\u001b[0m     messages\u001b[38;5;241m=\u001b[39mmessages,\n\u001b[1;32m    329\u001b[0m     model\u001b[38;5;241m=\u001b[39mmodel,\n\u001b[1;32m    330\u001b[0m     response_format\u001b[38;5;241m=\u001b[39m_type_to_response_format(response_format),\n\u001b[1;32m    331\u001b[0m     frequency_penalty\u001b[38;5;241m=\u001b[39mfrequency_penalty,\n\u001b[1;32m    332\u001b[0m     function_call\u001b[38;5;241m=\u001b[39mfunction_call,\n\u001b[1;32m    333\u001b[0m     functions\u001b[38;5;241m=\u001b[39mfunctions,\n\u001b[1;32m    334\u001b[0m     logit_bias\u001b[38;5;241m=\u001b[39mlogit_bias,\n\u001b[1;32m    335\u001b[0m     logprobs\u001b[38;5;241m=\u001b[39mlogprobs,\n\u001b[1;32m    336\u001b[0m     max_tokens\u001b[38;5;241m=\u001b[39mmax_tokens,\n\u001b[1;32m    337\u001b[0m     n\u001b[38;5;241m=\u001b[39mn,\n\u001b[1;32m    338\u001b[0m     parallel_tool_calls\u001b[38;5;241m=\u001b[39mparallel_tool_calls,\n\u001b[1;32m    339\u001b[0m     presence_penalty\u001b[38;5;241m=\u001b[39mpresence_penalty,\n\u001b[1;32m    340\u001b[0m     seed\u001b[38;5;241m=\u001b[39mseed,\n\u001b[1;32m    341\u001b[0m     service_tier\u001b[38;5;241m=\u001b[39mservice_tier,\n\u001b[1;32m    342\u001b[0m     stop\u001b[38;5;241m=\u001b[39mstop,\n\u001b[1;32m    343\u001b[0m     stream_options\u001b[38;5;241m=\u001b[39mstream_options,\n\u001b[1;32m    344\u001b[0m     temperature\u001b[38;5;241m=\u001b[39mtemperature,\n\u001b[1;32m    345\u001b[0m     tool_choice\u001b[38;5;241m=\u001b[39mtool_choice,\n\u001b[1;32m    346\u001b[0m     tools\u001b[38;5;241m=\u001b[39mtools,\n\u001b[1;32m    347\u001b[0m     top_logprobs\u001b[38;5;241m=\u001b[39mtop_logprobs,\n\u001b[1;32m    348\u001b[0m     top_p\u001b[38;5;241m=\u001b[39mtop_p,\n\u001b[1;32m    349\u001b[0m     user\u001b[38;5;241m=\u001b[39muser,\n\u001b[1;32m    350\u001b[0m     extra_headers\u001b[38;5;241m=\u001b[39mextra_headers,\n\u001b[1;32m    351\u001b[0m     extra_query\u001b[38;5;241m=\u001b[39mextra_query,\n\u001b[1;32m    352\u001b[0m     extra_body\u001b[38;5;241m=\u001b[39mextra_body,\n\u001b[1;32m    353\u001b[0m     timeout\u001b[38;5;241m=\u001b[39mtimeout,\n\u001b[1;32m    354\u001b[0m )\n\u001b[1;32m    355\u001b[0m \u001b[38;5;28;01mreturn\u001b[39;00m _parse_chat_completion(\n\u001b[1;32m    356\u001b[0m     response_format\u001b[38;5;241m=\u001b[39mresponse_format,\n\u001b[1;32m    357\u001b[0m     chat_completion\u001b[38;5;241m=\u001b[39mraw_completion,\n\u001b[1;32m    358\u001b[0m     input_tools\u001b[38;5;241m=\u001b[39mtools,\n\u001b[1;32m    359\u001b[0m )\n",
      "File \u001b[0;32m~/projects/usergems-test/venv/lib/python3.12/site-packages/openai/resources/chat/completions.py:1339\u001b[0m, in \u001b[0;36mAsyncCompletions.create\u001b[0;34m(self, messages, model, frequency_penalty, function_call, functions, logit_bias, logprobs, max_tokens, n, parallel_tool_calls, presence_penalty, response_format, seed, service_tier, stop, stream, stream_options, temperature, tool_choice, tools, top_logprobs, top_p, user, extra_headers, extra_query, extra_body, timeout)\u001b[0m\n\u001b[1;32m   1338\u001b[0m validate_response_format(response_format)\n\u001b[0;32m-> 1339\u001b[0m \u001b[38;5;28;01mreturn\u001b[39;00m \u001b[38;5;28;01mawait\u001b[39;00m \u001b[38;5;28mself\u001b[39m\u001b[38;5;241m.\u001b[39m_post(\n\u001b[1;32m   1340\u001b[0m     \u001b[38;5;124m\"\u001b[39m\u001b[38;5;124m/chat/completions\u001b[39m\u001b[38;5;124m\"\u001b[39m,\n\u001b[1;32m   1341\u001b[0m     body\u001b[38;5;241m=\u001b[39m\u001b[38;5;28;01mawait\u001b[39;00m async_maybe_transform(\n\u001b[1;32m   1342\u001b[0m         {\n\u001b[1;32m   1343\u001b[0m             \u001b[38;5;124m\"\u001b[39m\u001b[38;5;124mmessages\u001b[39m\u001b[38;5;124m\"\u001b[39m: messages,\n\u001b[1;32m   1344\u001b[0m             \u001b[38;5;124m\"\u001b[39m\u001b[38;5;124mmodel\u001b[39m\u001b[38;5;124m\"\u001b[39m: model,\n\u001b[1;32m   1345\u001b[0m             \u001b[38;5;124m\"\u001b[39m\u001b[38;5;124mfrequency_penalty\u001b[39m\u001b[38;5;124m\"\u001b[39m: frequency_penalty,\n\u001b[1;32m   1346\u001b[0m             \u001b[38;5;124m\"\u001b[39m\u001b[38;5;124mfunction_call\u001b[39m\u001b[38;5;124m\"\u001b[39m: function_call,\n\u001b[1;32m   1347\u001b[0m             \u001b[38;5;124m\"\u001b[39m\u001b[38;5;124mfunctions\u001b[39m\u001b[38;5;124m\"\u001b[39m: functions,\n\u001b[1;32m   1348\u001b[0m             \u001b[38;5;124m\"\u001b[39m\u001b[38;5;124mlogit_bias\u001b[39m\u001b[38;5;124m\"\u001b[39m: logit_bias,\n\u001b[1;32m   1349\u001b[0m             \u001b[38;5;124m\"\u001b[39m\u001b[38;5;124mlogprobs\u001b[39m\u001b[38;5;124m\"\u001b[39m: logprobs,\n\u001b[1;32m   1350\u001b[0m             \u001b[38;5;124m\"\u001b[39m\u001b[38;5;124mmax_tokens\u001b[39m\u001b[38;5;124m\"\u001b[39m: max_tokens,\n\u001b[1;32m   1351\u001b[0m             \u001b[38;5;124m\"\u001b[39m\u001b[38;5;124mn\u001b[39m\u001b[38;5;124m\"\u001b[39m: n,\n\u001b[1;32m   1352\u001b[0m             \u001b[38;5;124m\"\u001b[39m\u001b[38;5;124mparallel_tool_calls\u001b[39m\u001b[38;5;124m\"\u001b[39m: parallel_tool_calls,\n\u001b[1;32m   1353\u001b[0m             \u001b[38;5;124m\"\u001b[39m\u001b[38;5;124mpresence_penalty\u001b[39m\u001b[38;5;124m\"\u001b[39m: presence_penalty,\n\u001b[1;32m   1354\u001b[0m             \u001b[38;5;124m\"\u001b[39m\u001b[38;5;124mresponse_format\u001b[39m\u001b[38;5;124m\"\u001b[39m: response_format,\n\u001b[1;32m   1355\u001b[0m             \u001b[38;5;124m\"\u001b[39m\u001b[38;5;124mseed\u001b[39m\u001b[38;5;124m\"\u001b[39m: seed,\n\u001b[1;32m   1356\u001b[0m             \u001b[38;5;124m\"\u001b[39m\u001b[38;5;124mservice_tier\u001b[39m\u001b[38;5;124m\"\u001b[39m: service_tier,\n\u001b[1;32m   1357\u001b[0m             \u001b[38;5;124m\"\u001b[39m\u001b[38;5;124mstop\u001b[39m\u001b[38;5;124m\"\u001b[39m: stop,\n\u001b[1;32m   1358\u001b[0m             \u001b[38;5;124m\"\u001b[39m\u001b[38;5;124mstream\u001b[39m\u001b[38;5;124m\"\u001b[39m: stream,\n\u001b[1;32m   1359\u001b[0m             \u001b[38;5;124m\"\u001b[39m\u001b[38;5;124mstream_options\u001b[39m\u001b[38;5;124m\"\u001b[39m: stream_options,\n\u001b[1;32m   1360\u001b[0m             \u001b[38;5;124m\"\u001b[39m\u001b[38;5;124mtemperature\u001b[39m\u001b[38;5;124m\"\u001b[39m: temperature,\n\u001b[1;32m   1361\u001b[0m             \u001b[38;5;124m\"\u001b[39m\u001b[38;5;124mtool_choice\u001b[39m\u001b[38;5;124m\"\u001b[39m: tool_choice,\n\u001b[1;32m   1362\u001b[0m             \u001b[38;5;124m\"\u001b[39m\u001b[38;5;124mtools\u001b[39m\u001b[38;5;124m\"\u001b[39m: tools,\n\u001b[1;32m   1363\u001b[0m             \u001b[38;5;124m\"\u001b[39m\u001b[38;5;124mtop_logprobs\u001b[39m\u001b[38;5;124m\"\u001b[39m: top_logprobs,\n\u001b[1;32m   1364\u001b[0m             \u001b[38;5;124m\"\u001b[39m\u001b[38;5;124mtop_p\u001b[39m\u001b[38;5;124m\"\u001b[39m: top_p,\n\u001b[1;32m   1365\u001b[0m             \u001b[38;5;124m\"\u001b[39m\u001b[38;5;124muser\u001b[39m\u001b[38;5;124m\"\u001b[39m: user,\n\u001b[1;32m   1366\u001b[0m         },\n\u001b[1;32m   1367\u001b[0m         completion_create_params\u001b[38;5;241m.\u001b[39mCompletionCreateParams,\n\u001b[1;32m   1368\u001b[0m     ),\n\u001b[1;32m   1369\u001b[0m     options\u001b[38;5;241m=\u001b[39mmake_request_options(\n\u001b[1;32m   1370\u001b[0m         extra_headers\u001b[38;5;241m=\u001b[39mextra_headers, extra_query\u001b[38;5;241m=\u001b[39mextra_query, extra_body\u001b[38;5;241m=\u001b[39mextra_body, timeout\u001b[38;5;241m=\u001b[39mtimeout\n\u001b[1;32m   1371\u001b[0m     ),\n\u001b[1;32m   1372\u001b[0m     cast_to\u001b[38;5;241m=\u001b[39mChatCompletion,\n\u001b[1;32m   1373\u001b[0m     stream\u001b[38;5;241m=\u001b[39mstream \u001b[38;5;129;01mor\u001b[39;00m \u001b[38;5;28;01mFalse\u001b[39;00m,\n\u001b[1;32m   1374\u001b[0m     stream_cls\u001b[38;5;241m=\u001b[39mAsyncStream[ChatCompletionChunk],\n\u001b[1;32m   1375\u001b[0m )\n",
      "File \u001b[0;32m~/projects/usergems-test/venv/lib/python3.12/site-packages/openai/_base_client.py:1816\u001b[0m, in \u001b[0;36mAsyncAPIClient.post\u001b[0;34m(self, path, cast_to, body, files, options, stream, stream_cls)\u001b[0m\n\u001b[1;32m   1813\u001b[0m opts \u001b[38;5;241m=\u001b[39m FinalRequestOptions\u001b[38;5;241m.\u001b[39mconstruct(\n\u001b[1;32m   1814\u001b[0m     method\u001b[38;5;241m=\u001b[39m\u001b[38;5;124m\"\u001b[39m\u001b[38;5;124mpost\u001b[39m\u001b[38;5;124m\"\u001b[39m, url\u001b[38;5;241m=\u001b[39mpath, json_data\u001b[38;5;241m=\u001b[39mbody, files\u001b[38;5;241m=\u001b[39m\u001b[38;5;28;01mawait\u001b[39;00m async_to_httpx_files(files), \u001b[38;5;241m*\u001b[39m\u001b[38;5;241m*\u001b[39moptions\n\u001b[1;32m   1815\u001b[0m )\n\u001b[0;32m-> 1816\u001b[0m \u001b[38;5;28;01mreturn\u001b[39;00m \u001b[38;5;28;01mawait\u001b[39;00m \u001b[38;5;28mself\u001b[39m\u001b[38;5;241m.\u001b[39mrequest(cast_to, opts, stream\u001b[38;5;241m=\u001b[39mstream, stream_cls\u001b[38;5;241m=\u001b[39mstream_cls)\n",
      "File \u001b[0;32m~/projects/usergems-test/venv/lib/python3.12/site-packages/openai/_base_client.py:1510\u001b[0m, in \u001b[0;36mAsyncAPIClient.request\u001b[0;34m(self, cast_to, options, stream, stream_cls, remaining_retries)\u001b[0m\n\u001b[1;32m   1501\u001b[0m \u001b[38;5;28;01masync\u001b[39;00m \u001b[38;5;28;01mdef\u001b[39;00m \u001b[38;5;21mrequest\u001b[39m(\n\u001b[1;32m   1502\u001b[0m     \u001b[38;5;28mself\u001b[39m,\n\u001b[1;32m   1503\u001b[0m     cast_to: Type[ResponseT],\n\u001b[0;32m   (...)\u001b[0m\n\u001b[1;32m   1508\u001b[0m     remaining_retries: Optional[\u001b[38;5;28mint\u001b[39m] \u001b[38;5;241m=\u001b[39m \u001b[38;5;28;01mNone\u001b[39;00m,\n\u001b[1;32m   1509\u001b[0m ) \u001b[38;5;241m-\u001b[39m\u001b[38;5;241m>\u001b[39m ResponseT \u001b[38;5;241m|\u001b[39m _AsyncStreamT:\n\u001b[0;32m-> 1510\u001b[0m     \u001b[38;5;28;01mreturn\u001b[39;00m \u001b[38;5;28;01mawait\u001b[39;00m \u001b[38;5;28mself\u001b[39m\u001b[38;5;241m.\u001b[39m_request(\n\u001b[1;32m   1511\u001b[0m         cast_to\u001b[38;5;241m=\u001b[39mcast_to,\n\u001b[1;32m   1512\u001b[0m         options\u001b[38;5;241m=\u001b[39moptions,\n\u001b[1;32m   1513\u001b[0m         stream\u001b[38;5;241m=\u001b[39mstream,\n\u001b[1;32m   1514\u001b[0m         stream_cls\u001b[38;5;241m=\u001b[39mstream_cls,\n\u001b[1;32m   1515\u001b[0m         remaining_retries\u001b[38;5;241m=\u001b[39mremaining_retries,\n\u001b[1;32m   1516\u001b[0m     )\n",
      "File \u001b[0;32m~/projects/usergems-test/venv/lib/python3.12/site-packages/openai/_base_client.py:1611\u001b[0m, in \u001b[0;36mAsyncAPIClient._request\u001b[0;34m(self, cast_to, options, stream, stream_cls, remaining_retries)\u001b[0m\n\u001b[1;32m   1610\u001b[0m     log\u001b[38;5;241m.\u001b[39mdebug(\u001b[38;5;124m\"\u001b[39m\u001b[38;5;124mRe-raising status error\u001b[39m\u001b[38;5;124m\"\u001b[39m)\n\u001b[0;32m-> 1611\u001b[0m     \u001b[38;5;28;01mraise\u001b[39;00m \u001b[38;5;28mself\u001b[39m\u001b[38;5;241m.\u001b[39m_make_status_error_from_response(err\u001b[38;5;241m.\u001b[39mresponse) \u001b[38;5;28;01mfrom\u001b[39;00m \u001b[38;5;28;01mNone\u001b[39;00m\n\u001b[1;32m   1613\u001b[0m \u001b[38;5;28;01mreturn\u001b[39;00m \u001b[38;5;28;01mawait\u001b[39;00m \u001b[38;5;28mself\u001b[39m\u001b[38;5;241m.\u001b[39m_process_response(\n\u001b[1;32m   1614\u001b[0m     cast_to\u001b[38;5;241m=\u001b[39mcast_to,\n\u001b[1;32m   1615\u001b[0m     options\u001b[38;5;241m=\u001b[39moptions,\n\u001b[0;32m   (...)\u001b[0m\n\u001b[1;32m   1619\u001b[0m     retries_taken\u001b[38;5;241m=\u001b[39moptions\u001b[38;5;241m.\u001b[39mget_max_retries(\u001b[38;5;28mself\u001b[39m\u001b[38;5;241m.\u001b[39mmax_retries) \u001b[38;5;241m-\u001b[39m retries,\n\u001b[1;32m   1620\u001b[0m )\n",
      "\u001b[0;31mBadRequestError\u001b[0m: Error code: 400 - {'error': {'message': \"Invalid value for 'content': expected a string, got null.\", 'type': 'invalid_request_error', 'param': 'messages.[1].content', 'code': None}}",
      "\nDuring handling of the above exception, another exception occurred:\n",
      "\u001b[0;31mCancelledError\u001b[0m                            Traceback (most recent call last)",
      "Cell \u001b[0;32mIn[78], line 4\u001b[0m\n\u001b[1;32m      1\u001b[0m results \u001b[38;5;241m=\u001b[39m []\n\u001b[1;32m      3\u001b[0m \u001b[38;5;28;01mfor\u001b[39;00m url \u001b[38;5;129;01min\u001b[39;00m tqdm(sub\u001b[38;5;241m.\u001b[39mWebsite):\n\u001b[0;32m----> 4\u001b[0m     res \u001b[38;5;241m=\u001b[39m \u001b[38;5;28;01mawait\u001b[39;00m follow_from_url(url)\n\u001b[1;32m      5\u001b[0m     results\u001b[38;5;241m.\u001b[39mappend(res)\n",
      "Cell \u001b[0;32mIn[56], line 2\u001b[0m, in \u001b[0;36mfollow_from_url\u001b[0;34m(url)\u001b[0m\n\u001b[1;32m      1\u001b[0m \u001b[38;5;28;01masync\u001b[39;00m \u001b[38;5;28;01mdef\u001b[39;00m \u001b[38;5;21mfollow_from_url\u001b[39m(url):\n\u001b[0;32m----> 2\u001b[0m     \u001b[38;5;28;01mreturn\u001b[39;00m \u001b[38;5;28;01mawait\u001b[39;00m follow_links(url, url, [])\n",
      "File \u001b[0;32m~/projects/usergems-test/jobsfinder/gpts.py:264\u001b[0m, in \u001b[0;36mfollow_links\u001b[0;34m(base_url, next_link, history)\u001b[0m\n\u001b[1;32m    261\u001b[0m     \u001b[38;5;28mprint\u001b[39m(\u001b[38;5;124m\"\u001b[39m\u001b[38;5;124mStatus\u001b[39m\u001b[38;5;124m\"\u001b[39m, status)\n\u001b[1;32m    263\u001b[0m     \u001b[38;5;28;01mif\u001b[39;00m status\u001b[38;5;241m.\u001b[39mclassification \u001b[38;5;241m==\u001b[39m \u001b[38;5;124m\"\u001b[39m\u001b[38;5;124mLink to jobs\u001b[39m\u001b[38;5;124m\"\u001b[39m:\n\u001b[0;32m--> 264\u001b[0m         \u001b[38;5;28;01mreturn\u001b[39;00m \u001b[38;5;28;01mawait\u001b[39;00m follow_links(base_url, status\u001b[38;5;241m.\u001b[39mlink, history \u001b[38;5;241m+\u001b[39m [status\u001b[38;5;241m.\u001b[39mlink])\n\u001b[1;32m    266\u001b[0m     \u001b[38;5;28;01mreturn\u001b[39;00m {\n\u001b[1;32m    267\u001b[0m         \u001b[38;5;124m\"\u001b[39m\u001b[38;5;124mstatus\u001b[39m\u001b[38;5;124m\"\u001b[39m: status\u001b[38;5;241m.\u001b[39mclassification,\n\u001b[1;32m    268\u001b[0m         \u001b[38;5;124m\"\u001b[39m\u001b[38;5;124mhistory\u001b[39m\u001b[38;5;124m\"\u001b[39m: history,\n\u001b[1;32m    269\u001b[0m     }\n\u001b[1;32m    270\u001b[0m \u001b[38;5;28;01mexcept\u001b[39;00m \u001b[38;5;167;01mException\u001b[39;00m \u001b[38;5;28;01mas\u001b[39;00m e:\n",
      "File \u001b[0;32m~/projects/usergems-test/jobsfinder/gpts.py:259\u001b[0m, in \u001b[0;36mfollow_links\u001b[0;34m(base_url, next_link, history)\u001b[0m\n\u001b[1;32m    257\u001b[0m md \u001b[38;5;241m=\u001b[39m html2md(content)\n\u001b[1;32m    258\u001b[0m \u001b[38;5;28mprint\u001b[39m(\u001b[38;5;124m\"\u001b[39m\u001b[38;5;124mjudging website status\u001b[39m\u001b[38;5;124m\"\u001b[39m)\n\u001b[0;32m--> 259\u001b[0m status \u001b[38;5;241m=\u001b[39m \u001b[38;5;28;01mawait\u001b[39;00m jobs_status(md)\n\u001b[1;32m    261\u001b[0m \u001b[38;5;28mprint\u001b[39m(\u001b[38;5;124m\"\u001b[39m\u001b[38;5;124mStatus\u001b[39m\u001b[38;5;124m\"\u001b[39m, status)\n\u001b[1;32m    263\u001b[0m \u001b[38;5;28;01mif\u001b[39;00m status\u001b[38;5;241m.\u001b[39mclassification \u001b[38;5;241m==\u001b[39m \u001b[38;5;124m\"\u001b[39m\u001b[38;5;124mLink to jobs\u001b[39m\u001b[38;5;124m\"\u001b[39m:\n",
      "File \u001b[0;32m~/projects/usergems-test/jobsfinder/gpts.py:147\u001b[0m, in \u001b[0;36mjobs_status\u001b[0;34m(content)\u001b[0m\n\u001b[1;32m    105\u001b[0m \u001b[38;5;28;01masync\u001b[39;00m \u001b[38;5;28;01mdef\u001b[39;00m \u001b[38;5;21mjobs_status\u001b[39m(content) \u001b[38;5;241m-\u001b[39m\u001b[38;5;241m>\u001b[39m JobsClassification:\n\u001b[1;32m    106\u001b[0m     _system_msg \u001b[38;5;241m=\u001b[39m \u001b[38;5;124m\"\"\"\u001b[39m\n\u001b[1;32m    107\u001b[0m \n\u001b[1;32m    108\u001b[0m \u001b[38;5;124mYou are a website classifier. I\u001b[39m\u001b[38;5;124m'\u001b[39m\u001b[38;5;124mm going to give you access to a website content (converted to markdown). Your job is to determine whether the website contains jobs.\u001b[39m\n\u001b[0;32m   (...)\u001b[0m\n\u001b[1;32m    144\u001b[0m \n\u001b[1;32m    145\u001b[0m \u001b[38;5;124m\"\"\"\u001b[39m\u001b[38;5;241m.\u001b[39mstrip()\n\u001b[0;32m--> 147\u001b[0m     \u001b[38;5;28;01mreturn\u001b[39;00m \u001b[38;5;28;01mawait\u001b[39;00m simple_gpt(_system_msg, content, JobsClassification)\n",
      "File \u001b[0;32m~/projects/usergems-test/jobsfinder/core.py:120\u001b[0m, in \u001b[0;36msimple_gpt\u001b[0;34m(system_msg, user_msg, schema, temperature)\u001b[0m\n\u001b[1;32m    118\u001b[0m     \u001b[38;5;28;01mexcept\u001b[39;00m \u001b[38;5;167;01mException\u001b[39;00m \u001b[38;5;28;01mas\u001b[39;00m err:\n\u001b[1;32m    119\u001b[0m         \u001b[38;5;28mprint\u001b[39m(err)\n\u001b[0;32m--> 120\u001b[0m         \u001b[38;5;28;01mawait\u001b[39;00m asyncio\u001b[38;5;241m.\u001b[39msleep(\u001b[38;5;241m20\u001b[39m)\n\u001b[1;32m    121\u001b[0m \u001b[38;5;28;01mraise\u001b[39;00m \u001b[38;5;167;01mValueError\u001b[39;00m(\u001b[38;5;124m\"\u001b[39m\u001b[38;5;124m5 iterations did not succeed!\u001b[39m\u001b[38;5;124m\"\u001b[39m)\n",
      "File \u001b[0;32m~/miniconda3/envs/all/lib/python3.12/asyncio/tasks.py:665\u001b[0m, in \u001b[0;36msleep\u001b[0;34m(delay, result)\u001b[0m\n\u001b[1;32m    661\u001b[0m h \u001b[38;5;241m=\u001b[39m loop\u001b[38;5;241m.\u001b[39mcall_later(delay,\n\u001b[1;32m    662\u001b[0m                     futures\u001b[38;5;241m.\u001b[39m_set_result_unless_cancelled,\n\u001b[1;32m    663\u001b[0m                     future, result)\n\u001b[1;32m    664\u001b[0m \u001b[38;5;28;01mtry\u001b[39;00m:\n\u001b[0;32m--> 665\u001b[0m     \u001b[38;5;28;01mreturn\u001b[39;00m \u001b[38;5;28;01mawait\u001b[39;00m future\n\u001b[1;32m    666\u001b[0m \u001b[38;5;28;01mfinally\u001b[39;00m:\n\u001b[1;32m    667\u001b[0m     h\u001b[38;5;241m.\u001b[39mcancel()\n",
      "\u001b[0;31mCancelledError\u001b[0m: "
     ]
    }
   ],
   "source": [
    "results = []\n",
    "\n",
    "for url in tqdm(sub.Website):\n",
    "    res = await follow_from_url(url)\n",
    "    results.append(res)"
   ]
  },
  {
   "cell_type": "code",
   "execution_count": null,
   "id": "44ab2b98",
   "metadata": {
    "hidden": true
   },
   "outputs": [],
   "source": []
  },
  {
   "cell_type": "markdown",
   "id": "83ec621c",
   "metadata": {},
   "source": [
    "# Check jobs data"
   ]
  },
  {
   "cell_type": "code",
   "execution_count": 119,
   "id": "e744a32a",
   "metadata": {},
   "outputs": [],
   "source": [
    "import pandas as pd"
   ]
  },
  {
   "cell_type": "code",
   "execution_count": 120,
   "id": "48ab2cc1",
   "metadata": {},
   "outputs": [],
   "source": [
    "df = pd.read_csv(\"../data/04_jobs.csv\")"
   ]
  },
  {
   "cell_type": "code",
   "execution_count": 121,
   "id": "48f515aa",
   "metadata": {},
   "outputs": [
    {
     "data": {
      "text/html": [
       "<div>\n",
       "<style scoped>\n",
       "    .dataframe tbody tr th:only-of-type {\n",
       "        vertical-align: middle;\n",
       "    }\n",
       "\n",
       "    .dataframe tbody tr th {\n",
       "        vertical-align: top;\n",
       "    }\n",
       "\n",
       "    .dataframe thead th {\n",
       "        text-align: right;\n",
       "    }\n",
       "</style>\n",
       "<table border=\"1\" class=\"dataframe\">\n",
       "  <thead>\n",
       "    <tr style=\"text-align: right;\">\n",
       "      <th></th>\n",
       "      <th>CompanyName</th>\n",
       "      <th>Website</th>\n",
       "      <th>scrape_status</th>\n",
       "      <th>md_status</th>\n",
       "      <th>md</th>\n",
       "      <th>html_length</th>\n",
       "      <th>md_length</th>\n",
       "      <th>valid_website</th>\n",
       "      <th>history</th>\n",
       "      <th>status</th>\n",
       "      <th>error</th>\n",
       "      <th>jobs</th>\n",
       "    </tr>\n",
       "  </thead>\n",
       "  <tbody>\n",
       "    <tr>\n",
       "      <th>0</th>\n",
       "      <td>Sawa Impact Labs</td>\n",
       "      <td>https://sawa.gallery/</td>\n",
       "      <td>Success</td>\n",
       "      <td>Success</td>\n",
       "      <td>Squarespace \\- Website Expired\\n\\n\\n \\nWebsite...</td>\n",
       "      <td>6998</td>\n",
       "      <td>124</td>\n",
       "      <td>valid</td>\n",
       "      <td>[\"https://sawa.gallery/\"]</td>\n",
       "      <td>No jobs</td>\n",
       "      <td>NaN</td>\n",
       "      <td>NaN</td>\n",
       "    </tr>\n",
       "    <tr>\n",
       "      <th>1</th>\n",
       "      <td>OpenMI at the University of Michigan</td>\n",
       "      <td>https://maizepages.umich.edu/organization/openmi</td>\n",
       "      <td>Success</td>\n",
       "      <td>Success</td>\n",
       "      <td>OpenMI \\- University of Michigan Maize Pages\\n...</td>\n",
       "      <td>39237</td>\n",
       "      <td>784</td>\n",
       "      <td>valid</td>\n",
       "      <td>[\"https://maizepages.umich.edu/organization/op...</td>\n",
       "      <td>No jobs</td>\n",
       "      <td>NaN</td>\n",
       "      <td>NaN</td>\n",
       "    </tr>\n",
       "  </tbody>\n",
       "</table>\n",
       "</div>"
      ],
      "text/plain": [
       "                            CompanyName  \\\n",
       "0                      Sawa Impact Labs   \n",
       "1  OpenMI at the University of Michigan   \n",
       "\n",
       "                                            Website scrape_status md_status  \\\n",
       "0                             https://sawa.gallery/       Success   Success   \n",
       "1  https://maizepages.umich.edu/organization/openmi       Success   Success   \n",
       "\n",
       "                                                  md  html_length  md_length  \\\n",
       "0  Squarespace \\- Website Expired\\n\\n\\n \\nWebsite...         6998        124   \n",
       "1  OpenMI \\- University of Michigan Maize Pages\\n...        39237        784   \n",
       "\n",
       "  valid_website                                            history   status  \\\n",
       "0         valid                          [\"https://sawa.gallery/\"]  No jobs   \n",
       "1         valid  [\"https://maizepages.umich.edu/organization/op...  No jobs   \n",
       "\n",
       "   error jobs  \n",
       "0    NaN  NaN  \n",
       "1    NaN  NaN  "
      ]
     },
     "execution_count": 121,
     "metadata": {},
     "output_type": "execute_result"
    }
   ],
   "source": [
    "df.head(2)"
   ]
  },
  {
   "cell_type": "code",
   "execution_count": 122,
   "id": "17c2869d",
   "metadata": {},
   "outputs": [
    {
     "data": {
      "text/plain": [
       "status\n",
       "No jobs              1471\n",
       "Loop detected         226\n",
       "Job open apply         56\n",
       "Job list               43\n",
       "Max depth reached       6\n",
       "Name: count, dtype: int64"
      ]
     },
     "execution_count": 122,
     "metadata": {},
     "output_type": "execute_result"
    }
   ],
   "source": [
    "df.status.value_counts()"
   ]
  },
  {
   "cell_type": "code",
   "execution_count": 123,
   "id": "58a28f03",
   "metadata": {},
   "outputs": [],
   "source": [
    "sub = df[df.status=='Job list']"
   ]
  },
  {
   "cell_type": "code",
   "execution_count": 124,
   "id": "acb3a5ae",
   "metadata": {},
   "outputs": [
    {
     "data": {
      "text/plain": [
       "43"
      ]
     },
     "execution_count": 124,
     "metadata": {},
     "output_type": "execute_result"
    }
   ],
   "source": [
    "len(sub)"
   ]
  },
  {
   "cell_type": "code",
   "execution_count": 118,
   "id": "4410faf2",
   "metadata": {},
   "outputs": [
    {
     "data": {
      "text/plain": [
       "180         [\"Product Designer\", \"Applied AI Researcher\"]\n",
       "184     [\"VP of Partnership and Growth\", \"Design Engin...\n",
       "195                                         [\"Developer\"]\n",
       "249     [\"Senior Hardware Engineer\", \"Senior Software ...\n",
       "696     [\"Sr. Software Engineer (Full-Stack)\", \"Sr. So...\n",
       "700     [\"Sr. Software Engineer\", \"Jr. Software Engine...\n",
       "732                                  [\"Marketing Badass\"]\n",
       "755     [\"Nail Tech\", \"Makeup Artist\", \"Hair Stylist\",...\n",
       "1246    [\"AI Research Intern\", \"Machine Learning Engin...\n",
       "Name: jobs, dtype: object"
      ]
     },
     "execution_count": 118,
     "metadata": {},
     "output_type": "execute_result"
    }
   ],
   "source": [
    "sub.jobs"
   ]
  },
  {
   "cell_type": "code",
   "execution_count": 114,
   "id": "ce386aa8",
   "metadata": {},
   "outputs": [
    {
     "data": {
      "text/plain": [
       "180                 [\"http://gantry.io\", \"/careers\"]\n",
       "184             [\"http://edgeandnode.com\", \"/jobs/\"]\n",
       "195                [\"https://hummi.app\", \"/careers\"]\n",
       "249                    [\"https://www.paraform.com/\"]\n",
       "696              [\"https://www.datapad.io\", \"/jobs\"]\n",
       "700     [\"https://bloomsystems.io\", \"/careers.html\"]\n",
       "732        [\"https://www.climatetechcocktails.com/\"]\n",
       "755                           [\"https://bizinc.io/\"]\n",
       "1246            [\"https://www.kaito.ai/\", \"/career\"]\n",
       "Name: history, dtype: object"
      ]
     },
     "execution_count": 114,
     "metadata": {},
     "output_type": "execute_result"
    }
   ],
   "source": [
    "sub.history"
   ]
  },
  {
   "cell_type": "code",
   "execution_count": null,
   "id": "71033437",
   "metadata": {},
   "outputs": [],
   "source": []
  },
  {
   "cell_type": "code",
   "execution_count": null,
   "id": "10cc912e",
   "metadata": {},
   "outputs": [],
   "source": []
  },
  {
   "cell_type": "code",
   "execution_count": null,
   "id": "fb7b8c51",
   "metadata": {},
   "outputs": [],
   "source": []
  }
 ],
 "metadata": {
  "kernelspec": {
   "display_name": "Python 3 (ipykernel)",
   "language": "python",
   "name": "python3"
  },
  "language_info": {
   "codemirror_mode": {
    "name": "ipython",
    "version": 3
   },
   "file_extension": ".py",
   "mimetype": "text/x-python",
   "name": "python",
   "nbconvert_exporter": "python",
   "pygments_lexer": "ipython3",
   "version": "3.12.4"
  }
 },
 "nbformat": 4,
 "nbformat_minor": 5
}
