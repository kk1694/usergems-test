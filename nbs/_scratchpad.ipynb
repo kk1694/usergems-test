{
 "cells": [
  {
   "cell_type": "code",
   "execution_count": 23,
   "id": "9af5d173",
   "metadata": {},
   "outputs": [],
   "source": [
    "import pandas as pd\n",
    "import json\n",
    "\n",
    "import re"
   ]
  },
  {
   "cell_type": "markdown",
   "id": "3c1a9c40",
   "metadata": {
    "heading_collapsed": true
   },
   "source": [
    "# Subset to software"
   ]
  },
  {
   "cell_type": "code",
   "execution_count": 2,
   "id": "a2bde781",
   "metadata": {
    "hidden": true
   },
   "outputs": [],
   "source": [
    "df = pd.read_csv(\"./websites.csv\")"
   ]
  },
  {
   "cell_type": "code",
   "execution_count": 3,
   "id": "72a10df4",
   "metadata": {
    "hidden": true
   },
   "outputs": [
    {
     "data": {
      "text/html": [
       "<div>\n",
       "<style scoped>\n",
       "    .dataframe tbody tr th:only-of-type {\n",
       "        vertical-align: middle;\n",
       "    }\n",
       "\n",
       "    .dataframe tbody tr th {\n",
       "        vertical-align: top;\n",
       "    }\n",
       "\n",
       "    .dataframe thead th {\n",
       "        text-align: right;\n",
       "    }\n",
       "</style>\n",
       "<table border=\"1\" class=\"dataframe\">\n",
       "  <thead>\n",
       "    <tr style=\"text-align: right;\">\n",
       "      <th></th>\n",
       "      <th>Unnamed: 0</th>\n",
       "      <th>CompanyName</th>\n",
       "      <th>Website</th>\n",
       "      <th>Specialties</th>\n",
       "      <th>Address</th>\n",
       "      <th>Industry</th>\n",
       "      <th>Unnamed: 6</th>\n",
       "    </tr>\n",
       "  </thead>\n",
       "  <tbody>\n",
       "    <tr>\n",
       "      <th>0</th>\n",
       "      <td>1543</td>\n",
       "      <td>Add*Ed</td>\n",
       "      <td>http://www.addedrg.ca</td>\n",
       "      <td>['autism' 'intellectual disability' 'teacher t...</td>\n",
       "      <td>{'city': 'Kingston', 'country': 'canada', 'cou...</td>\n",
       "      <td>Education Management</td>\n",
       "      <td>NaN</td>\n",
       "    </tr>\n",
       "    <tr>\n",
       "      <th>1</th>\n",
       "      <td>1952</td>\n",
       "      <td>Addison AG Tech, LP</td>\n",
       "      <td>http://www.AddisonFund.com</td>\n",
       "      <td>[]</td>\n",
       "      <td>{'city': 'Addison', 'country': 'united states'...</td>\n",
       "      <td>Financial Services</td>\n",
       "      <td>NaN</td>\n",
       "    </tr>\n",
       "  </tbody>\n",
       "</table>\n",
       "</div>"
      ],
      "text/plain": [
       "  Unnamed: 0          CompanyName                     Website  \\\n",
       "0       1543               Add*Ed       http://www.addedrg.ca   \n",
       "1       1952  Addison AG Tech, LP  http://www.AddisonFund.com   \n",
       "\n",
       "                                         Specialties  \\\n",
       "0  ['autism' 'intellectual disability' 'teacher t...   \n",
       "1                                                 []   \n",
       "\n",
       "                                             Address              Industry  \\\n",
       "0  {'city': 'Kingston', 'country': 'canada', 'cou...  Education Management   \n",
       "1  {'city': 'Addison', 'country': 'united states'...    Financial Services   \n",
       "\n",
       "  Unnamed: 6  \n",
       "0        NaN  \n",
       "1        NaN  "
      ]
     },
     "execution_count": 3,
     "metadata": {},
     "output_type": "execute_result"
    }
   ],
   "source": [
    "df.head(2)"
   ]
  },
  {
   "cell_type": "code",
   "execution_count": 4,
   "id": "398eee34",
   "metadata": {
    "hidden": true
   },
   "outputs": [
    {
     "data": {
      "text/html": [
       "<div>\n",
       "<style scoped>\n",
       "    .dataframe tbody tr th:only-of-type {\n",
       "        vertical-align: middle;\n",
       "    }\n",
       "\n",
       "    .dataframe tbody tr th {\n",
       "        vertical-align: top;\n",
       "    }\n",
       "\n",
       "    .dataframe thead th {\n",
       "        text-align: right;\n",
       "    }\n",
       "</style>\n",
       "<table border=\"1\" class=\"dataframe\">\n",
       "  <thead>\n",
       "    <tr style=\"text-align: right;\">\n",
       "      <th></th>\n",
       "      <th>Unnamed: 0</th>\n",
       "      <th>CompanyName</th>\n",
       "      <th>Website</th>\n",
       "      <th>Specialties</th>\n",
       "      <th>Address</th>\n",
       "      <th>Industry</th>\n",
       "      <th>Unnamed: 6</th>\n",
       "    </tr>\n",
       "  </thead>\n",
       "  <tbody>\n",
       "    <tr>\n",
       "      <th>66340</th>\n",
       "      <td>7404336</td>\n",
       "      <td>Wireframe Marketing</td>\n",
       "      <td>https://wireframemarketing.com</td>\n",
       "      <td>['SEO Services' 'Logo Design' 'Branding' 'Soci...</td>\n",
       "      <td>{'city': 'REXBURG', 'country': 'united states'...</td>\n",
       "      <td>Marketing &amp; Advertising</td>\n",
       "      <td>NaN</td>\n",
       "    </tr>\n",
       "    <tr>\n",
       "      <th>66341</th>\n",
       "      <td>7404394</td>\n",
       "      <td>Wirehound Networks</td>\n",
       "      <td>http://www.wirehoundnetworks.com</td>\n",
       "      <td>[]</td>\n",
       "      <td>{'city': 'Richfield', 'country': 'united state...</td>\n",
       "      <td>Computer &amp; Network Security</td>\n",
       "      <td>NaN</td>\n",
       "    </tr>\n",
       "  </tbody>\n",
       "</table>\n",
       "</div>"
      ],
      "text/plain": [
       "      Unnamed: 0          CompanyName                           Website  \\\n",
       "66340    7404336  Wireframe Marketing    https://wireframemarketing.com   \n",
       "66341    7404394   Wirehound Networks  http://www.wirehoundnetworks.com   \n",
       "\n",
       "                                             Specialties  \\\n",
       "66340  ['SEO Services' 'Logo Design' 'Branding' 'Soci...   \n",
       "66341                                                 []   \n",
       "\n",
       "                                                 Address  \\\n",
       "66340  {'city': 'REXBURG', 'country': 'united states'...   \n",
       "66341  {'city': 'Richfield', 'country': 'united state...   \n",
       "\n",
       "                          Industry Unnamed: 6  \n",
       "66340      Marketing & Advertising        NaN  \n",
       "66341  Computer & Network Security        NaN  "
      ]
     },
     "execution_count": 4,
     "metadata": {},
     "output_type": "execute_result"
    }
   ],
   "source": [
    "df.tail(2)"
   ]
  },
  {
   "cell_type": "code",
   "execution_count": 8,
   "id": "fd7ccae9",
   "metadata": {
    "hidden": true
   },
   "outputs": [
    {
     "data": {
      "text/plain": [
       "6548"
      ]
     },
     "execution_count": 8,
     "metadata": {},
     "output_type": "execute_result"
    }
   ],
   "source": [
    "df = df[df['Industry'] == 'Computer Software'].reset_index()\n",
    "len(df)"
   ]
  },
  {
   "cell_type": "code",
   "execution_count": 9,
   "id": "ec5a4906",
   "metadata": {
    "hidden": true
   },
   "outputs": [
    {
     "data": {
      "text/html": [
       "<div>\n",
       "<style scoped>\n",
       "    .dataframe tbody tr th:only-of-type {\n",
       "        vertical-align: middle;\n",
       "    }\n",
       "\n",
       "    .dataframe tbody tr th {\n",
       "        vertical-align: top;\n",
       "    }\n",
       "\n",
       "    .dataframe thead th {\n",
       "        text-align: right;\n",
       "    }\n",
       "</style>\n",
       "<table border=\"1\" class=\"dataframe\">\n",
       "  <thead>\n",
       "    <tr style=\"text-align: right;\">\n",
       "      <th></th>\n",
       "      <th>index</th>\n",
       "      <th>Unnamed: 0</th>\n",
       "      <th>CompanyName</th>\n",
       "      <th>Website</th>\n",
       "      <th>Specialties</th>\n",
       "      <th>Address</th>\n",
       "      <th>Industry</th>\n",
       "      <th>Unnamed: 6</th>\n",
       "    </tr>\n",
       "  </thead>\n",
       "  <tbody>\n",
       "    <tr>\n",
       "      <th>0</th>\n",
       "      <td>11</td>\n",
       "      <td>5314</td>\n",
       "      <td>Sawa Impact Labs</td>\n",
       "      <td>https://sawa.gallery/</td>\n",
       "      <td>[]</td>\n",
       "      <td>{'city': 'Stanford', 'country': 'united states...</td>\n",
       "      <td>Computer Software</td>\n",
       "      <td>NaN</td>\n",
       "    </tr>\n",
       "    <tr>\n",
       "      <th>1</th>\n",
       "      <td>19</td>\n",
       "      <td>5505</td>\n",
       "      <td>OpenMI at the University of Michigan</td>\n",
       "      <td>https://maizepages.umich.edu/organization/openmi</td>\n",
       "      <td>[]</td>\n",
       "      <td>{'city': 'Ann Arbor', 'country': 'united state...</td>\n",
       "      <td>Computer Software</td>\n",
       "      <td>NaN</td>\n",
       "    </tr>\n",
       "  </tbody>\n",
       "</table>\n",
       "</div>"
      ],
      "text/plain": [
       "   index Unnamed: 0                           CompanyName  \\\n",
       "0     11       5314                      Sawa Impact Labs   \n",
       "1     19       5505  OpenMI at the University of Michigan   \n",
       "\n",
       "                                            Website Specialties  \\\n",
       "0                             https://sawa.gallery/          []   \n",
       "1  https://maizepages.umich.edu/organization/openmi          []   \n",
       "\n",
       "                                             Address           Industry  \\\n",
       "0  {'city': 'Stanford', 'country': 'united states...  Computer Software   \n",
       "1  {'city': 'Ann Arbor', 'country': 'united state...  Computer Software   \n",
       "\n",
       "  Unnamed: 6  \n",
       "0        NaN  \n",
       "1        NaN  "
      ]
     },
     "execution_count": 9,
     "metadata": {},
     "output_type": "execute_result"
    }
   ],
   "source": [
    "df.head(2)"
   ]
  },
  {
   "cell_type": "code",
   "execution_count": 42,
   "id": "a04e6162",
   "metadata": {
    "hidden": true
   },
   "outputs": [],
   "source": [
    "def parse_single_quote_json(json_str):\n",
    "    json_str_fixed = json_str.replace(\"'\", '\"').replace(\"None\", \"null\")\n",
    "    try:\n",
    "        return json.loads(json_str_fixed)\n",
    "    except json.JSONDecodeError as e:\n",
    "        print(f\"Error parsing JSON: {e}\")\n",
    "        return None\n",
    "    \n",
    "def _get_country(_str):\n",
    "    x = parse_single_quote_json(_str)\n",
    "    if x is None:\n",
    "        return None\n",
    "    if 'country' not in x.keys():\n",
    "        return None\n",
    "    return x['country']\n",
    "    "
   ]
  },
  {
   "cell_type": "code",
   "execution_count": 43,
   "id": "e0cb49bd",
   "metadata": {
    "hidden": true
   },
   "outputs": [
    {
     "name": "stdout",
     "output_type": "stream",
     "text": [
      "Error parsing JSON: Expecting ',' delimiter: line 1 column 19 (char 18)\n",
      "Error parsing JSON: Expecting ',' delimiter: line 1 column 19 (char 18)\n",
      "Error parsing JSON: Invalid control character at: line 1 column 18 (char 17)\n",
      "Error parsing JSON: Expecting ',' delimiter: line 1 column 18 (char 17)\n",
      "Error parsing JSON: Expecting ',' delimiter: line 1 column 13 (char 12)\n",
      "Error parsing JSON: Invalid control character at: line 1 column 12 (char 11)\n",
      "Error parsing JSON: Invalid control character at: line 1 column 81 (char 80)\n"
     ]
    }
   ],
   "source": [
    "df['country'] = df.Address.apply(lambda x: _get_country(x))"
   ]
  },
  {
   "cell_type": "markdown",
   "id": "ff602a0b",
   "metadata": {
    "hidden": true
   },
   "source": [
    "country is good (was checking if it's full of Chinese/Indian companies)"
   ]
  },
  {
   "cell_type": "code",
   "execution_count": 44,
   "id": "462eacf4",
   "metadata": {
    "hidden": true
   },
   "outputs": [
    {
     "data": {
      "text/plain": [
       "country\n",
       "united states     4734\n",
       "united kingdom     884\n",
       "canada             392\n",
       "australia          254\n",
       "singapore          172\n",
       "ireland             79\n",
       "new zealand         26\n",
       "Name: count, dtype: int64"
      ]
     },
     "execution_count": 44,
     "metadata": {},
     "output_type": "execute_result"
    }
   ],
   "source": [
    "df.country.value_counts()"
   ]
  },
  {
   "cell_type": "code",
   "execution_count": 47,
   "id": "12eeb91f",
   "metadata": {
    "hidden": true
   },
   "outputs": [
    {
     "data": {
      "text/plain": [
       "0                                https://sawa.gallery/\n",
       "1     https://maizepages.umich.edu/organization/openmi\n",
       "2                                   https://siftmo.com\n",
       "3                              https://www.aleios.com/\n",
       "4                                    http://niftys.com\n",
       "5                                 https://basewell.com\n",
       "6                                    http://journey.io\n",
       "7                             https://apple.co/3HcKeLx\n",
       "8                               https://sqdc.avoyer.ca\n",
       "9                             http://www.appcoderz.com\n",
       "10                                  https://appdive.io\n",
       "11                              https://greenpixie.com\n",
       "12                                http://tryparade.com\n",
       "13                       http://www.extendingfamily.us\n",
       "14                                 https://nixmade.com\n",
       "15                             https://www.jumproom.io\n",
       "16                                    https://maple.so\n",
       "17                         http://www.blueprintgtm.com\n",
       "18                          https://www.remofirst.com/\n",
       "19                                https://blockjoy.com\n",
       "Name: Website, dtype: object"
      ]
     },
     "execution_count": 47,
     "metadata": {},
     "output_type": "execute_result"
    }
   ],
   "source": [
    "df.Website.head(20)"
   ]
  },
  {
   "cell_type": "markdown",
   "id": "25275c9f",
   "metadata": {},
   "source": [
    "# Scrape website"
   ]
  },
  {
   "cell_type": "code",
   "execution_count": null,
   "id": "43a8330e",
   "metadata": {},
   "outputs": [],
   "source": []
  },
  {
   "cell_type": "code",
   "execution_count": null,
   "id": "d325b6da",
   "metadata": {},
   "outputs": [],
   "source": []
  },
  {
   "cell_type": "code",
   "execution_count": null,
   "id": "ae5595a7",
   "metadata": {},
   "outputs": [],
   "source": []
  },
  {
   "cell_type": "code",
   "execution_count": null,
   "id": "6045fe13",
   "metadata": {},
   "outputs": [],
   "source": []
  },
  {
   "cell_type": "code",
   "execution_count": null,
   "id": "ce014a2a",
   "metadata": {},
   "outputs": [],
   "source": []
  }
 ],
 "metadata": {
  "kernelspec": {
   "display_name": "Python 3 (ipykernel)",
   "language": "python",
   "name": "python3"
  },
  "language_info": {
   "codemirror_mode": {
    "name": "ipython",
    "version": 3
   },
   "file_extension": ".py",
   "mimetype": "text/x-python",
   "name": "python",
   "nbconvert_exporter": "python",
   "pygments_lexer": "ipython3",
   "version": "3.12.4"
  }
 },
 "nbformat": 4,
 "nbformat_minor": 5
}
