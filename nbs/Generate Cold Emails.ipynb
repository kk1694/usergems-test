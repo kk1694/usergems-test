{
 "cells": [
  {
   "cell_type": "markdown",
   "id": "4b8bafd4",
   "metadata": {},
   "source": [
    "# Create final spreadsheet"
   ]
  },
  {
   "cell_type": "code",
   "execution_count": 1,
   "id": "3dc88b72",
   "metadata": {},
   "outputs": [],
   "source": [
    "import pandas as pd\n",
    "\n",
    "from jobsfinder.gpts import has_sales_roles\n",
    "from jobsfinder.core import limit_parallel, cost_so_far"
   ]
  },
  {
   "cell_type": "code",
   "execution_count": 2,
   "id": "c72bb18f",
   "metadata": {},
   "outputs": [],
   "source": [
    "df = pd.read_csv(\"../data/04_jobs.csv\")"
   ]
  },
  {
   "cell_type": "code",
   "execution_count": 3,
   "id": "f9690f66",
   "metadata": {},
   "outputs": [
    {
     "data": {
      "text/plain": [
       "status\n",
       "No jobs              1513\n",
       "Job list              161\n",
       "Job open apply        110\n",
       "Max depth reached      18\n",
       "No content             10\n",
       "Name: count, dtype: int64"
      ]
     },
     "execution_count": 3,
     "metadata": {},
     "output_type": "execute_result"
    }
   ],
   "source": [
    "df.status.value_counts()"
   ]
  },
  {
   "cell_type": "code",
   "execution_count": 4,
   "id": "7d8d41df",
   "metadata": {},
   "outputs": [],
   "source": [
    "hiring = df[df.status == \"Job list\"].copy()"
   ]
  },
  {
   "cell_type": "code",
   "execution_count": 5,
   "id": "bba9fa45",
   "metadata": {},
   "outputs": [
    {
     "data": {
      "text/plain": [
       "161"
      ]
     },
     "execution_count": 5,
     "metadata": {},
     "output_type": "execute_result"
    }
   ],
   "source": [
    "len(hiring)"
   ]
  },
  {
   "cell_type": "code",
   "execution_count": 6,
   "id": "4be2ba25",
   "metadata": {},
   "outputs": [
    {
     "data": {
      "text/html": [
       "<div>\n",
       "<style scoped>\n",
       "    .dataframe tbody tr th:only-of-type {\n",
       "        vertical-align: middle;\n",
       "    }\n",
       "\n",
       "    .dataframe tbody tr th {\n",
       "        vertical-align: top;\n",
       "    }\n",
       "\n",
       "    .dataframe thead th {\n",
       "        text-align: right;\n",
       "    }\n",
       "</style>\n",
       "<table border=\"1\" class=\"dataframe\">\n",
       "  <thead>\n",
       "    <tr style=\"text-align: right;\">\n",
       "      <th></th>\n",
       "      <th>CompanyName</th>\n",
       "      <th>Website</th>\n",
       "      <th>scrape_status</th>\n",
       "      <th>md_status</th>\n",
       "      <th>md</th>\n",
       "      <th>html_length</th>\n",
       "      <th>md_length</th>\n",
       "      <th>valid_website</th>\n",
       "      <th>history</th>\n",
       "      <th>status</th>\n",
       "      <th>error</th>\n",
       "      <th>jobs</th>\n",
       "    </tr>\n",
       "  </thead>\n",
       "  <tbody>\n",
       "    <tr>\n",
       "      <th>9</th>\n",
       "      <td>Remofirst</td>\n",
       "      <td>https://www.remofirst.com/</td>\n",
       "      <td>Success</td>\n",
       "      <td>Success</td>\n",
       "      <td>Global HR Solutions for Remote Teams \\| Remofi...</td>\n",
       "      <td>1638294</td>\n",
       "      <td>10079</td>\n",
       "      <td>valid</td>\n",
       "      <td>[\"https://www.remofirst.com/\", \"https://www.re...</td>\n",
       "      <td>Job list</td>\n",
       "      <td>NaN</td>\n",
       "      <td>[\"Executive Assistant\", \"Customer Success Spec...</td>\n",
       "    </tr>\n",
       "    <tr>\n",
       "      <th>13</th>\n",
       "      <td>Adopt-Ag.com</td>\n",
       "      <td>https://www.adopt-ag.com</td>\n",
       "      <td>Success</td>\n",
       "      <td>Success</td>\n",
       "      <td>Agritech \\| Adopt\\n\\n\\ntop of page[![New Black...</td>\n",
       "      <td>712822</td>\n",
       "      <td>2764</td>\n",
       "      <td>valid</td>\n",
       "      <td>[\"https://www.adopt-ag.com\", \"https://www.adop...</td>\n",
       "      <td>Job list</td>\n",
       "      <td>NaN</td>\n",
       "      <td>[\"Full Stack Software Engineer\", \"Data Engineer\"]</td>\n",
       "    </tr>\n",
       "  </tbody>\n",
       "</table>\n",
       "</div>"
      ],
      "text/plain": [
       "     CompanyName                     Website scrape_status md_status  \\\n",
       "9      Remofirst  https://www.remofirst.com/       Success   Success   \n",
       "13  Adopt-Ag.com    https://www.adopt-ag.com       Success   Success   \n",
       "\n",
       "                                                   md  html_length  md_length  \\\n",
       "9   Global HR Solutions for Remote Teams \\| Remofi...      1638294      10079   \n",
       "13  Agritech \\| Adopt\\n\\n\\ntop of page[![New Black...       712822       2764   \n",
       "\n",
       "   valid_website                                            history    status  \\\n",
       "9          valid  [\"https://www.remofirst.com/\", \"https://www.re...  Job list   \n",
       "13         valid  [\"https://www.adopt-ag.com\", \"https://www.adop...  Job list   \n",
       "\n",
       "    error                                               jobs  \n",
       "9     NaN  [\"Executive Assistant\", \"Customer Success Spec...  \n",
       "13    NaN  [\"Full Stack Software Engineer\", \"Data Engineer\"]  "
      ]
     },
     "execution_count": 6,
     "metadata": {},
     "output_type": "execute_result"
    }
   ],
   "source": [
    "hiring.head(2)"
   ]
  },
  {
   "cell_type": "code",
   "execution_count": 7,
   "id": "ba26cbec",
   "metadata": {},
   "outputs": [
    {
     "data": {
      "text/plain": [
       "SalesRoles(qualified=True, best_roles=['Account Executive', 'Director of Customer Success'], email_line=\"I saw you're hiring for an account executive and a director of customer success.\")"
      ]
     },
     "execution_count": 7,
     "metadata": {},
     "output_type": "execute_result"
    }
   ],
   "source": [
    "await has_sales_roles(hiring.jobs.iloc[0])"
   ]
  },
  {
   "cell_type": "code",
   "execution_count": 9,
   "id": "03802d13",
   "metadata": {},
   "outputs": [
    {
     "name": "stderr",
     "output_type": "stream",
     "text": [
      "100%|████████████████████████████████████████████████████████████████████████████████████████████████████████████████████████████████████████████████████████████████████████████████████████████████████████████████████████████████████| 161/161 [00:35<00:00,  4.52it/s]\n"
     ]
    }
   ],
   "source": [
    "tasks = [has_sales_roles(x) for x in hiring.jobs]\n",
    "\n",
    "quals = await limit_parallel(tasks)"
   ]
  },
  {
   "cell_type": "code",
   "execution_count": 10,
   "id": "3e81c6bb",
   "metadata": {},
   "outputs": [],
   "source": [
    "hiring['qualified'] = [x.qualified for x in quals]\n",
    "hiring['best_roles'] = [\",\".join(x.best_roles) for x in quals]\n",
    "hiring['line'] = [x.email_line for x in quals]"
   ]
  },
  {
   "cell_type": "code",
   "execution_count": 11,
   "id": "04bff04c",
   "metadata": {},
   "outputs": [
    {
     "data": {
      "text/plain": [
       "qualified\n",
       "False    92\n",
       "True     69\n",
       "Name: count, dtype: int64"
      ]
     },
     "execution_count": 11,
     "metadata": {},
     "output_type": "execute_result"
    }
   ],
   "source": [
    "hiring.qualified.value_counts()"
   ]
  },
  {
   "cell_type": "code",
   "execution_count": 12,
   "id": "886691cd",
   "metadata": {},
   "outputs": [],
   "source": [
    "qualified = hiring[hiring.qualified].copy()"
   ]
  },
  {
   "cell_type": "code",
   "execution_count": 13,
   "id": "532d6fe1",
   "metadata": {},
   "outputs": [
    {
     "data": {
      "text/plain": [
       "69"
      ]
     },
     "execution_count": 13,
     "metadata": {},
     "output_type": "execute_result"
    }
   ],
   "source": [
    "len(qualified)"
   ]
  },
  {
   "cell_type": "code",
   "execution_count": 14,
   "id": "d18f413d",
   "metadata": {},
   "outputs": [
    {
     "data": {
      "text/plain": [
       "9         https://www.remofirst.com/\n",
       "82           https://www.rutter.com/\n",
       "91           https://www.alltius.ai/\n",
       "100         https://thatchhealth.com\n",
       "105              http://mintlify.com\n",
       "                    ...             \n",
       "1779       https://www.sixstring.us/\n",
       "1861            http://zetachain.com\n",
       "1864          https://sievedata.com/\n",
       "1873         https://www.zootools.co\n",
       "1965    https://www.trydownstream.io\n",
       "Name: Website, Length: 69, dtype: object"
      ]
     },
     "execution_count": 14,
     "metadata": {},
     "output_type": "execute_result"
    }
   ],
   "source": [
    "qualified.Website"
   ]
  },
  {
   "cell_type": "markdown",
   "id": "c51e0ba8",
   "metadata": {},
   "source": [
    "checking manually, 2 (precision) errors in the whole flow"
   ]
  },
  {
   "cell_type": "code",
   "execution_count": 15,
   "id": "9af43b4e",
   "metadata": {},
   "outputs": [],
   "source": [
    "def _create_email(x):\n",
    "    return f\"\"\"\n",
    "Hey [firstName],\n",
    "\n",
    "{x} Businesss must be going good!\n",
    "\n",
    "Given your trajectory, I assume your doing everything to increase conversion. That's also the reason we've built UserGems. You can automatically capture buying signals from your prospect & put your pipeline on auto-pilot.\n",
    "\n",
    "Let me know if that's of interest.\n",
    "\n",
    "Best,\n",
    "[Your Name]\n",
    "    \"\"\".strip()"
   ]
  },
  {
   "cell_type": "code",
   "execution_count": 16,
   "id": "427790ec",
   "metadata": {},
   "outputs": [],
   "source": [
    "qualified['email'] = qualified.line.apply(_create_email)"
   ]
  },
  {
   "cell_type": "code",
   "execution_count": 17,
   "id": "089ad306",
   "metadata": {},
   "outputs": [],
   "source": [
    "qualified.to_csv(\"../data/06_qualifid.csv\", index=False)"
   ]
  },
  {
   "cell_type": "markdown",
   "id": "14093b30",
   "metadata": {},
   "source": [
    "# Total cost for the day"
   ]
  },
  {
   "cell_type": "code",
   "execution_count": 18,
   "id": "cab34cf8",
   "metadata": {},
   "outputs": [
    {
     "data": {
      "text/plain": [
       "4.905710024999999"
      ]
     },
     "execution_count": 18,
     "metadata": {},
     "output_type": "execute_result"
    }
   ],
   "source": [
    "cost_so_far()"
   ]
  },
  {
   "cell_type": "code",
   "execution_count": null,
   "id": "7e410158",
   "metadata": {},
   "outputs": [],
   "source": []
  }
 ],
 "metadata": {
  "kernelspec": {
   "display_name": "Python 3 (ipykernel)",
   "language": "python",
   "name": "python3"
  },
  "language_info": {
   "codemirror_mode": {
    "name": "ipython",
    "version": 3
   },
   "file_extension": ".py",
   "mimetype": "text/x-python",
   "name": "python",
   "nbconvert_exporter": "python",
   "pygments_lexer": "ipython3",
   "version": "3.12.4"
  }
 },
 "nbformat": 4,
 "nbformat_minor": 5
}
