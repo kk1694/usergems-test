{
 "cells": [
  {
   "cell_type": "code",
   "execution_count": 1,
   "id": "3dc88b72",
   "metadata": {},
   "outputs": [],
   "source": [
    "import pandas as pd\n",
    "\n",
    "from jobsfinder.gpts import has_sales_roles\n",
    "from jobsfinder.core import limit_parallel"
   ]
  },
  {
   "cell_type": "code",
   "execution_count": 2,
   "id": "c72bb18f",
   "metadata": {},
   "outputs": [],
   "source": [
    "df = pd.read_csv(\"../data/04_jobs.csv\")"
   ]
  },
  {
   "cell_type": "code",
   "execution_count": 3,
   "id": "f9690f66",
   "metadata": {},
   "outputs": [
    {
     "data": {
      "text/plain": [
       "status\n",
       "No jobs              1471\n",
       "Loop detected         226\n",
       "Job open apply         56\n",
       "Job list               43\n",
       "Max depth reached       6\n",
       "Name: count, dtype: int64"
      ]
     },
     "execution_count": 3,
     "metadata": {},
     "output_type": "execute_result"
    }
   ],
   "source": [
    "df.status.value_counts()"
   ]
  },
  {
   "cell_type": "code",
   "execution_count": 4,
   "id": "7d8d41df",
   "metadata": {},
   "outputs": [],
   "source": [
    "hiring = df[df.status == \"Job list\"].copy()"
   ]
  },
  {
   "cell_type": "code",
   "execution_count": 5,
   "id": "bba9fa45",
   "metadata": {},
   "outputs": [
    {
     "data": {
      "text/plain": [
       "43"
      ]
     },
     "execution_count": 5,
     "metadata": {},
     "output_type": "execute_result"
    }
   ],
   "source": [
    "len(hiring)"
   ]
  },
  {
   "cell_type": "code",
   "execution_count": 6,
   "id": "4be2ba25",
   "metadata": {},
   "outputs": [
    {
     "data": {
      "text/html": [
       "<div>\n",
       "<style scoped>\n",
       "    .dataframe tbody tr th:only-of-type {\n",
       "        vertical-align: middle;\n",
       "    }\n",
       "\n",
       "    .dataframe tbody tr th {\n",
       "        vertical-align: top;\n",
       "    }\n",
       "\n",
       "    .dataframe thead th {\n",
       "        text-align: right;\n",
       "    }\n",
       "</style>\n",
       "<table border=\"1\" class=\"dataframe\">\n",
       "  <thead>\n",
       "    <tr style=\"text-align: right;\">\n",
       "      <th></th>\n",
       "      <th>CompanyName</th>\n",
       "      <th>Website</th>\n",
       "      <th>scrape_status</th>\n",
       "      <th>md_status</th>\n",
       "      <th>md</th>\n",
       "      <th>html_length</th>\n",
       "      <th>md_length</th>\n",
       "      <th>valid_website</th>\n",
       "      <th>history</th>\n",
       "      <th>status</th>\n",
       "      <th>error</th>\n",
       "      <th>jobs</th>\n",
       "    </tr>\n",
       "  </thead>\n",
       "  <tbody>\n",
       "    <tr>\n",
       "      <th>105</th>\n",
       "      <td>Mintlify</td>\n",
       "      <td>http://mintlify.com</td>\n",
       "      <td>Success</td>\n",
       "      <td>Success</td>\n",
       "      <td>Mintlify \\- The modern standard for documentat...</td>\n",
       "      <td>114033</td>\n",
       "      <td>6819</td>\n",
       "      <td>valid</td>\n",
       "      <td>[\"http://mintlify.com\", \"/careers\"]</td>\n",
       "      <td>Job list</td>\n",
       "      <td>NaN</td>\n",
       "      <td>[\"Founding Account Executive\", \"Senior Fronten...</td>\n",
       "    </tr>\n",
       "    <tr>\n",
       "      <th>117</th>\n",
       "      <td>Zuplo</td>\n",
       "      <td>https://zuplo.com</td>\n",
       "      <td>Success</td>\n",
       "      <td>Success</td>\n",
       "      <td>Zuplo API ManagementProduct[Docs](https://zupl...</td>\n",
       "      <td>363987</td>\n",
       "      <td>8175</td>\n",
       "      <td>valid</td>\n",
       "      <td>[\"https://zuplo.com\", \"/careers\"]</td>\n",
       "      <td>Job list</td>\n",
       "      <td>NaN</td>\n",
       "      <td>[\"Designer Extraordinaire\"]</td>\n",
       "    </tr>\n",
       "  </tbody>\n",
       "</table>\n",
       "</div>"
      ],
      "text/plain": [
       "    CompanyName              Website scrape_status md_status  \\\n",
       "105    Mintlify  http://mintlify.com       Success   Success   \n",
       "117       Zuplo    https://zuplo.com       Success   Success   \n",
       "\n",
       "                                                    md  html_length  \\\n",
       "105  Mintlify \\- The modern standard for documentat...       114033   \n",
       "117  Zuplo API ManagementProduct[Docs](https://zupl...       363987   \n",
       "\n",
       "     md_length valid_website                              history    status  \\\n",
       "105       6819         valid  [\"http://mintlify.com\", \"/careers\"]  Job list   \n",
       "117       8175         valid    [\"https://zuplo.com\", \"/careers\"]  Job list   \n",
       "\n",
       "     error                                               jobs  \n",
       "105    NaN  [\"Founding Account Executive\", \"Senior Fronten...  \n",
       "117    NaN                        [\"Designer Extraordinaire\"]  "
      ]
     },
     "execution_count": 6,
     "metadata": {},
     "output_type": "execute_result"
    }
   ],
   "source": [
    "hiring.head(2)"
   ]
  },
  {
   "cell_type": "code",
   "execution_count": 7,
   "id": "ba26cbec",
   "metadata": {},
   "outputs": [
    {
     "data": {
      "text/plain": [
       "SalesRoles(qualified=True, best_roles=['Founding Account Executive', 'Head of Growth'], email_line=\"I saw you're hiring for a founding account executive and a head of growth.\")"
      ]
     },
     "execution_count": 7,
     "metadata": {},
     "output_type": "execute_result"
    }
   ],
   "source": [
    "await has_sales_roles(hiring.jobs.iloc[0])"
   ]
  },
  {
   "cell_type": "code",
   "execution_count": 8,
   "id": "03802d13",
   "metadata": {},
   "outputs": [
    {
     "name": "stderr",
     "output_type": "stream",
     "text": [
      "100%|██████████████████████████████████████████████████████████████████████████████████████████████████████████████████████████████████████████████████████████████████████████████████████████████████████████████████████████████████████| 43/43 [01:51<00:00,  2.60s/it]\n"
     ]
    }
   ],
   "source": [
    "tasks = [has_sales_roles(x) for x in qualified.jobs]\n",
    "\n",
    "quals = await limit_parallel(tasks)"
   ]
  },
  {
   "cell_type": "code",
   "execution_count": 11,
   "id": "3e81c6bb",
   "metadata": {},
   "outputs": [],
   "source": [
    "hiring['qualified'] = [x.qualified for x in quals]\n",
    "hiring['best_roles'] = [\",\".join(x.best_roles) for x in quals]\n",
    "hiring['line'] = [x.email_line for x in quals]"
   ]
  },
  {
   "cell_type": "code",
   "execution_count": 12,
   "id": "04bff04c",
   "metadata": {},
   "outputs": [
    {
     "data": {
      "text/plain": [
       "qualified\n",
       "False    33\n",
       "True     10\n",
       "Name: count, dtype: int64"
      ]
     },
     "execution_count": 12,
     "metadata": {},
     "output_type": "execute_result"
    }
   ],
   "source": [
    "hiring.qualified.value_counts()"
   ]
  },
  {
   "cell_type": "code",
   "execution_count": 20,
   "id": "886691cd",
   "metadata": {},
   "outputs": [],
   "source": [
    "qualified = hiring[hiring.qualified].copy()"
   ]
  },
  {
   "cell_type": "code",
   "execution_count": 21,
   "id": "532d6fe1",
   "metadata": {},
   "outputs": [
    {
     "data": {
      "text/plain": [
       "10"
      ]
     },
     "execution_count": 21,
     "metadata": {},
     "output_type": "execute_result"
    }
   ],
   "source": [
    "len(qualified)"
   ]
  },
  {
   "cell_type": "code",
   "execution_count": 22,
   "id": "d18f413d",
   "metadata": {},
   "outputs": [
    {
     "data": {
      "text/plain": [
       "105                       http://mintlify.com\n",
       "184                    http://edgeandnode.com\n",
       "249                 https://www.paraform.com/\n",
       "312                   https://codecrafters.io\n",
       "700                   https://bloomsystems.io\n",
       "732     https://www.climatetechcocktails.com/\n",
       "1007                https://mobilityroute.com\n",
       "1454            https://www.mycourseflow.com/\n",
       "1514                http://www.outamation.com\n",
       "1770               https://www.tensordock.com\n",
       "Name: Website, dtype: object"
      ]
     },
     "execution_count": 22,
     "metadata": {},
     "output_type": "execute_result"
    }
   ],
   "source": [
    "qualified.Website"
   ]
  },
  {
   "cell_type": "markdown",
   "id": "c51e0ba8",
   "metadata": {},
   "source": [
    "checking manually, 2 (precision) errors in the whole flow"
   ]
  },
  {
   "cell_type": "code",
   "execution_count": 23,
   "id": "9af43b4e",
   "metadata": {},
   "outputs": [],
   "source": [
    "def _create_email(x):\n",
    "    return f\"\"\"\n",
    "Hey [firstName],\n",
    "\n",
    "{x}. Businesss must be going good!\n",
    "\n",
    "Given your trajectory, I assume your doing everything to increase conversion. That's also the reason we've built UserGems. You can automatically capture buying signals from your prospect & put your pipeline on auto-pilot.\n",
    "\n",
    "Let me know if that's of interest.\n",
    "\n",
    "Best,\n",
    "[Your Name]\n",
    "    \"\"\".strip()"
   ]
  },
  {
   "cell_type": "code",
   "execution_count": 24,
   "id": "427790ec",
   "metadata": {},
   "outputs": [],
   "source": [
    "qualified['email'] = qualified.line.apply(_create_email)"
   ]
  },
  {
   "cell_type": "code",
   "execution_count": 26,
   "id": "089ad306",
   "metadata": {},
   "outputs": [],
   "source": [
    "qualified.to_csv(\"../data/06_qualifid.csv\", index=False)"
   ]
  },
  {
   "cell_type": "code",
   "execution_count": null,
   "id": "cab34cf8",
   "metadata": {},
   "outputs": [],
   "source": []
  },
  {
   "cell_type": "code",
   "execution_count": null,
   "id": "7e410158",
   "metadata": {},
   "outputs": [],
   "source": []
  }
 ],
 "metadata": {
  "kernelspec": {
   "display_name": "Python 3 (ipykernel)",
   "language": "python",
   "name": "python3"
  },
  "language_info": {
   "codemirror_mode": {
    "name": "ipython",
    "version": 3
   },
   "file_extension": ".py",
   "mimetype": "text/x-python",
   "name": "python",
   "nbconvert_exporter": "python",
   "pygments_lexer": "ipython3",
   "version": "3.12.4"
  }
 },
 "nbformat": 4,
 "nbformat_minor": 5
}
